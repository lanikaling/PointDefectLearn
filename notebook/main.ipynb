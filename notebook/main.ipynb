{
 "cells": [
  {
   "cell_type": "code",
   "execution_count": 1,
   "metadata": {},
   "outputs": [],
   "source": [
    "import sys\n",
    "sys.path.append('../')\n",
    "import numpy as np\n",
    "\n",
    "%load_ext line_profiler\n",
    "%load_ext autoreload\n",
    "%autoreload 2"
   ]
  },
  {
   "cell_type": "markdown",
   "metadata": {},
   "source": [
    "# Train"
   ]
  },
  {
   "cell_type": "code",
   "execution_count": 2,
   "metadata": {},
   "outputs": [
    {
     "name": "stderr",
     "output_type": "stream",
     "text": [
      "Seed set to 2\n",
      "GPU available: True (mps), used: True\n",
      "TPU available: False, using: 0 TPU cores\n",
      "IPU available: False, using: 0 IPUs\n",
      "HPU available: False, using: 0 HPUs\n",
      "`Trainer(val_check_interval=1.0)` was configured so validation will run at the end of the training epoch..\n",
      "Missing logger folder: ../logs/logs_CrossEntropy_conv2d_robust_2/lightning_logs\n"
     ]
    },
    {
     "name": "stdout",
     "output_type": "stream",
     "text": [
      "{'data_filepath': '../data/pdf',\n",
      " 'dropout_rate': 0.5,\n",
      " 'epochs': 500,\n",
      " 'if_cuda': False,\n",
      " 'input_noise': False,\n",
      " 'log_dir': '../logs',\n",
      " 'loss': 'CrossEntropy',\n",
      " 'lr': 0.0001,\n",
      " 'model_name': 'conv2d_robust',\n",
      " 'noise_scale': 0.0,\n",
      " 'normalization': 'sample',\n",
      " 'num_gpus': 0,\n",
      " 'num_workers': 8,\n",
      " 'precision': 32,\n",
      " 'seed': 2,\n",
      " 'test_batch': 32,\n",
      " 'train_batch': 32,\n",
      " 'val_batch': 32}\n"
     ]
    },
    {
     "name": "stderr",
     "output_type": "stream",
     "text": [
      "\n",
      "  | Name      | Type                   | Params\n",
      "-----------------------------------------------------\n",
      "0 | model     | Conv2DRobustClassifier | 3.6 M \n",
      "1 | loss_func | CrossEntropyLoss       | 0     \n",
      "-----------------------------------------------------\n",
      "3.6 M     Trainable params\n",
      "0         Non-trainable params\n",
      "3.6 M     Total params\n",
      "14.443    Total estimated model params size (MB)\n"
     ]
    },
    {
     "name": "stdout",
     "output_type": "stream",
     "text": [
      "Epoch 0: 100%|██████████| 352/352 [00:15<00:00, 23.31it/s, v_num=0, train_loss_step=1.250, val_loss_step=1.300, val_loss_epoch=1.400]"
     ]
    },
    {
     "name": "stderr",
     "output_type": "stream",
     "text": [
      "Epoch 0, global step 352: 'val_loss_epoch' reached 1.40272 (best 1.40272), saving model to '/Users/Ling/dev/distortion_learning/ll_distortion_learning/logs/logs_CrossEntropy_conv2d_robust_2/checkpoints/epoch=00-val_loss=0.00.ckpt' as top 3\n"
     ]
    },
    {
     "name": "stdout",
     "output_type": "stream",
     "text": [
      "Epoch 1: 100%|██████████| 352/352 [00:13<00:00, 26.83it/s, v_num=0, train_loss_step=1.620, val_loss_step=1.300, val_loss_epoch=1.460, train_loss_epoch=1.380, learning_rate=0.0001]"
     ]
    },
    {
     "name": "stderr",
     "output_type": "stream",
     "text": [
      "Epoch 1, global step 704: 'val_loss_epoch' reached 1.46144 (best 1.40272), saving model to '/Users/Ling/dev/distortion_learning/ll_distortion_learning/logs/logs_CrossEntropy_conv2d_robust_2/checkpoints/epoch=01-val_loss=0.00.ckpt' as top 3\n"
     ]
    },
    {
     "name": "stdout",
     "output_type": "stream",
     "text": [
      "Epoch 2: 100%|██████████| 352/352 [00:13<00:00, 26.86it/s, v_num=0, train_loss_step=1.340, val_loss_step=1.120, val_loss_epoch=1.280, train_loss_epoch=1.270, learning_rate=0.0001]"
     ]
    },
    {
     "name": "stderr",
     "output_type": "stream",
     "text": [
      "Epoch 2, global step 1056: 'val_loss_epoch' reached 1.28007 (best 1.28007), saving model to '/Users/Ling/dev/distortion_learning/ll_distortion_learning/logs/logs_CrossEntropy_conv2d_robust_2/checkpoints/epoch=02-val_loss=0.00.ckpt' as top 3\n"
     ]
    },
    {
     "name": "stdout",
     "output_type": "stream",
     "text": [
      "Epoch 3: 100%|██████████| 352/352 [00:13<00:00, 26.84it/s, v_num=0, train_loss_step=1.390, val_loss_step=0.981, val_loss_epoch=1.140, train_loss_epoch=1.180, learning_rate=0.0001]"
     ]
    },
    {
     "name": "stderr",
     "output_type": "stream",
     "text": [
      "Epoch 3, global step 1408: 'val_loss_epoch' reached 1.13906 (best 1.13906), saving model to '/Users/Ling/dev/distortion_learning/ll_distortion_learning/logs/logs_CrossEntropy_conv2d_robust_2/checkpoints/epoch=03-val_loss=0.00.ckpt' as top 3\n"
     ]
    },
    {
     "name": "stdout",
     "output_type": "stream",
     "text": [
      "Epoch 4: 100%|██████████| 352/352 [00:13<00:00, 26.84it/s, v_num=0, train_loss_step=1.120, val_loss_step=0.903, val_loss_epoch=1.030, train_loss_epoch=1.120, learning_rate=0.0001]"
     ]
    },
    {
     "name": "stderr",
     "output_type": "stream",
     "text": [
      "Epoch 4, global step 1760: 'val_loss_epoch' reached 1.03493 (best 1.03493), saving model to '/Users/Ling/dev/distortion_learning/ll_distortion_learning/logs/logs_CrossEntropy_conv2d_robust_2/checkpoints/epoch=04-val_loss=0.00.ckpt' as top 3\n"
     ]
    },
    {
     "name": "stdout",
     "output_type": "stream",
     "text": [
      "Epoch 5: 100%|██████████| 352/352 [00:13<00:00, 26.75it/s, v_num=0, train_loss_step=0.802, val_loss_step=0.823, val_loss_epoch=0.979, train_loss_epoch=1.060, learning_rate=0.0001]"
     ]
    },
    {
     "name": "stderr",
     "output_type": "stream",
     "text": [
      "Epoch 5, global step 2112: 'val_loss_epoch' reached 0.97929 (best 0.97929), saving model to '/Users/Ling/dev/distortion_learning/ll_distortion_learning/logs/logs_CrossEntropy_conv2d_robust_2/checkpoints/epoch=05-val_loss=0.00.ckpt' as top 3\n"
     ]
    },
    {
     "name": "stdout",
     "output_type": "stream",
     "text": [
      "Epoch 6: 100%|██████████| 352/352 [00:13<00:00, 26.44it/s, v_num=0, train_loss_step=1.570, val_loss_step=0.828, val_loss_epoch=0.999, train_loss_epoch=1.010, learning_rate=0.0001]"
     ]
    },
    {
     "name": "stderr",
     "output_type": "stream",
     "text": [
      "Epoch 6, global step 2464: 'val_loss_epoch' reached 0.99895 (best 0.97929), saving model to '/Users/Ling/dev/distortion_learning/ll_distortion_learning/logs/logs_CrossEntropy_conv2d_robust_2/checkpoints/epoch=06-val_loss=0.00.ckpt' as top 3\n"
     ]
    },
    {
     "name": "stdout",
     "output_type": "stream",
     "text": [
      "Epoch 7: 100%|██████████| 352/352 [00:13<00:00, 26.77it/s, v_num=0, train_loss_step=0.867, val_loss_step=0.739, val_loss_epoch=0.906, train_loss_epoch=0.947, learning_rate=0.0001]"
     ]
    },
    {
     "name": "stderr",
     "output_type": "stream",
     "text": [
      "Epoch 7, global step 2816: 'val_loss_epoch' reached 0.90611 (best 0.90611), saving model to '/Users/Ling/dev/distortion_learning/ll_distortion_learning/logs/logs_CrossEntropy_conv2d_robust_2/checkpoints/epoch=07-val_loss=0.00.ckpt' as top 3\n"
     ]
    },
    {
     "name": "stdout",
     "output_type": "stream",
     "text": [
      "Epoch 8: 100%|██████████| 352/352 [00:13<00:00, 26.71it/s, v_num=0, train_loss_step=0.573, val_loss_step=0.688, val_loss_epoch=0.852, train_loss_epoch=0.900, learning_rate=0.0001]"
     ]
    },
    {
     "name": "stderr",
     "output_type": "stream",
     "text": [
      "Epoch 8, global step 3168: 'val_loss_epoch' reached 0.85196 (best 0.85196), saving model to '/Users/Ling/dev/distortion_learning/ll_distortion_learning/logs/logs_CrossEntropy_conv2d_robust_2/checkpoints/epoch=08-val_loss=0.00.ckpt' as top 3\n"
     ]
    },
    {
     "name": "stdout",
     "output_type": "stream",
     "text": [
      "Epoch 9: 100%|██████████| 352/352 [00:13<00:00, 26.83it/s, v_num=0, train_loss_step=0.790, val_loss_step=0.762, val_loss_epoch=0.868, train_loss_epoch=0.869, learning_rate=0.0001]"
     ]
    },
    {
     "name": "stderr",
     "output_type": "stream",
     "text": [
      "Epoch 9, global step 3520: 'val_loss_epoch' reached 0.86761 (best 0.85196), saving model to '/Users/Ling/dev/distortion_learning/ll_distortion_learning/logs/logs_CrossEntropy_conv2d_robust_2/checkpoints/epoch=09-val_loss=0.00.ckpt' as top 3\n"
     ]
    },
    {
     "name": "stdout",
     "output_type": "stream",
     "text": [
      "Epoch 10: 100%|██████████| 352/352 [00:13<00:00, 26.80it/s, v_num=0, train_loss_step=0.812, val_loss_step=0.678, val_loss_epoch=0.759, train_loss_epoch=0.838, learning_rate=0.0001]"
     ]
    },
    {
     "name": "stderr",
     "output_type": "stream",
     "text": [
      "Epoch 10, global step 3872: 'val_loss_epoch' reached 0.75859 (best 0.75859), saving model to '/Users/Ling/dev/distortion_learning/ll_distortion_learning/logs/logs_CrossEntropy_conv2d_robust_2/checkpoints/epoch=10-val_loss=0.00.ckpt' as top 3\n"
     ]
    },
    {
     "name": "stdout",
     "output_type": "stream",
     "text": [
      "Epoch 11: 100%|██████████| 352/352 [00:13<00:00, 26.77it/s, v_num=0, train_loss_step=0.980, val_loss_step=0.626, val_loss_epoch=0.722, train_loss_epoch=0.807, learning_rate=0.0001]"
     ]
    },
    {
     "name": "stderr",
     "output_type": "stream",
     "text": [
      "Epoch 11, global step 4224: 'val_loss_epoch' reached 0.72238 (best 0.72238), saving model to '/Users/Ling/dev/distortion_learning/ll_distortion_learning/logs/logs_CrossEntropy_conv2d_robust_2/checkpoints/epoch=11-val_loss=0.00.ckpt' as top 3\n"
     ]
    },
    {
     "name": "stdout",
     "output_type": "stream",
     "text": [
      "Epoch 12: 100%|██████████| 352/352 [00:13<00:00, 26.80it/s, v_num=0, train_loss_step=0.772, val_loss_step=0.664, val_loss_epoch=0.777, train_loss_epoch=0.788, learning_rate=0.0001]"
     ]
    },
    {
     "name": "stderr",
     "output_type": "stream",
     "text": [
      "Epoch 12, global step 4576: 'val_loss_epoch' reached 0.77741 (best 0.72238), saving model to '/Users/Ling/dev/distortion_learning/ll_distortion_learning/logs/logs_CrossEntropy_conv2d_robust_2/checkpoints/epoch=12-val_loss=0.00.ckpt' as top 3\n"
     ]
    },
    {
     "name": "stdout",
     "output_type": "stream",
     "text": [
      "Epoch 13: 100%|██████████| 352/352 [00:13<00:00, 26.80it/s, v_num=0, train_loss_step=0.588, val_loss_step=0.608, val_loss_epoch=0.716, train_loss_epoch=0.759, learning_rate=0.0001]"
     ]
    },
    {
     "name": "stderr",
     "output_type": "stream",
     "text": [
      "Epoch 13, global step 4928: 'val_loss_epoch' reached 0.71573 (best 0.71573), saving model to '/Users/Ling/dev/distortion_learning/ll_distortion_learning/logs/logs_CrossEntropy_conv2d_robust_2/checkpoints/epoch=13-val_loss=0.00.ckpt' as top 3\n"
     ]
    },
    {
     "name": "stdout",
     "output_type": "stream",
     "text": [
      "Epoch 14: 100%|██████████| 352/352 [00:13<00:00, 26.73it/s, v_num=0, train_loss_step=0.627, val_loss_step=0.613, val_loss_epoch=0.712, train_loss_epoch=0.740, learning_rate=0.0001]"
     ]
    },
    {
     "name": "stderr",
     "output_type": "stream",
     "text": [
      "Epoch 14, global step 5280: 'val_loss_epoch' reached 0.71196 (best 0.71196), saving model to '/Users/Ling/dev/distortion_learning/ll_distortion_learning/logs/logs_CrossEntropy_conv2d_robust_2/checkpoints/epoch=14-val_loss=0.00.ckpt' as top 3\n"
     ]
    },
    {
     "name": "stdout",
     "output_type": "stream",
     "text": [
      "Epoch 15: 100%|██████████| 352/352 [00:13<00:00, 26.79it/s, v_num=0, train_loss_step=0.773, val_loss_step=0.588, val_loss_epoch=0.735, train_loss_epoch=0.724, learning_rate=0.0001]"
     ]
    },
    {
     "name": "stderr",
     "output_type": "stream",
     "text": [
      "Epoch 15, global step 5632: 'val_loss_epoch' was not in top 3\n"
     ]
    },
    {
     "name": "stdout",
     "output_type": "stream",
     "text": [
      "Epoch 16: 100%|██████████| 352/352 [00:13<00:00, 26.73it/s, v_num=0, train_loss_step=0.740, val_loss_step=0.517, val_loss_epoch=0.664, train_loss_epoch=0.714, learning_rate=0.0001]"
     ]
    },
    {
     "name": "stderr",
     "output_type": "stream",
     "text": [
      "Epoch 16, global step 5984: 'val_loss_epoch' reached 0.66404 (best 0.66404), saving model to '/Users/Ling/dev/distortion_learning/ll_distortion_learning/logs/logs_CrossEntropy_conv2d_robust_2/checkpoints/epoch=16-val_loss=0.00.ckpt' as top 3\n"
     ]
    },
    {
     "name": "stdout",
     "output_type": "stream",
     "text": [
      "Epoch 17: 100%|██████████| 352/352 [00:13<00:00, 26.86it/s, v_num=0, train_loss_step=1.100, val_loss_step=0.512, val_loss_epoch=0.643, train_loss_epoch=0.692, learning_rate=0.0001]"
     ]
    },
    {
     "name": "stderr",
     "output_type": "stream",
     "text": [
      "Epoch 17, global step 6336: 'val_loss_epoch' reached 0.64272 (best 0.64272), saving model to '/Users/Ling/dev/distortion_learning/ll_distortion_learning/logs/logs_CrossEntropy_conv2d_robust_2/checkpoints/epoch=17-val_loss=0.00.ckpt' as top 3\n"
     ]
    },
    {
     "name": "stdout",
     "output_type": "stream",
     "text": [
      "Epoch 18: 100%|██████████| 352/352 [00:13<00:00, 26.80it/s, v_num=0, train_loss_step=0.480, val_loss_step=0.483, val_loss_epoch=0.644, train_loss_epoch=0.668, learning_rate=0.0001]"
     ]
    },
    {
     "name": "stderr",
     "output_type": "stream",
     "text": [
      "Epoch 18, global step 6688: 'val_loss_epoch' reached 0.64447 (best 0.64272), saving model to '/Users/Ling/dev/distortion_learning/ll_distortion_learning/logs/logs_CrossEntropy_conv2d_robust_2/checkpoints/epoch=18-val_loss=0.00.ckpt' as top 3\n"
     ]
    },
    {
     "name": "stdout",
     "output_type": "stream",
     "text": [
      "Epoch 19: 100%|██████████| 352/352 [00:13<00:00, 26.75it/s, v_num=0, train_loss_step=0.745, val_loss_step=0.441, val_loss_epoch=0.583, train_loss_epoch=0.649, learning_rate=0.0001]"
     ]
    },
    {
     "name": "stderr",
     "output_type": "stream",
     "text": [
      "Epoch 19, global step 7040: 'val_loss_epoch' reached 0.58344 (best 0.58344), saving model to '/Users/Ling/dev/distortion_learning/ll_distortion_learning/logs/logs_CrossEntropy_conv2d_robust_2/checkpoints/epoch=19-val_loss=0.00.ckpt' as top 3\n"
     ]
    },
    {
     "name": "stdout",
     "output_type": "stream",
     "text": [
      "Epoch 20: 100%|██████████| 352/352 [00:13<00:00, 26.85it/s, v_num=0, train_loss_step=0.415, val_loss_step=0.396, val_loss_epoch=0.555, train_loss_epoch=0.635, learning_rate=0.0001]"
     ]
    },
    {
     "name": "stderr",
     "output_type": "stream",
     "text": [
      "Epoch 20, global step 7392: 'val_loss_epoch' reached 0.55466 (best 0.55466), saving model to '/Users/Ling/dev/distortion_learning/ll_distortion_learning/logs/logs_CrossEntropy_conv2d_robust_2/checkpoints/epoch=20-val_loss=0.00.ckpt' as top 3\n"
     ]
    },
    {
     "name": "stdout",
     "output_type": "stream",
     "text": [
      "Epoch 21: 100%|██████████| 352/352 [00:13<00:00, 26.74it/s, v_num=0, train_loss_step=0.411, val_loss_step=0.398, val_loss_epoch=0.556, train_loss_epoch=0.612, learning_rate=0.0001]"
     ]
    },
    {
     "name": "stderr",
     "output_type": "stream",
     "text": [
      "Epoch 21, global step 7744: 'val_loss_epoch' reached 0.55568 (best 0.55466), saving model to '/Users/Ling/dev/distortion_learning/ll_distortion_learning/logs/logs_CrossEntropy_conv2d_robust_2/checkpoints/epoch=21-val_loss=0.00.ckpt' as top 3\n"
     ]
    },
    {
     "name": "stdout",
     "output_type": "stream",
     "text": [
      "Epoch 22: 100%|██████████| 352/352 [00:13<00:00, 26.89it/s, v_num=0, train_loss_step=0.636, val_loss_step=0.324, val_loss_epoch=0.502, train_loss_epoch=0.585, learning_rate=0.0001]"
     ]
    },
    {
     "name": "stderr",
     "output_type": "stream",
     "text": [
      "Epoch 22, global step 8096: 'val_loss_epoch' reached 0.50229 (best 0.50229), saving model to '/Users/Ling/dev/distortion_learning/ll_distortion_learning/logs/logs_CrossEntropy_conv2d_robust_2/checkpoints/epoch=22-val_loss=0.00.ckpt' as top 3\n"
     ]
    },
    {
     "name": "stdout",
     "output_type": "stream",
     "text": [
      "Epoch 23: 100%|██████████| 352/352 [00:13<00:00, 26.77it/s, v_num=0, train_loss_step=0.503, val_loss_step=0.303, val_loss_epoch=0.493, train_loss_epoch=0.572, learning_rate=0.0001]"
     ]
    },
    {
     "name": "stderr",
     "output_type": "stream",
     "text": [
      "Epoch 23, global step 8448: 'val_loss_epoch' reached 0.49315 (best 0.49315), saving model to '/Users/Ling/dev/distortion_learning/ll_distortion_learning/logs/logs_CrossEntropy_conv2d_robust_2/checkpoints/epoch=23-val_loss=0.00.ckpt' as top 3\n"
     ]
    },
    {
     "name": "stdout",
     "output_type": "stream",
     "text": [
      "Epoch 24: 100%|██████████| 352/352 [00:13<00:00, 26.75it/s, v_num=0, train_loss_step=0.477, val_loss_step=0.342, val_loss_epoch=0.512, train_loss_epoch=0.557, learning_rate=0.0001]"
     ]
    },
    {
     "name": "stderr",
     "output_type": "stream",
     "text": [
      "Epoch 24, global step 8800: 'val_loss_epoch' reached 0.51227 (best 0.49315), saving model to '/Users/Ling/dev/distortion_learning/ll_distortion_learning/logs/logs_CrossEntropy_conv2d_robust_2/checkpoints/epoch=24-val_loss=0.00.ckpt' as top 3\n"
     ]
    },
    {
     "name": "stdout",
     "output_type": "stream",
     "text": [
      "Epoch 25: 100%|██████████| 352/352 [00:13<00:00, 26.84it/s, v_num=0, train_loss_step=0.414, val_loss_step=0.314, val_loss_epoch=0.511, train_loss_epoch=0.551, learning_rate=0.0001]"
     ]
    },
    {
     "name": "stderr",
     "output_type": "stream",
     "text": [
      "Epoch 25, global step 9152: 'val_loss_epoch' reached 0.51087 (best 0.49315), saving model to '/Users/Ling/dev/distortion_learning/ll_distortion_learning/logs/logs_CrossEntropy_conv2d_robust_2/checkpoints/epoch=25-val_loss=0.00.ckpt' as top 3\n"
     ]
    },
    {
     "name": "stdout",
     "output_type": "stream",
     "text": [
      "Epoch 26: 100%|██████████| 352/352 [00:13<00:00, 26.83it/s, v_num=0, train_loss_step=0.736, val_loss_step=0.261, val_loss_epoch=0.504, train_loss_epoch=0.525, learning_rate=0.0001]"
     ]
    },
    {
     "name": "stderr",
     "output_type": "stream",
     "text": [
      "Epoch 26, global step 9504: 'val_loss_epoch' reached 0.50356 (best 0.49315), saving model to '/Users/Ling/dev/distortion_learning/ll_distortion_learning/logs/logs_CrossEntropy_conv2d_robust_2/checkpoints/epoch=26-val_loss=0.00.ckpt' as top 3\n"
     ]
    },
    {
     "name": "stdout",
     "output_type": "stream",
     "text": [
      "Epoch 27: 100%|██████████| 352/352 [00:13<00:00, 26.80it/s, v_num=0, train_loss_step=0.455, val_loss_step=0.242, val_loss_epoch=0.443, train_loss_epoch=0.510, learning_rate=0.0001]"
     ]
    },
    {
     "name": "stderr",
     "output_type": "stream",
     "text": [
      "Epoch 27, global step 9856: 'val_loss_epoch' reached 0.44347 (best 0.44347), saving model to '/Users/Ling/dev/distortion_learning/ll_distortion_learning/logs/logs_CrossEntropy_conv2d_robust_2/checkpoints/epoch=27-val_loss=0.00.ckpt' as top 3\n"
     ]
    },
    {
     "name": "stdout",
     "output_type": "stream",
     "text": [
      "Epoch 28: 100%|██████████| 352/352 [00:13<00:00, 26.73it/s, v_num=0, train_loss_step=0.580, val_loss_step=0.244, val_loss_epoch=0.457, train_loss_epoch=0.506, learning_rate=0.0001]"
     ]
    },
    {
     "name": "stderr",
     "output_type": "stream",
     "text": [
      "Epoch 28, global step 10208: 'val_loss_epoch' reached 0.45721 (best 0.44347), saving model to '/Users/Ling/dev/distortion_learning/ll_distortion_learning/logs/logs_CrossEntropy_conv2d_robust_2/checkpoints/epoch=28-val_loss=0.00.ckpt' as top 3\n"
     ]
    },
    {
     "name": "stdout",
     "output_type": "stream",
     "text": [
      "Epoch 29: 100%|██████████| 352/352 [00:13<00:00, 26.82it/s, v_num=0, train_loss_step=0.468, val_loss_step=0.238, val_loss_epoch=0.434, train_loss_epoch=0.500, learning_rate=0.0001]"
     ]
    },
    {
     "name": "stderr",
     "output_type": "stream",
     "text": [
      "Epoch 29, global step 10560: 'val_loss_epoch' reached 0.43406 (best 0.43406), saving model to '/Users/Ling/dev/distortion_learning/ll_distortion_learning/logs/logs_CrossEntropy_conv2d_robust_2/checkpoints/epoch=29-val_loss=0.00.ckpt' as top 3\n"
     ]
    },
    {
     "name": "stdout",
     "output_type": "stream",
     "text": [
      "Epoch 30: 100%|██████████| 352/352 [00:13<00:00, 26.76it/s, v_num=0, train_loss_step=0.413, val_loss_step=0.240, val_loss_epoch=0.440, train_loss_epoch=0.486, learning_rate=0.0001]"
     ]
    },
    {
     "name": "stderr",
     "output_type": "stream",
     "text": [
      "Epoch 30, global step 10912: 'val_loss_epoch' reached 0.44049 (best 0.43406), saving model to '/Users/Ling/dev/distortion_learning/ll_distortion_learning/logs/logs_CrossEntropy_conv2d_robust_2/checkpoints/epoch=30-val_loss=0.00.ckpt' as top 3\n"
     ]
    },
    {
     "name": "stdout",
     "output_type": "stream",
     "text": [
      "Epoch 31: 100%|██████████| 352/352 [00:13<00:00, 26.84it/s, v_num=0, train_loss_step=0.372, val_loss_step=0.224, val_loss_epoch=0.405, train_loss_epoch=0.484, learning_rate=0.0001]"
     ]
    },
    {
     "name": "stderr",
     "output_type": "stream",
     "text": [
      "Epoch 31, global step 11264: 'val_loss_epoch' reached 0.40531 (best 0.40531), saving model to '/Users/Ling/dev/distortion_learning/ll_distortion_learning/logs/logs_CrossEntropy_conv2d_robust_2/checkpoints/epoch=31-val_loss=0.00.ckpt' as top 3\n"
     ]
    },
    {
     "name": "stdout",
     "output_type": "stream",
     "text": [
      "Epoch 32: 100%|██████████| 352/352 [00:13<00:00, 26.68it/s, v_num=0, train_loss_step=0.410, val_loss_step=0.222, val_loss_epoch=0.444, train_loss_epoch=0.470, learning_rate=0.0001]"
     ]
    },
    {
     "name": "stderr",
     "output_type": "stream",
     "text": [
      "Epoch 32, global step 11616: 'val_loss_epoch' was not in top 3\n"
     ]
    },
    {
     "name": "stdout",
     "output_type": "stream",
     "text": [
      "Epoch 33: 100%|██████████| 352/352 [00:13<00:00, 26.67it/s, v_num=0, train_loss_step=0.460, val_loss_step=0.252, val_loss_epoch=0.427, train_loss_epoch=0.471, learning_rate=0.0001]"
     ]
    },
    {
     "name": "stderr",
     "output_type": "stream",
     "text": [
      "Epoch 33, global step 11968: 'val_loss_epoch' reached 0.42725 (best 0.40531), saving model to '/Users/Ling/dev/distortion_learning/ll_distortion_learning/logs/logs_CrossEntropy_conv2d_robust_2/checkpoints/epoch=33-val_loss=0.00.ckpt' as top 3\n"
     ]
    },
    {
     "name": "stdout",
     "output_type": "stream",
     "text": [
      "Epoch 34: 100%|██████████| 352/352 [00:13<00:00, 26.72it/s, v_num=0, train_loss_step=0.424, val_loss_step=0.239, val_loss_epoch=0.429, train_loss_epoch=0.469, learning_rate=0.0001]"
     ]
    },
    {
     "name": "stderr",
     "output_type": "stream",
     "text": [
      "Epoch 34, global step 12320: 'val_loss_epoch' reached 0.42889 (best 0.40531), saving model to '/Users/Ling/dev/distortion_learning/ll_distortion_learning/logs/logs_CrossEntropy_conv2d_robust_2/checkpoints/epoch=34-val_loss=0.00.ckpt' as top 3\n"
     ]
    },
    {
     "name": "stdout",
     "output_type": "stream",
     "text": [
      "Epoch 35: 100%|██████████| 352/352 [00:13<00:00, 26.77it/s, v_num=0, train_loss_step=0.416, val_loss_step=0.240, val_loss_epoch=0.440, train_loss_epoch=0.465, learning_rate=0.0001]"
     ]
    },
    {
     "name": "stderr",
     "output_type": "stream",
     "text": [
      "Epoch 35, global step 12672: 'val_loss_epoch' was not in top 3\n"
     ]
    },
    {
     "name": "stdout",
     "output_type": "stream",
     "text": [
      "Epoch 36: 100%|██████████| 352/352 [00:13<00:00, 26.74it/s, v_num=0, train_loss_step=0.299, val_loss_step=0.241, val_loss_epoch=0.442, train_loss_epoch=0.451, learning_rate=0.0001]"
     ]
    },
    {
     "name": "stderr",
     "output_type": "stream",
     "text": [
      "Epoch 36, global step 13024: 'val_loss_epoch' was not in top 3\n"
     ]
    },
    {
     "name": "stdout",
     "output_type": "stream",
     "text": [
      "Epoch 37: 100%|██████████| 352/352 [00:13<00:00, 26.83it/s, v_num=0, train_loss_step=0.416, val_loss_step=0.235, val_loss_epoch=0.424, train_loss_epoch=0.455, learning_rate=0.0001]"
     ]
    },
    {
     "name": "stderr",
     "output_type": "stream",
     "text": [
      "Epoch 37, global step 13376: 'val_loss_epoch' reached 0.42354 (best 0.40531), saving model to '/Users/Ling/dev/distortion_learning/ll_distortion_learning/logs/logs_CrossEntropy_conv2d_robust_2/checkpoints/epoch=37-val_loss=0.00.ckpt' as top 3\n"
     ]
    },
    {
     "name": "stdout",
     "output_type": "stream",
     "text": [
      "Epoch 38: 100%|██████████| 352/352 [00:13<00:00, 26.77it/s, v_num=0, train_loss_step=0.235, val_loss_step=0.249, val_loss_epoch=0.417, train_loss_epoch=0.450, learning_rate=0.0001]"
     ]
    },
    {
     "name": "stderr",
     "output_type": "stream",
     "text": [
      "Epoch 38, global step 13728: 'val_loss_epoch' reached 0.41671 (best 0.40531), saving model to '/Users/Ling/dev/distortion_learning/ll_distortion_learning/logs/logs_CrossEntropy_conv2d_robust_2/checkpoints/epoch=38-val_loss=0.00.ckpt' as top 3\n"
     ]
    },
    {
     "name": "stdout",
     "output_type": "stream",
     "text": [
      "Epoch 39: 100%|██████████| 352/352 [00:13<00:00, 26.82it/s, v_num=0, train_loss_step=0.472, val_loss_step=0.240, val_loss_epoch=0.420, train_loss_epoch=0.432, learning_rate=8.5e-5]"
     ]
    },
    {
     "name": "stderr",
     "output_type": "stream",
     "text": [
      "Epoch 39, global step 14080: 'val_loss_epoch' reached 0.42036 (best 0.40531), saving model to '/Users/Ling/dev/distortion_learning/ll_distortion_learning/logs/logs_CrossEntropy_conv2d_robust_2/checkpoints/epoch=39-val_loss=0.00.ckpt' as top 3\n"
     ]
    },
    {
     "name": "stdout",
     "output_type": "stream",
     "text": [
      "Epoch 40: 100%|██████████| 352/352 [00:13<00:00, 26.76it/s, v_num=0, train_loss_step=0.407, val_loss_step=0.242, val_loss_epoch=0.419, train_loss_epoch=0.430, learning_rate=8.5e-5]"
     ]
    },
    {
     "name": "stderr",
     "output_type": "stream",
     "text": [
      "Epoch 40, global step 14432: 'val_loss_epoch' reached 0.41919 (best 0.40531), saving model to '/Users/Ling/dev/distortion_learning/ll_distortion_learning/logs/logs_CrossEntropy_conv2d_robust_2/checkpoints/epoch=40-val_loss=0.00.ckpt' as top 3\n"
     ]
    },
    {
     "name": "stdout",
     "output_type": "stream",
     "text": [
      "Epoch 41: 100%|██████████| 352/352 [00:13<00:00, 26.78it/s, v_num=0, train_loss_step=0.362, val_loss_step=0.210, val_loss_epoch=0.395, train_loss_epoch=0.429, learning_rate=8.5e-5]"
     ]
    },
    {
     "name": "stderr",
     "output_type": "stream",
     "text": [
      "Epoch 41, global step 14784: 'val_loss_epoch' reached 0.39473 (best 0.39473), saving model to '/Users/Ling/dev/distortion_learning/ll_distortion_learning/logs/logs_CrossEntropy_conv2d_robust_2/checkpoints/epoch=41-val_loss=0.00.ckpt' as top 3\n"
     ]
    },
    {
     "name": "stdout",
     "output_type": "stream",
     "text": [
      "Epoch 42: 100%|██████████| 352/352 [00:13<00:00, 26.79it/s, v_num=0, train_loss_step=0.457, val_loss_step=0.240, val_loss_epoch=0.422, train_loss_epoch=0.419, learning_rate=8.5e-5]"
     ]
    },
    {
     "name": "stderr",
     "output_type": "stream",
     "text": [
      "Epoch 42, global step 15136: 'val_loss_epoch' was not in top 3\n"
     ]
    },
    {
     "name": "stdout",
     "output_type": "stream",
     "text": [
      "Epoch 43: 100%|██████████| 352/352 [00:13<00:00, 26.57it/s, v_num=0, train_loss_step=0.376, val_loss_step=0.214, val_loss_epoch=0.421, train_loss_epoch=0.428, learning_rate=8.5e-5]"
     ]
    },
    {
     "name": "stderr",
     "output_type": "stream",
     "text": [
      "Epoch 43, global step 15488: 'val_loss_epoch' was not in top 3\n"
     ]
    },
    {
     "name": "stdout",
     "output_type": "stream",
     "text": [
      "Epoch 44: 100%|██████████| 352/352 [00:13<00:00, 26.64it/s, v_num=0, train_loss_step=0.460, val_loss_step=0.227, val_loss_epoch=0.396, train_loss_epoch=0.422, learning_rate=8.5e-5]"
     ]
    },
    {
     "name": "stderr",
     "output_type": "stream",
     "text": [
      "Epoch 44, global step 15840: 'val_loss_epoch' reached 0.39583 (best 0.39473), saving model to '/Users/Ling/dev/distortion_learning/ll_distortion_learning/logs/logs_CrossEntropy_conv2d_robust_2/checkpoints/epoch=44-val_loss=0.00.ckpt' as top 3\n"
     ]
    },
    {
     "name": "stdout",
     "output_type": "stream",
     "text": [
      "Epoch 45: 100%|██████████| 352/352 [00:13<00:00, 26.72it/s, v_num=0, train_loss_step=0.346, val_loss_step=0.210, val_loss_epoch=0.415, train_loss_epoch=0.424, learning_rate=8.5e-5]"
     ]
    },
    {
     "name": "stderr",
     "output_type": "stream",
     "text": [
      "Epoch 45, global step 16192: 'val_loss_epoch' was not in top 3\n"
     ]
    },
    {
     "name": "stdout",
     "output_type": "stream",
     "text": [
      "Epoch 46: 100%|██████████| 352/352 [00:13<00:00, 26.74it/s, v_num=0, train_loss_step=0.439, val_loss_step=0.238, val_loss_epoch=0.417, train_loss_epoch=0.417, learning_rate=8.5e-5]"
     ]
    },
    {
     "name": "stderr",
     "output_type": "stream",
     "text": [
      "Epoch 46, global step 16544: 'val_loss_epoch' was not in top 3\n"
     ]
    },
    {
     "name": "stdout",
     "output_type": "stream",
     "text": [
      "Epoch 47: 100%|██████████| 352/352 [00:13<00:00, 26.75it/s, v_num=0, train_loss_step=0.430, val_loss_step=0.208, val_loss_epoch=0.409, train_loss_epoch=0.416, learning_rate=8.5e-5]"
     ]
    },
    {
     "name": "stderr",
     "output_type": "stream",
     "text": [
      "Epoch 47, global step 16896: 'val_loss_epoch' was not in top 3\n"
     ]
    },
    {
     "name": "stdout",
     "output_type": "stream",
     "text": [
      "Epoch 48: 100%|██████████| 352/352 [00:13<00:00, 26.77it/s, v_num=0, train_loss_step=0.496, val_loss_step=0.213, val_loss_epoch=0.431, train_loss_epoch=0.412, learning_rate=8.5e-5]"
     ]
    },
    {
     "name": "stderr",
     "output_type": "stream",
     "text": [
      "Epoch 48, global step 17248: 'val_loss_epoch' was not in top 3\n"
     ]
    },
    {
     "name": "stdout",
     "output_type": "stream",
     "text": [
      "Epoch 49: 100%|██████████| 352/352 [00:13<00:00, 26.81it/s, v_num=0, train_loss_step=0.503, val_loss_step=0.233, val_loss_epoch=0.389, train_loss_epoch=0.402, learning_rate=7.22e-5]"
     ]
    },
    {
     "name": "stderr",
     "output_type": "stream",
     "text": [
      "Epoch 49, global step 17600: 'val_loss_epoch' reached 0.38907 (best 0.38907), saving model to '/Users/Ling/dev/distortion_learning/ll_distortion_learning/logs/logs_CrossEntropy_conv2d_robust_2/checkpoints/epoch=49-val_loss=0.00.ckpt' as top 3\n"
     ]
    },
    {
     "name": "stdout",
     "output_type": "stream",
     "text": [
      "Epoch 50: 100%|██████████| 352/352 [00:13<00:00, 26.70it/s, v_num=0, train_loss_step=0.350, val_loss_step=0.221, val_loss_epoch=0.399, train_loss_epoch=0.403, learning_rate=7.22e-5]"
     ]
    },
    {
     "name": "stderr",
     "output_type": "stream",
     "text": [
      "Epoch 50, global step 17952: 'val_loss_epoch' was not in top 3\n"
     ]
    },
    {
     "name": "stdout",
     "output_type": "stream",
     "text": [
      "Epoch 51: 100%|██████████| 352/352 [00:13<00:00, 26.78it/s, v_num=0, train_loss_step=0.132, val_loss_step=0.214, val_loss_epoch=0.415, train_loss_epoch=0.403, learning_rate=7.22e-5]"
     ]
    },
    {
     "name": "stderr",
     "output_type": "stream",
     "text": [
      "Epoch 51, global step 18304: 'val_loss_epoch' was not in top 3\n"
     ]
    },
    {
     "name": "stdout",
     "output_type": "stream",
     "text": [
      "Epoch 52: 100%|██████████| 352/352 [00:13<00:00, 26.76it/s, v_num=0, train_loss_step=0.374, val_loss_step=0.230, val_loss_epoch=0.406, train_loss_epoch=0.393, learning_rate=7.22e-5]"
     ]
    },
    {
     "name": "stderr",
     "output_type": "stream",
     "text": [
      "Epoch 52, global step 18656: 'val_loss_epoch' was not in top 3\n"
     ]
    },
    {
     "name": "stdout",
     "output_type": "stream",
     "text": [
      "Epoch 53: 100%|██████████| 352/352 [00:13<00:00, 26.74it/s, v_num=0, train_loss_step=0.459, val_loss_step=0.218, val_loss_epoch=0.400, train_loss_epoch=0.397, learning_rate=7.22e-5]"
     ]
    },
    {
     "name": "stderr",
     "output_type": "stream",
     "text": [
      "Epoch 53, global step 19008: 'val_loss_epoch' was not in top 3\n"
     ]
    },
    {
     "name": "stdout",
     "output_type": "stream",
     "text": [
      "Epoch 54: 100%|██████████| 352/352 [00:13<00:00, 26.68it/s, v_num=0, train_loss_step=0.245, val_loss_step=0.233, val_loss_epoch=0.405, train_loss_epoch=0.397, learning_rate=7.22e-5]"
     ]
    },
    {
     "name": "stderr",
     "output_type": "stream",
     "text": [
      "Epoch 54, global step 19360: 'val_loss_epoch' was not in top 3\n"
     ]
    },
    {
     "name": "stdout",
     "output_type": "stream",
     "text": [
      "Epoch 55: 100%|██████████| 352/352 [00:13<00:00, 26.67it/s, v_num=0, train_loss_step=0.473, val_loss_step=0.223, val_loss_epoch=0.422, train_loss_epoch=0.395, learning_rate=7.22e-5]"
     ]
    },
    {
     "name": "stderr",
     "output_type": "stream",
     "text": [
      "Epoch 55, global step 19712: 'val_loss_epoch' was not in top 3\n"
     ]
    },
    {
     "name": "stdout",
     "output_type": "stream",
     "text": [
      "Epoch 56: 100%|██████████| 352/352 [00:13<00:00, 26.71it/s, v_num=0, train_loss_step=0.410, val_loss_step=0.204, val_loss_epoch=0.403, train_loss_epoch=0.392, learning_rate=7.22e-5]"
     ]
    },
    {
     "name": "stderr",
     "output_type": "stream",
     "text": [
      "Epoch 56, global step 20064: 'val_loss_epoch' was not in top 3\n"
     ]
    },
    {
     "name": "stdout",
     "output_type": "stream",
     "text": [
      "Epoch 57: 100%|██████████| 352/352 [00:13<00:00, 26.84it/s, v_num=0, train_loss_step=0.629, val_loss_step=0.214, val_loss_epoch=0.405, train_loss_epoch=0.385, learning_rate=6.14e-5]"
     ]
    },
    {
     "name": "stderr",
     "output_type": "stream",
     "text": [
      "Epoch 57, global step 20416: 'val_loss_epoch' was not in top 3\n"
     ]
    },
    {
     "name": "stdout",
     "output_type": "stream",
     "text": [
      "Epoch 58: 100%|██████████| 352/352 [00:13<00:00, 26.78it/s, v_num=0, train_loss_step=0.320, val_loss_step=0.209, val_loss_epoch=0.385, train_loss_epoch=0.386, learning_rate=6.14e-5]"
     ]
    },
    {
     "name": "stderr",
     "output_type": "stream",
     "text": [
      "Epoch 58, global step 20768: 'val_loss_epoch' reached 0.38520 (best 0.38520), saving model to '/Users/Ling/dev/distortion_learning/ll_distortion_learning/logs/logs_CrossEntropy_conv2d_robust_2/checkpoints/epoch=58-val_loss=0.00.ckpt' as top 3\n"
     ]
    },
    {
     "name": "stdout",
     "output_type": "stream",
     "text": [
      "Epoch 59: 100%|██████████| 352/352 [00:13<00:00, 26.73it/s, v_num=0, train_loss_step=0.456, val_loss_step=0.207, val_loss_epoch=0.419, train_loss_epoch=0.381, learning_rate=6.14e-5]"
     ]
    },
    {
     "name": "stderr",
     "output_type": "stream",
     "text": [
      "Epoch 59, global step 21120: 'val_loss_epoch' was not in top 3\n"
     ]
    },
    {
     "name": "stdout",
     "output_type": "stream",
     "text": [
      "Epoch 60: 100%|██████████| 352/352 [00:13<00:00, 26.73it/s, v_num=0, train_loss_step=0.420, val_loss_step=0.177, val_loss_epoch=0.388, train_loss_epoch=0.378, learning_rate=6.14e-5]"
     ]
    },
    {
     "name": "stderr",
     "output_type": "stream",
     "text": [
      "Epoch 60, global step 21472: 'val_loss_epoch' reached 0.38834 (best 0.38520), saving model to '/Users/Ling/dev/distortion_learning/ll_distortion_learning/logs/logs_CrossEntropy_conv2d_robust_2/checkpoints/epoch=60-val_loss=0.00.ckpt' as top 3\n"
     ]
    },
    {
     "name": "stdout",
     "output_type": "stream",
     "text": [
      "Epoch 61: 100%|██████████| 352/352 [00:13<00:00, 26.69it/s, v_num=0, train_loss_step=0.408, val_loss_step=0.196, val_loss_epoch=0.389, train_loss_epoch=0.378, learning_rate=6.14e-5]"
     ]
    },
    {
     "name": "stderr",
     "output_type": "stream",
     "text": [
      "Epoch 61, global step 21824: 'val_loss_epoch' was not in top 3\n"
     ]
    },
    {
     "name": "stdout",
     "output_type": "stream",
     "text": [
      "Epoch 62: 100%|██████████| 352/352 [00:13<00:00, 26.80it/s, v_num=0, train_loss_step=0.482, val_loss_step=0.214, val_loss_epoch=0.404, train_loss_epoch=0.378, learning_rate=6.14e-5]"
     ]
    },
    {
     "name": "stderr",
     "output_type": "stream",
     "text": [
      "Epoch 62, global step 22176: 'val_loss_epoch' was not in top 3\n"
     ]
    },
    {
     "name": "stdout",
     "output_type": "stream",
     "text": [
      "Epoch 63: 100%|██████████| 352/352 [00:13<00:00, 26.74it/s, v_num=0, train_loss_step=0.376, val_loss_step=0.198, val_loss_epoch=0.405, train_loss_epoch=0.375, learning_rate=6.14e-5]"
     ]
    },
    {
     "name": "stderr",
     "output_type": "stream",
     "text": [
      "Epoch 63, global step 22528: 'val_loss_epoch' was not in top 3\n"
     ]
    },
    {
     "name": "stdout",
     "output_type": "stream",
     "text": [
      "Epoch 64: 100%|██████████| 352/352 [00:13<00:00, 26.71it/s, v_num=0, train_loss_step=0.266, val_loss_step=0.205, val_loss_epoch=0.390, train_loss_epoch=0.366, learning_rate=6.14e-5]"
     ]
    },
    {
     "name": "stderr",
     "output_type": "stream",
     "text": [
      "Epoch 64, global step 22880: 'val_loss_epoch' was not in top 3\n"
     ]
    },
    {
     "name": "stdout",
     "output_type": "stream",
     "text": [
      "Epoch 65: 100%|██████████| 352/352 [00:13<00:00, 26.73it/s, v_num=0, train_loss_step=0.518, val_loss_step=0.209, val_loss_epoch=0.385, train_loss_epoch=0.367, learning_rate=6.14e-5]"
     ]
    },
    {
     "name": "stderr",
     "output_type": "stream",
     "text": [
      "Epoch 65, global step 23232: 'val_loss_epoch' reached 0.38464 (best 0.38464), saving model to '/Users/Ling/dev/distortion_learning/ll_distortion_learning/logs/logs_CrossEntropy_conv2d_robust_2/checkpoints/epoch=65-val_loss=0.00.ckpt' as top 3\n"
     ]
    },
    {
     "name": "stdout",
     "output_type": "stream",
     "text": [
      "Epoch 66: 100%|██████████| 352/352 [00:13<00:00, 26.78it/s, v_num=0, train_loss_step=0.409, val_loss_step=0.191, val_loss_epoch=0.403, train_loss_epoch=0.364, learning_rate=5.22e-5]"
     ]
    },
    {
     "name": "stderr",
     "output_type": "stream",
     "text": [
      "Epoch 66, global step 23584: 'val_loss_epoch' was not in top 3\n"
     ]
    },
    {
     "name": "stdout",
     "output_type": "stream",
     "text": [
      "Epoch 67: 100%|██████████| 352/352 [00:13<00:00, 26.67it/s, v_num=0, train_loss_step=0.338, val_loss_step=0.207, val_loss_epoch=0.378, train_loss_epoch=0.363, learning_rate=5.22e-5]"
     ]
    },
    {
     "name": "stderr",
     "output_type": "stream",
     "text": [
      "Epoch 67, global step 23936: 'val_loss_epoch' reached 0.37829 (best 0.37829), saving model to '/Users/Ling/dev/distortion_learning/ll_distortion_learning/logs/logs_CrossEntropy_conv2d_robust_2/checkpoints/epoch=67-val_loss=0.00.ckpt' as top 3\n"
     ]
    },
    {
     "name": "stdout",
     "output_type": "stream",
     "text": [
      "Epoch 68: 100%|██████████| 352/352 [00:13<00:00, 26.75it/s, v_num=0, train_loss_step=0.110, val_loss_step=0.196, val_loss_epoch=0.387, train_loss_epoch=0.366, learning_rate=5.22e-5]"
     ]
    },
    {
     "name": "stderr",
     "output_type": "stream",
     "text": [
      "Epoch 68, global step 24288: 'val_loss_epoch' was not in top 3\n"
     ]
    },
    {
     "name": "stdout",
     "output_type": "stream",
     "text": [
      "Epoch 69: 100%|██████████| 352/352 [00:13<00:00, 26.77it/s, v_num=0, train_loss_step=0.247, val_loss_step=0.200, val_loss_epoch=0.393, train_loss_epoch=0.356, learning_rate=5.22e-5]"
     ]
    },
    {
     "name": "stderr",
     "output_type": "stream",
     "text": [
      "Epoch 69, global step 24640: 'val_loss_epoch' was not in top 3\n"
     ]
    },
    {
     "name": "stdout",
     "output_type": "stream",
     "text": [
      "Epoch 70: 100%|██████████| 352/352 [00:13<00:00, 26.75it/s, v_num=0, train_loss_step=0.566, val_loss_step=0.233, val_loss_epoch=0.419, train_loss_epoch=0.362, learning_rate=5.22e-5]"
     ]
    },
    {
     "name": "stderr",
     "output_type": "stream",
     "text": [
      "Epoch 70, global step 24992: 'val_loss_epoch' was not in top 3\n"
     ]
    },
    {
     "name": "stdout",
     "output_type": "stream",
     "text": [
      "Epoch 71: 100%|██████████| 352/352 [00:13<00:00, 26.70it/s, v_num=0, train_loss_step=0.279, val_loss_step=0.211, val_loss_epoch=0.388, train_loss_epoch=0.358, learning_rate=5.22e-5]"
     ]
    },
    {
     "name": "stderr",
     "output_type": "stream",
     "text": [
      "Epoch 71, global step 25344: 'val_loss_epoch' was not in top 3\n"
     ]
    },
    {
     "name": "stdout",
     "output_type": "stream",
     "text": [
      "Epoch 72: 100%|██████████| 352/352 [00:13<00:00, 26.78it/s, v_num=0, train_loss_step=0.223, val_loss_step=0.188, val_loss_epoch=0.402, train_loss_epoch=0.362, learning_rate=5.22e-5]"
     ]
    },
    {
     "name": "stderr",
     "output_type": "stream",
     "text": [
      "Epoch 72, global step 25696: 'val_loss_epoch' was not in top 3\n"
     ]
    },
    {
     "name": "stdout",
     "output_type": "stream",
     "text": [
      "Epoch 73: 100%|██████████| 352/352 [00:13<00:00, 26.71it/s, v_num=0, train_loss_step=0.255, val_loss_step=0.202, val_loss_epoch=0.395, train_loss_epoch=0.361, learning_rate=5.22e-5]"
     ]
    },
    {
     "name": "stderr",
     "output_type": "stream",
     "text": [
      "Epoch 73, global step 26048: 'val_loss_epoch' was not in top 3\n"
     ]
    },
    {
     "name": "stdout",
     "output_type": "stream",
     "text": [
      "Epoch 74: 100%|██████████| 352/352 [00:13<00:00, 26.75it/s, v_num=0, train_loss_step=0.262, val_loss_step=0.213, val_loss_epoch=0.378, train_loss_epoch=0.359, learning_rate=5.22e-5]"
     ]
    },
    {
     "name": "stderr",
     "output_type": "stream",
     "text": [
      "Epoch 74, global step 26400: 'val_loss_epoch' reached 0.37782 (best 0.37782), saving model to '/Users/Ling/dev/distortion_learning/ll_distortion_learning/logs/logs_CrossEntropy_conv2d_robust_2/checkpoints/epoch=74-val_loss=0.00.ckpt' as top 3\n"
     ]
    },
    {
     "name": "stdout",
     "output_type": "stream",
     "text": [
      "Epoch 75: 100%|██████████| 352/352 [00:13<00:00, 26.75it/s, v_num=0, train_loss_step=0.228, val_loss_step=0.200, val_loss_epoch=0.399, train_loss_epoch=0.350, learning_rate=4.44e-5]"
     ]
    },
    {
     "name": "stderr",
     "output_type": "stream",
     "text": [
      "Epoch 75, global step 26752: 'val_loss_epoch' was not in top 3\n"
     ]
    },
    {
     "name": "stdout",
     "output_type": "stream",
     "text": [
      "Epoch 76: 100%|██████████| 352/352 [00:13<00:00, 26.78it/s, v_num=0, train_loss_step=0.203, val_loss_step=0.173, val_loss_epoch=0.404, train_loss_epoch=0.348, learning_rate=4.44e-5] "
     ]
    },
    {
     "name": "stderr",
     "output_type": "stream",
     "text": [
      "Epoch 76, global step 27104: 'val_loss_epoch' was not in top 3\n"
     ]
    },
    {
     "name": "stdout",
     "output_type": "stream",
     "text": [
      "Epoch 77: 100%|██████████| 352/352 [00:13<00:00, 26.73it/s, v_num=0, train_loss_step=0.413, val_loss_step=0.191, val_loss_epoch=0.386, train_loss_epoch=0.352, learning_rate=4.44e-5]"
     ]
    },
    {
     "name": "stderr",
     "output_type": "stream",
     "text": [
      "Epoch 77, global step 27456: 'val_loss_epoch' was not in top 3\n"
     ]
    },
    {
     "name": "stdout",
     "output_type": "stream",
     "text": [
      "Epoch 78: 100%|██████████| 352/352 [00:13<00:00, 26.85it/s, v_num=0, train_loss_step=0.558, val_loss_step=0.186, val_loss_epoch=0.402, train_loss_epoch=0.352, learning_rate=4.44e-5]"
     ]
    },
    {
     "name": "stderr",
     "output_type": "stream",
     "text": [
      "Epoch 78, global step 27808: 'val_loss_epoch' was not in top 3\n"
     ]
    },
    {
     "name": "stdout",
     "output_type": "stream",
     "text": [
      "Epoch 79: 100%|██████████| 352/352 [00:13<00:00, 26.71it/s, v_num=0, train_loss_step=0.498, val_loss_step=0.203, val_loss_epoch=0.384, train_loss_epoch=0.350, learning_rate=4.44e-5]"
     ]
    },
    {
     "name": "stderr",
     "output_type": "stream",
     "text": [
      "Epoch 79, global step 28160: 'val_loss_epoch' reached 0.38406 (best 0.37782), saving model to '/Users/Ling/dev/distortion_learning/ll_distortion_learning/logs/logs_CrossEntropy_conv2d_robust_2/checkpoints/epoch=79-val_loss=0.00.ckpt' as top 3\n"
     ]
    },
    {
     "name": "stdout",
     "output_type": "stream",
     "text": [
      "Epoch 80: 100%|██████████| 352/352 [00:13<00:00, 26.77it/s, v_num=0, train_loss_step=0.267, val_loss_step=0.198, val_loss_epoch=0.383, train_loss_epoch=0.351, learning_rate=4.44e-5]"
     ]
    },
    {
     "name": "stderr",
     "output_type": "stream",
     "text": [
      "Epoch 80, global step 28512: 'val_loss_epoch' reached 0.38340 (best 0.37782), saving model to '/Users/Ling/dev/distortion_learning/ll_distortion_learning/logs/logs_CrossEntropy_conv2d_robust_2/checkpoints/epoch=80-val_loss=0.00.ckpt' as top 3\n"
     ]
    },
    {
     "name": "stdout",
     "output_type": "stream",
     "text": [
      "Epoch 81: 100%|██████████| 352/352 [00:13<00:00, 26.72it/s, v_num=0, train_loss_step=0.665, val_loss_step=0.205, val_loss_epoch=0.385, train_loss_epoch=0.344, learning_rate=3.77e-5]"
     ]
    },
    {
     "name": "stderr",
     "output_type": "stream",
     "text": [
      "Epoch 81, global step 28864: 'val_loss_epoch' was not in top 3\n"
     ]
    },
    {
     "name": "stdout",
     "output_type": "stream",
     "text": [
      "Epoch 82: 100%|██████████| 352/352 [00:13<00:00, 26.73it/s, v_num=0, train_loss_step=0.287, val_loss_step=0.202, val_loss_epoch=0.392, train_loss_epoch=0.344, learning_rate=3.77e-5]"
     ]
    },
    {
     "name": "stderr",
     "output_type": "stream",
     "text": [
      "Epoch 82, global step 29216: 'val_loss_epoch' was not in top 3\n"
     ]
    },
    {
     "name": "stdout",
     "output_type": "stream",
     "text": [
      "Epoch 83: 100%|██████████| 352/352 [00:13<00:00, 26.79it/s, v_num=0, train_loss_step=0.253, val_loss_step=0.206, val_loss_epoch=0.392, train_loss_epoch=0.343, learning_rate=3.77e-5]"
     ]
    },
    {
     "name": "stderr",
     "output_type": "stream",
     "text": [
      "Epoch 83, global step 29568: 'val_loss_epoch' was not in top 3\n"
     ]
    },
    {
     "name": "stdout",
     "output_type": "stream",
     "text": [
      "Epoch 84: 100%|██████████| 352/352 [00:13<00:00, 26.75it/s, v_num=0, train_loss_step=0.159, val_loss_step=0.192, val_loss_epoch=0.395, train_loss_epoch=0.338, learning_rate=3.77e-5]"
     ]
    },
    {
     "name": "stderr",
     "output_type": "stream",
     "text": [
      "Epoch 84, global step 29920: 'val_loss_epoch' was not in top 3\n"
     ]
    },
    {
     "name": "stdout",
     "output_type": "stream",
     "text": [
      "Epoch 85: 100%|██████████| 352/352 [00:13<00:00, 26.75it/s, v_num=0, train_loss_step=0.438, val_loss_step=0.223, val_loss_epoch=0.395, train_loss_epoch=0.341, learning_rate=3.77e-5]"
     ]
    },
    {
     "name": "stderr",
     "output_type": "stream",
     "text": [
      "Epoch 85, global step 30272: 'val_loss_epoch' was not in top 3\n"
     ]
    },
    {
     "name": "stdout",
     "output_type": "stream",
     "text": [
      "Epoch 86: 100%|██████████| 352/352 [00:13<00:00, 26.76it/s, v_num=0, train_loss_step=0.378, val_loss_step=0.185, val_loss_epoch=0.379, train_loss_epoch=0.337, learning_rate=3.77e-5] "
     ]
    },
    {
     "name": "stderr",
     "output_type": "stream",
     "text": [
      "Epoch 86, global step 30624: 'val_loss_epoch' reached 0.37919 (best 0.37782), saving model to '/Users/Ling/dev/distortion_learning/ll_distortion_learning/logs/logs_CrossEntropy_conv2d_robust_2/checkpoints/epoch=86-val_loss=0.00.ckpt' as top 3\n"
     ]
    },
    {
     "name": "stdout",
     "output_type": "stream",
     "text": [
      "Epoch 87: 100%|██████████| 352/352 [00:13<00:00, 26.68it/s, v_num=0, train_loss_step=0.438, val_loss_step=0.182, val_loss_epoch=0.393, train_loss_epoch=0.336, learning_rate=3.21e-5]"
     ]
    },
    {
     "name": "stderr",
     "output_type": "stream",
     "text": [
      "Epoch 87, global step 30976: 'val_loss_epoch' was not in top 3\n"
     ]
    },
    {
     "name": "stdout",
     "output_type": "stream",
     "text": [
      "Epoch 88: 100%|██████████| 352/352 [00:13<00:00, 26.74it/s, v_num=0, train_loss_step=0.398, val_loss_step=0.190, val_loss_epoch=0.385, train_loss_epoch=0.337, learning_rate=3.21e-5]"
     ]
    },
    {
     "name": "stderr",
     "output_type": "stream",
     "text": [
      "Epoch 88, global step 31328: 'val_loss_epoch' was not in top 3\n"
     ]
    },
    {
     "name": "stdout",
     "output_type": "stream",
     "text": [
      "Epoch 89: 100%|██████████| 352/352 [00:13<00:00, 26.48it/s, v_num=0, train_loss_step=0.516, val_loss_step=0.186, val_loss_epoch=0.379, train_loss_epoch=0.338, learning_rate=3.21e-5] "
     ]
    },
    {
     "name": "stderr",
     "output_type": "stream",
     "text": [
      "Epoch 89, global step 31680: 'val_loss_epoch' was not in top 3\n"
     ]
    },
    {
     "name": "stdout",
     "output_type": "stream",
     "text": [
      "Epoch 90: 100%|██████████| 352/352 [00:13<00:00, 26.87it/s, v_num=0, train_loss_step=0.271, val_loss_step=0.195, val_loss_epoch=0.384, train_loss_epoch=0.333, learning_rate=3.21e-5]"
     ]
    },
    {
     "name": "stderr",
     "output_type": "stream",
     "text": [
      "Epoch 90, global step 32032: 'val_loss_epoch' was not in top 3\n"
     ]
    },
    {
     "name": "stdout",
     "output_type": "stream",
     "text": [
      "Epoch 91: 100%|██████████| 352/352 [00:13<00:00, 26.71it/s, v_num=0, train_loss_step=0.337, val_loss_step=0.184, val_loss_epoch=0.374, train_loss_epoch=0.330, learning_rate=3.21e-5]"
     ]
    },
    {
     "name": "stderr",
     "output_type": "stream",
     "text": [
      "Epoch 91, global step 32384: 'val_loss_epoch' reached 0.37356 (best 0.37356), saving model to '/Users/Ling/dev/distortion_learning/ll_distortion_learning/logs/logs_CrossEntropy_conv2d_robust_2/checkpoints/epoch=91-val_loss=0.00.ckpt' as top 3\n"
     ]
    },
    {
     "name": "stdout",
     "output_type": "stream",
     "text": [
      "Epoch 92: 100%|██████████| 352/352 [00:13<00:00, 26.75it/s, v_num=0, train_loss_step=0.226, val_loss_step=0.195, val_loss_epoch=0.390, train_loss_epoch=0.329, learning_rate=3.21e-5]"
     ]
    },
    {
     "name": "stderr",
     "output_type": "stream",
     "text": [
      "Epoch 92, global step 32736: 'val_loss_epoch' was not in top 3\n"
     ]
    },
    {
     "name": "stdout",
     "output_type": "stream",
     "text": [
      "Epoch 93: 100%|██████████| 352/352 [00:13<00:00, 26.78it/s, v_num=0, train_loss_step=0.328, val_loss_step=0.190, val_loss_epoch=0.403, train_loss_epoch=0.332, learning_rate=3.21e-5]"
     ]
    },
    {
     "name": "stderr",
     "output_type": "stream",
     "text": [
      "Epoch 93, global step 33088: 'val_loss_epoch' was not in top 3\n"
     ]
    },
    {
     "name": "stdout",
     "output_type": "stream",
     "text": [
      "Epoch 94: 100%|██████████| 352/352 [00:13<00:00, 26.81it/s, v_num=0, train_loss_step=0.361, val_loss_step=0.183, val_loss_epoch=0.396, train_loss_epoch=0.330, learning_rate=3.21e-5]"
     ]
    },
    {
     "name": "stderr",
     "output_type": "stream",
     "text": [
      "Epoch 94, global step 33440: 'val_loss_epoch' was not in top 3\n"
     ]
    },
    {
     "name": "stdout",
     "output_type": "stream",
     "text": [
      "Epoch 95: 100%|██████████| 352/352 [00:13<00:00, 26.75it/s, v_num=0, train_loss_step=0.427, val_loss_step=0.186, val_loss_epoch=0.397, train_loss_epoch=0.331, learning_rate=3.21e-5]"
     ]
    },
    {
     "name": "stderr",
     "output_type": "stream",
     "text": [
      "Epoch 95, global step 33792: 'val_loss_epoch' was not in top 3\n"
     ]
    },
    {
     "name": "stdout",
     "output_type": "stream",
     "text": [
      "Epoch 96: 100%|██████████| 352/352 [00:13<00:00, 26.83it/s, v_num=0, train_loss_step=0.281, val_loss_step=0.192, val_loss_epoch=0.380, train_loss_epoch=0.331, learning_rate=3.21e-5]"
     ]
    },
    {
     "name": "stderr",
     "output_type": "stream",
     "text": [
      "Epoch 96, global step 34144: 'val_loss_epoch' was not in top 3\n"
     ]
    },
    {
     "name": "stdout",
     "output_type": "stream",
     "text": [
      "Epoch 97: 100%|██████████| 352/352 [00:13<00:00, 26.71it/s, v_num=0, train_loss_step=0.375, val_loss_step=0.193, val_loss_epoch=0.387, train_loss_epoch=0.325, learning_rate=3.21e-5]"
     ]
    },
    {
     "name": "stderr",
     "output_type": "stream",
     "text": [
      "Epoch 97, global step 34496: 'val_loss_epoch' was not in top 3\n"
     ]
    },
    {
     "name": "stdout",
     "output_type": "stream",
     "text": [
      "Epoch 98: 100%|██████████| 352/352 [00:13<00:00, 26.77it/s, v_num=0, train_loss_step=0.308, val_loss_step=0.182, val_loss_epoch=0.396, train_loss_epoch=0.329, learning_rate=3.21e-5]"
     ]
    },
    {
     "name": "stderr",
     "output_type": "stream",
     "text": [
      "Epoch 98, global step 34848: 'val_loss_epoch' was not in top 3\n"
     ]
    },
    {
     "name": "stdout",
     "output_type": "stream",
     "text": [
      "Epoch 99: 100%|██████████| 352/352 [00:13<00:00, 26.75it/s, v_num=0, train_loss_step=0.251, val_loss_step=0.184, val_loss_epoch=0.376, train_loss_epoch=0.328, learning_rate=2.72e-5]"
     ]
    },
    {
     "name": "stderr",
     "output_type": "stream",
     "text": [
      "Epoch 99, global step 35200: 'val_loss_epoch' reached 0.37572 (best 0.37356), saving model to '/Users/Ling/dev/distortion_learning/ll_distortion_learning/logs/logs_CrossEntropy_conv2d_robust_2/checkpoints/epoch=99-val_loss=0.00.ckpt' as top 3\n"
     ]
    },
    {
     "name": "stdout",
     "output_type": "stream",
     "text": [
      "Epoch 100: 100%|██████████| 352/352 [00:13<00:00, 26.87it/s, v_num=0, train_loss_step=0.267, val_loss_step=0.199, val_loss_epoch=0.390, train_loss_epoch=0.325, learning_rate=2.72e-5]"
     ]
    },
    {
     "name": "stderr",
     "output_type": "stream",
     "text": [
      "Epoch 100, global step 35552: 'val_loss_epoch' was not in top 3\n"
     ]
    },
    {
     "name": "stdout",
     "output_type": "stream",
     "text": [
      "Epoch 101: 100%|██████████| 352/352 [00:13<00:00, 26.77it/s, v_num=0, train_loss_step=0.247, val_loss_step=0.173, val_loss_epoch=0.391, train_loss_epoch=0.328, learning_rate=2.72e-5]"
     ]
    },
    {
     "name": "stderr",
     "output_type": "stream",
     "text": [
      "Epoch 101, global step 35904: 'val_loss_epoch' was not in top 3\n"
     ]
    },
    {
     "name": "stdout",
     "output_type": "stream",
     "text": [
      "Epoch 102: 100%|██████████| 352/352 [00:13<00:00, 26.76it/s, v_num=0, train_loss_step=0.277, val_loss_step=0.188, val_loss_epoch=0.380, train_loss_epoch=0.324, learning_rate=2.72e-5]"
     ]
    },
    {
     "name": "stderr",
     "output_type": "stream",
     "text": [
      "Epoch 102, global step 36256: 'val_loss_epoch' was not in top 3\n"
     ]
    },
    {
     "name": "stdout",
     "output_type": "stream",
     "text": [
      "Epoch 103: 100%|██████████| 352/352 [00:13<00:00, 26.72it/s, v_num=0, train_loss_step=0.243, val_loss_step=0.178, val_loss_epoch=0.380, train_loss_epoch=0.324, learning_rate=2.72e-5]"
     ]
    },
    {
     "name": "stderr",
     "output_type": "stream",
     "text": [
      "Epoch 103, global step 36608: 'val_loss_epoch' was not in top 3\n"
     ]
    },
    {
     "name": "stdout",
     "output_type": "stream",
     "text": [
      "Epoch 104: 100%|██████████| 352/352 [00:13<00:00, 26.74it/s, v_num=0, train_loss_step=0.412, val_loss_step=0.173, val_loss_epoch=0.392, train_loss_epoch=0.318, learning_rate=2.72e-5]"
     ]
    },
    {
     "name": "stderr",
     "output_type": "stream",
     "text": [
      "Epoch 104, global step 36960: 'val_loss_epoch' was not in top 3\n"
     ]
    },
    {
     "name": "stdout",
     "output_type": "stream",
     "text": [
      "Epoch 105: 100%|██████████| 352/352 [00:13<00:00, 26.79it/s, v_num=0, train_loss_step=0.448, val_loss_step=0.181, val_loss_epoch=0.381, train_loss_epoch=0.315, learning_rate=2.32e-5]"
     ]
    },
    {
     "name": "stderr",
     "output_type": "stream",
     "text": [
      "Epoch 105, global step 37312: 'val_loss_epoch' was not in top 3\n"
     ]
    },
    {
     "name": "stdout",
     "output_type": "stream",
     "text": [
      "Epoch 106: 100%|██████████| 352/352 [00:13<00:00, 26.84it/s, v_num=0, train_loss_step=0.526, val_loss_step=0.181, val_loss_epoch=0.382, train_loss_epoch=0.317, learning_rate=2.32e-5]"
     ]
    },
    {
     "name": "stderr",
     "output_type": "stream",
     "text": [
      "Epoch 106, global step 37664: 'val_loss_epoch' was not in top 3\n"
     ]
    },
    {
     "name": "stdout",
     "output_type": "stream",
     "text": [
      "Epoch 107: 100%|██████████| 352/352 [00:13<00:00, 26.79it/s, v_num=0, train_loss_step=0.261, val_loss_step=0.186, val_loss_epoch=0.395, train_loss_epoch=0.314, learning_rate=2.32e-5]"
     ]
    },
    {
     "name": "stderr",
     "output_type": "stream",
     "text": [
      "Epoch 107, global step 38016: 'val_loss_epoch' was not in top 3\n"
     ]
    },
    {
     "name": "stdout",
     "output_type": "stream",
     "text": [
      "Epoch 108: 100%|██████████| 352/352 [00:13<00:00, 26.79it/s, v_num=0, train_loss_step=0.343, val_loss_step=0.186, val_loss_epoch=0.388, train_loss_epoch=0.317, learning_rate=2.32e-5]"
     ]
    },
    {
     "name": "stderr",
     "output_type": "stream",
     "text": [
      "Epoch 108, global step 38368: 'val_loss_epoch' was not in top 3\n"
     ]
    },
    {
     "name": "stdout",
     "output_type": "stream",
     "text": [
      "Epoch 109: 100%|██████████| 352/352 [00:13<00:00, 26.75it/s, v_num=0, train_loss_step=0.226, val_loss_step=0.189, val_loss_epoch=0.383, train_loss_epoch=0.316, learning_rate=2.32e-5]"
     ]
    },
    {
     "name": "stderr",
     "output_type": "stream",
     "text": [
      "Epoch 109, global step 38720: 'val_loss_epoch' was not in top 3\n"
     ]
    },
    {
     "name": "stdout",
     "output_type": "stream",
     "text": [
      "Epoch 110: 100%|██████████| 352/352 [00:13<00:00, 26.75it/s, v_num=0, train_loss_step=0.326, val_loss_step=0.195, val_loss_epoch=0.380, train_loss_epoch=0.315, learning_rate=2.32e-5]"
     ]
    },
    {
     "name": "stderr",
     "output_type": "stream",
     "text": [
      "Epoch 110, global step 39072: 'val_loss_epoch' was not in top 3\n"
     ]
    },
    {
     "name": "stdout",
     "output_type": "stream",
     "text": [
      "Epoch 111: 100%|██████████| 352/352 [00:13<00:00, 26.77it/s, v_num=0, train_loss_step=0.421, val_loss_step=0.194, val_loss_epoch=0.382, train_loss_epoch=0.314, learning_rate=1.97e-5]"
     ]
    },
    {
     "name": "stderr",
     "output_type": "stream",
     "text": [
      "Epoch 111, global step 39424: 'val_loss_epoch' was not in top 3\n"
     ]
    },
    {
     "name": "stdout",
     "output_type": "stream",
     "text": [
      "Epoch 112: 100%|██████████| 352/352 [00:13<00:00, 26.71it/s, v_num=0, train_loss_step=0.343, val_loss_step=0.192, val_loss_epoch=0.379, train_loss_epoch=0.314, learning_rate=1.97e-5]"
     ]
    },
    {
     "name": "stderr",
     "output_type": "stream",
     "text": [
      "Epoch 112, global step 39776: 'val_loss_epoch' was not in top 3\n"
     ]
    },
    {
     "name": "stdout",
     "output_type": "stream",
     "text": [
      "Epoch 113: 100%|██████████| 352/352 [00:13<00:00, 26.72it/s, v_num=0, train_loss_step=0.179, val_loss_step=0.186, val_loss_epoch=0.382, train_loss_epoch=0.313, learning_rate=1.97e-5]"
     ]
    },
    {
     "name": "stderr",
     "output_type": "stream",
     "text": [
      "Epoch 113, global step 40128: 'val_loss_epoch' was not in top 3\n"
     ]
    },
    {
     "name": "stdout",
     "output_type": "stream",
     "text": [
      "Epoch 114: 100%|██████████| 352/352 [00:13<00:00, 26.84it/s, v_num=0, train_loss_step=0.283, val_loss_step=0.186, val_loss_epoch=0.380, train_loss_epoch=0.309, learning_rate=1.97e-5]"
     ]
    },
    {
     "name": "stderr",
     "output_type": "stream",
     "text": [
      "Epoch 114, global step 40480: 'val_loss_epoch' was not in top 3\n"
     ]
    },
    {
     "name": "stdout",
     "output_type": "stream",
     "text": [
      "Epoch 115: 100%|██████████| 352/352 [00:13<00:00, 26.66it/s, v_num=0, train_loss_step=0.440, val_loss_step=0.182, val_loss_epoch=0.382, train_loss_epoch=0.311, learning_rate=1.97e-5]"
     ]
    },
    {
     "name": "stderr",
     "output_type": "stream",
     "text": [
      "Epoch 115, global step 40832: 'val_loss_epoch' was not in top 3\n"
     ]
    },
    {
     "name": "stdout",
     "output_type": "stream",
     "text": [
      "Epoch 116: 100%|██████████| 352/352 [00:13<00:00, 26.80it/s, v_num=0, train_loss_step=0.266, val_loss_step=0.186, val_loss_epoch=0.381, train_loss_epoch=0.313, learning_rate=1.97e-5] "
     ]
    },
    {
     "name": "stderr",
     "output_type": "stream",
     "text": [
      "Epoch 116, global step 41184: 'val_loss_epoch' was not in top 3\n"
     ]
    },
    {
     "name": "stdout",
     "output_type": "stream",
     "text": [
      "Epoch 117: 100%|██████████| 352/352 [00:13<00:00, 26.75it/s, v_num=0, train_loss_step=0.221, val_loss_step=0.177, val_loss_epoch=0.382, train_loss_epoch=0.310, learning_rate=1.67e-5]"
     ]
    },
    {
     "name": "stderr",
     "output_type": "stream",
     "text": [
      "Epoch 117, global step 41536: 'val_loss_epoch' was not in top 3\n"
     ]
    },
    {
     "name": "stdout",
     "output_type": "stream",
     "text": [
      "Epoch 118: 100%|██████████| 352/352 [00:13<00:00, 26.84it/s, v_num=0, train_loss_step=0.193, val_loss_step=0.183, val_loss_epoch=0.391, train_loss_epoch=0.313, learning_rate=1.67e-5]"
     ]
    },
    {
     "name": "stderr",
     "output_type": "stream",
     "text": [
      "Epoch 118, global step 41888: 'val_loss_epoch' was not in top 3\n"
     ]
    },
    {
     "name": "stdout",
     "output_type": "stream",
     "text": [
      "Epoch 119: 100%|██████████| 352/352 [00:13<00:00, 26.74it/s, v_num=0, train_loss_step=0.309, val_loss_step=0.186, val_loss_epoch=0.383, train_loss_epoch=0.302, learning_rate=1.67e-5]"
     ]
    },
    {
     "name": "stderr",
     "output_type": "stream",
     "text": [
      "Epoch 119, global step 42240: 'val_loss_epoch' was not in top 3\n"
     ]
    },
    {
     "name": "stdout",
     "output_type": "stream",
     "text": [
      "Epoch 120: 100%|██████████| 352/352 [00:13<00:00, 26.75it/s, v_num=0, train_loss_step=0.262, val_loss_step=0.185, val_loss_epoch=0.390, train_loss_epoch=0.312, learning_rate=1.67e-5]"
     ]
    },
    {
     "name": "stderr",
     "output_type": "stream",
     "text": [
      "Epoch 120, global step 42592: 'val_loss_epoch' was not in top 3\n"
     ]
    },
    {
     "name": "stdout",
     "output_type": "stream",
     "text": [
      "Epoch 121: 100%|██████████| 352/352 [00:13<00:00, 26.76it/s, v_num=0, train_loss_step=0.581, val_loss_step=0.190, val_loss_epoch=0.387, train_loss_epoch=0.306, learning_rate=1.67e-5]"
     ]
    },
    {
     "name": "stderr",
     "output_type": "stream",
     "text": [
      "Epoch 121, global step 42944: 'val_loss_epoch' was not in top 3\n"
     ]
    },
    {
     "name": "stdout",
     "output_type": "stream",
     "text": [
      "Epoch 122: 100%|██████████| 352/352 [00:13<00:00, 26.76it/s, v_num=0, train_loss_step=0.251, val_loss_step=0.182, val_loss_epoch=0.377, train_loss_epoch=0.309, learning_rate=1.67e-5] "
     ]
    },
    {
     "name": "stderr",
     "output_type": "stream",
     "text": [
      "Epoch 122, global step 43296: 'val_loss_epoch' reached 0.37734 (best 0.37356), saving model to '/Users/Ling/dev/distortion_learning/ll_distortion_learning/logs/logs_CrossEntropy_conv2d_robust_2/checkpoints/epoch=122-val_loss=0.00.ckpt' as top 3\n"
     ]
    },
    {
     "name": "stdout",
     "output_type": "stream",
     "text": [
      "Epoch 123: 100%|██████████| 352/352 [00:13<00:00, 26.76it/s, v_num=0, train_loss_step=0.249, val_loss_step=0.194, val_loss_epoch=0.401, train_loss_epoch=0.306, learning_rate=1.42e-5] "
     ]
    },
    {
     "name": "stderr",
     "output_type": "stream",
     "text": [
      "Epoch 123, global step 43648: 'val_loss_epoch' was not in top 3\n"
     ]
    },
    {
     "name": "stdout",
     "output_type": "stream",
     "text": [
      "Epoch 124: 100%|██████████| 352/352 [00:13<00:00, 26.78it/s, v_num=0, train_loss_step=0.324, val_loss_step=0.187, val_loss_epoch=0.381, train_loss_epoch=0.299, learning_rate=1.42e-5] "
     ]
    },
    {
     "name": "stderr",
     "output_type": "stream",
     "text": [
      "Epoch 124, global step 44000: 'val_loss_epoch' was not in top 3\n"
     ]
    },
    {
     "name": "stdout",
     "output_type": "stream",
     "text": [
      "Epoch 125: 100%|██████████| 352/352 [00:13<00:00, 26.79it/s, v_num=0, train_loss_step=0.105, val_loss_step=0.192, val_loss_epoch=0.384, train_loss_epoch=0.299, learning_rate=1.42e-5]"
     ]
    },
    {
     "name": "stderr",
     "output_type": "stream",
     "text": [
      "Epoch 125, global step 44352: 'val_loss_epoch' was not in top 3\n"
     ]
    },
    {
     "name": "stdout",
     "output_type": "stream",
     "text": [
      "Epoch 126: 100%|██████████| 352/352 [00:13<00:00, 26.73it/s, v_num=0, train_loss_step=0.159, val_loss_step=0.191, val_loss_epoch=0.390, train_loss_epoch=0.306, learning_rate=1.42e-5]"
     ]
    },
    {
     "name": "stderr",
     "output_type": "stream",
     "text": [
      "Epoch 126, global step 44704: 'val_loss_epoch' was not in top 3\n"
     ]
    },
    {
     "name": "stdout",
     "output_type": "stream",
     "text": [
      "Epoch 127: 100%|██████████| 352/352 [00:13<00:00, 26.72it/s, v_num=0, train_loss_step=0.368, val_loss_step=0.193, val_loss_epoch=0.390, train_loss_epoch=0.300, learning_rate=1.42e-5]"
     ]
    },
    {
     "name": "stderr",
     "output_type": "stream",
     "text": [
      "Epoch 127, global step 45056: 'val_loss_epoch' was not in top 3\n"
     ]
    },
    {
     "name": "stdout",
     "output_type": "stream",
     "text": [
      "Epoch 128: 100%|██████████| 352/352 [00:13<00:00, 26.67it/s, v_num=0, train_loss_step=0.0917, val_loss_step=0.191, val_loss_epoch=0.379, train_loss_epoch=0.300, learning_rate=1.42e-5]"
     ]
    },
    {
     "name": "stderr",
     "output_type": "stream",
     "text": [
      "Epoch 128, global step 45408: 'val_loss_epoch' was not in top 3\n"
     ]
    },
    {
     "name": "stdout",
     "output_type": "stream",
     "text": [
      "Epoch 129: 100%|██████████| 352/352 [00:13<00:00, 26.74it/s, v_num=0, train_loss_step=0.438, val_loss_step=0.192, val_loss_epoch=0.380, train_loss_epoch=0.298, learning_rate=1.21e-5] "
     ]
    },
    {
     "name": "stderr",
     "output_type": "stream",
     "text": [
      "Epoch 129, global step 45760: 'val_loss_epoch' was not in top 3\n"
     ]
    },
    {
     "name": "stdout",
     "output_type": "stream",
     "text": [
      "Epoch 130: 100%|██████████| 352/352 [00:13<00:00, 26.75it/s, v_num=0, train_loss_step=0.394, val_loss_step=0.185, val_loss_epoch=0.382, train_loss_epoch=0.299, learning_rate=1.21e-5]"
     ]
    },
    {
     "name": "stderr",
     "output_type": "stream",
     "text": [
      "Epoch 130, global step 46112: 'val_loss_epoch' was not in top 3\n"
     ]
    },
    {
     "name": "stdout",
     "output_type": "stream",
     "text": [
      "Epoch 131: 100%|██████████| 352/352 [00:13<00:00, 26.73it/s, v_num=0, train_loss_step=0.196, val_loss_step=0.182, val_loss_epoch=0.386, train_loss_epoch=0.301, learning_rate=1.21e-5] "
     ]
    },
    {
     "name": "stderr",
     "output_type": "stream",
     "text": [
      "Epoch 131, global step 46464: 'val_loss_epoch' was not in top 3\n"
     ]
    },
    {
     "name": "stdout",
     "output_type": "stream",
     "text": [
      "Epoch 132: 100%|██████████| 352/352 [00:13<00:00, 26.74it/s, v_num=0, train_loss_step=0.203, val_loss_step=0.191, val_loss_epoch=0.384, train_loss_epoch=0.301, learning_rate=1.21e-5]"
     ]
    },
    {
     "name": "stderr",
     "output_type": "stream",
     "text": [
      "Epoch 132, global step 46816: 'val_loss_epoch' was not in top 3\n"
     ]
    },
    {
     "name": "stdout",
     "output_type": "stream",
     "text": [
      "Epoch 133: 100%|██████████| 352/352 [00:13<00:00, 26.77it/s, v_num=0, train_loss_step=0.263, val_loss_step=0.183, val_loss_epoch=0.384, train_loss_epoch=0.297, learning_rate=1.21e-5]"
     ]
    },
    {
     "name": "stderr",
     "output_type": "stream",
     "text": [
      "Epoch 133, global step 47168: 'val_loss_epoch' was not in top 3\n"
     ]
    },
    {
     "name": "stdout",
     "output_type": "stream",
     "text": [
      "Epoch 134: 100%|██████████| 352/352 [00:13<00:00, 26.57it/s, v_num=0, train_loss_step=0.275, val_loss_step=0.186, val_loss_epoch=0.381, train_loss_epoch=0.301, learning_rate=1.21e-5]"
     ]
    },
    {
     "name": "stderr",
     "output_type": "stream",
     "text": [
      "Epoch 134, global step 47520: 'val_loss_epoch' was not in top 3\n"
     ]
    },
    {
     "name": "stdout",
     "output_type": "stream",
     "text": [
      "Epoch 135: 100%|██████████| 352/352 [00:13<00:00, 26.64it/s, v_num=0, train_loss_step=0.672, val_loss_step=0.188, val_loss_epoch=0.377, train_loss_epoch=0.302, learning_rate=1.03e-5] "
     ]
    },
    {
     "name": "stderr",
     "output_type": "stream",
     "text": [
      "Epoch 135, global step 47872: 'val_loss_epoch' reached 0.37657 (best 0.37356), saving model to '/Users/Ling/dev/distortion_learning/ll_distortion_learning/logs/logs_CrossEntropy_conv2d_robust_2/checkpoints/epoch=135-val_loss=0.00.ckpt' as top 3\n"
     ]
    },
    {
     "name": "stdout",
     "output_type": "stream",
     "text": [
      "Epoch 136: 100%|██████████| 352/352 [00:13<00:00, 26.73it/s, v_num=0, train_loss_step=0.590, val_loss_step=0.186, val_loss_epoch=0.371, train_loss_epoch=0.299, learning_rate=1.03e-5] "
     ]
    },
    {
     "name": "stderr",
     "output_type": "stream",
     "text": [
      "Epoch 136, global step 48224: 'val_loss_epoch' reached 0.37101 (best 0.37101), saving model to '/Users/Ling/dev/distortion_learning/ll_distortion_learning/logs/logs_CrossEntropy_conv2d_robust_2/checkpoints/epoch=136-val_loss=0.00.ckpt' as top 3\n"
     ]
    },
    {
     "name": "stdout",
     "output_type": "stream",
     "text": [
      "Epoch 137: 100%|██████████| 352/352 [00:13<00:00, 26.67it/s, v_num=0, train_loss_step=0.402, val_loss_step=0.182, val_loss_epoch=0.387, train_loss_epoch=0.300, learning_rate=1.03e-5]"
     ]
    },
    {
     "name": "stderr",
     "output_type": "stream",
     "text": [
      "Epoch 137, global step 48576: 'val_loss_epoch' was not in top 3\n"
     ]
    },
    {
     "name": "stdout",
     "output_type": "stream",
     "text": [
      "Epoch 138: 100%|██████████| 352/352 [00:13<00:00, 26.73it/s, v_num=0, train_loss_step=0.280, val_loss_step=0.179, val_loss_epoch=0.386, train_loss_epoch=0.301, learning_rate=1.03e-5]"
     ]
    },
    {
     "name": "stderr",
     "output_type": "stream",
     "text": [
      "Epoch 138, global step 48928: 'val_loss_epoch' was not in top 3\n"
     ]
    },
    {
     "name": "stdout",
     "output_type": "stream",
     "text": [
      "Epoch 139: 100%|██████████| 352/352 [00:13<00:00, 26.80it/s, v_num=0, train_loss_step=0.206, val_loss_step=0.176, val_loss_epoch=0.385, train_loss_epoch=0.294, learning_rate=1.03e-5]"
     ]
    },
    {
     "name": "stderr",
     "output_type": "stream",
     "text": [
      "Epoch 139, global step 49280: 'val_loss_epoch' was not in top 3\n"
     ]
    },
    {
     "name": "stdout",
     "output_type": "stream",
     "text": [
      "Epoch 140: 100%|██████████| 352/352 [00:13<00:00, 26.74it/s, v_num=0, train_loss_step=0.300, val_loss_step=0.182, val_loss_epoch=0.377, train_loss_epoch=0.298, learning_rate=1.03e-5]"
     ]
    },
    {
     "name": "stderr",
     "output_type": "stream",
     "text": [
      "Epoch 140, global step 49632: 'val_loss_epoch' was not in top 3\n"
     ]
    },
    {
     "name": "stdout",
     "output_type": "stream",
     "text": [
      "Epoch 141: 100%|██████████| 352/352 [00:13<00:00, 26.70it/s, v_num=0, train_loss_step=0.589, val_loss_step=0.186, val_loss_epoch=0.373, train_loss_epoch=0.295, learning_rate=1.03e-5]"
     ]
    },
    {
     "name": "stderr",
     "output_type": "stream",
     "text": [
      "Epoch 141, global step 49984: 'val_loss_epoch' reached 0.37324 (best 0.37101), saving model to '/Users/Ling/dev/distortion_learning/ll_distortion_learning/logs/logs_CrossEntropy_conv2d_robust_2/checkpoints/epoch=141-val_loss=0.00.ckpt' as top 3\n"
     ]
    },
    {
     "name": "stdout",
     "output_type": "stream",
     "text": [
      "Epoch 142: 100%|██████████| 352/352 [00:13<00:00, 26.73it/s, v_num=0, train_loss_step=0.109, val_loss_step=0.180, val_loss_epoch=0.372, train_loss_epoch=0.296, learning_rate=1.03e-5]"
     ]
    },
    {
     "name": "stderr",
     "output_type": "stream",
     "text": [
      "Epoch 142, global step 50336: 'val_loss_epoch' reached 0.37214 (best 0.37101), saving model to '/Users/Ling/dev/distortion_learning/ll_distortion_learning/logs/logs_CrossEntropy_conv2d_robust_2/checkpoints/epoch=142-val_loss=0.00.ckpt' as top 3\n"
     ]
    },
    {
     "name": "stdout",
     "output_type": "stream",
     "text": [
      "Epoch 143: 100%|██████████| 352/352 [00:13<00:00, 26.75it/s, v_num=0, train_loss_step=0.177, val_loss_step=0.184, val_loss_epoch=0.380, train_loss_epoch=0.294, learning_rate=1.03e-5]"
     ]
    },
    {
     "name": "stderr",
     "output_type": "stream",
     "text": [
      "Epoch 143, global step 50688: 'val_loss_epoch' was not in top 3\n"
     ]
    },
    {
     "name": "stdout",
     "output_type": "stream",
     "text": [
      "Epoch 144: 100%|██████████| 352/352 [00:13<00:00, 26.71it/s, v_num=0, train_loss_step=0.284, val_loss_step=0.179, val_loss_epoch=0.381, train_loss_epoch=0.294, learning_rate=8.74e-6]"
     ]
    },
    {
     "name": "stderr",
     "output_type": "stream",
     "text": [
      "Epoch 144, global step 51040: 'val_loss_epoch' was not in top 3\n"
     ]
    },
    {
     "name": "stdout",
     "output_type": "stream",
     "text": [
      "Epoch 145: 100%|██████████| 352/352 [00:13<00:00, 26.76it/s, v_num=0, train_loss_step=0.239, val_loss_step=0.188, val_loss_epoch=0.382, train_loss_epoch=0.293, learning_rate=8.74e-6]"
     ]
    },
    {
     "name": "stderr",
     "output_type": "stream",
     "text": [
      "Epoch 145, global step 51392: 'val_loss_epoch' was not in top 3\n"
     ]
    },
    {
     "name": "stdout",
     "output_type": "stream",
     "text": [
      "Epoch 146: 100%|██████████| 352/352 [00:13<00:00, 26.71it/s, v_num=0, train_loss_step=0.199, val_loss_step=0.186, val_loss_epoch=0.379, train_loss_epoch=0.296, learning_rate=8.74e-6] "
     ]
    },
    {
     "name": "stderr",
     "output_type": "stream",
     "text": [
      "Epoch 146, global step 51744: 'val_loss_epoch' was not in top 3\n"
     ]
    },
    {
     "name": "stdout",
     "output_type": "stream",
     "text": [
      "Epoch 147: 100%|██████████| 352/352 [00:13<00:00, 26.65it/s, v_num=0, train_loss_step=0.278, val_loss_step=0.185, val_loss_epoch=0.380, train_loss_epoch=0.293, learning_rate=8.74e-6]"
     ]
    },
    {
     "name": "stderr",
     "output_type": "stream",
     "text": [
      "Epoch 147, global step 52096: 'val_loss_epoch' was not in top 3\n"
     ]
    },
    {
     "name": "stdout",
     "output_type": "stream",
     "text": [
      "Epoch 148: 100%|██████████| 352/352 [00:13<00:00, 26.83it/s, v_num=0, train_loss_step=0.126, val_loss_step=0.191, val_loss_epoch=0.383, train_loss_epoch=0.289, learning_rate=8.74e-6]"
     ]
    },
    {
     "name": "stderr",
     "output_type": "stream",
     "text": [
      "Epoch 148, global step 52448: 'val_loss_epoch' was not in top 3\n"
     ]
    },
    {
     "name": "stdout",
     "output_type": "stream",
     "text": [
      "Epoch 149: 100%|██████████| 352/352 [00:13<00:00, 26.72it/s, v_num=0, train_loss_step=0.264, val_loss_step=0.188, val_loss_epoch=0.381, train_loss_epoch=0.292, learning_rate=8.74e-6]"
     ]
    },
    {
     "name": "stderr",
     "output_type": "stream",
     "text": [
      "Epoch 149, global step 52800: 'val_loss_epoch' was not in top 3\n"
     ]
    },
    {
     "name": "stdout",
     "output_type": "stream",
     "text": [
      "Epoch 150: 100%|██████████| 352/352 [00:13<00:00, 26.70it/s, v_num=0, train_loss_step=0.482, val_loss_step=0.182, val_loss_epoch=0.373, train_loss_epoch=0.293, learning_rate=7.43e-6]"
     ]
    },
    {
     "name": "stderr",
     "output_type": "stream",
     "text": [
      "Epoch 150, global step 53152: 'val_loss_epoch' reached 0.37287 (best 0.37101), saving model to '/Users/Ling/dev/distortion_learning/ll_distortion_learning/logs/logs_CrossEntropy_conv2d_robust_2/checkpoints/epoch=150-val_loss=0.00.ckpt' as top 3\n"
     ]
    },
    {
     "name": "stdout",
     "output_type": "stream",
     "text": [
      "Epoch 151: 100%|██████████| 352/352 [00:13<00:00, 26.74it/s, v_num=0, train_loss_step=0.270, val_loss_step=0.181, val_loss_epoch=0.380, train_loss_epoch=0.292, learning_rate=7.43e-6] "
     ]
    },
    {
     "name": "stderr",
     "output_type": "stream",
     "text": [
      "Epoch 151, global step 53504: 'val_loss_epoch' was not in top 3\n"
     ]
    },
    {
     "name": "stdout",
     "output_type": "stream",
     "text": [
      "Epoch 152: 100%|██████████| 352/352 [00:13<00:00, 26.67it/s, v_num=0, train_loss_step=0.129, val_loss_step=0.178, val_loss_epoch=0.387, train_loss_epoch=0.290, learning_rate=7.43e-6]"
     ]
    },
    {
     "name": "stderr",
     "output_type": "stream",
     "text": [
      "Epoch 152, global step 53856: 'val_loss_epoch' was not in top 3\n"
     ]
    },
    {
     "name": "stdout",
     "output_type": "stream",
     "text": [
      "Epoch 153: 100%|██████████| 352/352 [00:13<00:00, 26.79it/s, v_num=0, train_loss_step=0.384, val_loss_step=0.182, val_loss_epoch=0.392, train_loss_epoch=0.299, learning_rate=7.43e-6] "
     ]
    },
    {
     "name": "stderr",
     "output_type": "stream",
     "text": [
      "Epoch 153, global step 54208: 'val_loss_epoch' was not in top 3\n"
     ]
    },
    {
     "name": "stdout",
     "output_type": "stream",
     "text": [
      "Epoch 154: 100%|██████████| 352/352 [00:13<00:00, 26.64it/s, v_num=0, train_loss_step=0.211, val_loss_step=0.182, val_loss_epoch=0.384, train_loss_epoch=0.292, learning_rate=7.43e-6]"
     ]
    },
    {
     "name": "stderr",
     "output_type": "stream",
     "text": [
      "Epoch 154, global step 54560: 'val_loss_epoch' was not in top 3\n"
     ]
    },
    {
     "name": "stdout",
     "output_type": "stream",
     "text": [
      "Epoch 155: 100%|██████████| 352/352 [00:13<00:00, 26.74it/s, v_num=0, train_loss_step=0.331, val_loss_step=0.183, val_loss_epoch=0.386, train_loss_epoch=0.289, learning_rate=7.43e-6] "
     ]
    },
    {
     "name": "stderr",
     "output_type": "stream",
     "text": [
      "Epoch 155, global step 54912: 'val_loss_epoch' was not in top 3\n"
     ]
    },
    {
     "name": "stdout",
     "output_type": "stream",
     "text": [
      "Epoch 156: 100%|██████████| 352/352 [00:13<00:00, 26.79it/s, v_num=0, train_loss_step=0.233, val_loss_step=0.180, val_loss_epoch=0.386, train_loss_epoch=0.289, learning_rate=6.31e-6]"
     ]
    },
    {
     "name": "stderr",
     "output_type": "stream",
     "text": [
      "Epoch 156, global step 55264: 'val_loss_epoch' was not in top 3\n"
     ]
    },
    {
     "name": "stdout",
     "output_type": "stream",
     "text": [
      "Epoch 157: 100%|██████████| 352/352 [00:13<00:00, 26.78it/s, v_num=0, train_loss_step=0.240, val_loss_step=0.183, val_loss_epoch=0.391, train_loss_epoch=0.294, learning_rate=6.31e-6] "
     ]
    },
    {
     "name": "stderr",
     "output_type": "stream",
     "text": [
      "Epoch 157, global step 55616: 'val_loss_epoch' was not in top 3\n"
     ]
    },
    {
     "name": "stdout",
     "output_type": "stream",
     "text": [
      "Epoch 158: 100%|██████████| 352/352 [00:13<00:00, 26.75it/s, v_num=0, train_loss_step=0.143, val_loss_step=0.183, val_loss_epoch=0.377, train_loss_epoch=0.287, learning_rate=6.31e-6]"
     ]
    },
    {
     "name": "stderr",
     "output_type": "stream",
     "text": [
      "Epoch 158, global step 55968: 'val_loss_epoch' was not in top 3\n"
     ]
    },
    {
     "name": "stdout",
     "output_type": "stream",
     "text": [
      "Epoch 159: 100%|██████████| 352/352 [00:13<00:00, 26.83it/s, v_num=0, train_loss_step=0.263, val_loss_step=0.184, val_loss_epoch=0.391, train_loss_epoch=0.292, learning_rate=6.31e-6] "
     ]
    },
    {
     "name": "stderr",
     "output_type": "stream",
     "text": [
      "Epoch 159, global step 56320: 'val_loss_epoch' was not in top 3\n"
     ]
    },
    {
     "name": "stdout",
     "output_type": "stream",
     "text": [
      "Epoch 160: 100%|██████████| 352/352 [00:13<00:00, 26.73it/s, v_num=0, train_loss_step=0.267, val_loss_step=0.183, val_loss_epoch=0.386, train_loss_epoch=0.290, learning_rate=6.31e-6]"
     ]
    },
    {
     "name": "stderr",
     "output_type": "stream",
     "text": [
      "Epoch 160, global step 56672: 'val_loss_epoch' was not in top 3\n"
     ]
    },
    {
     "name": "stdout",
     "output_type": "stream",
     "text": [
      "Epoch 161: 100%|██████████| 352/352 [00:13<00:00, 26.69it/s, v_num=0, train_loss_step=0.245, val_loss_step=0.179, val_loss_epoch=0.389, train_loss_epoch=0.289, learning_rate=6.31e-6]"
     ]
    },
    {
     "name": "stderr",
     "output_type": "stream",
     "text": [
      "Epoch 161, global step 57024: 'val_loss_epoch' was not in top 3\n"
     ]
    },
    {
     "name": "stdout",
     "output_type": "stream",
     "text": [
      "Epoch 162: 100%|██████████| 352/352 [00:13<00:00, 26.71it/s, v_num=0, train_loss_step=0.263, val_loss_step=0.182, val_loss_epoch=0.389, train_loss_epoch=0.290, learning_rate=5.36e-6]"
     ]
    },
    {
     "name": "stderr",
     "output_type": "stream",
     "text": [
      "Epoch 162, global step 57376: 'val_loss_epoch' was not in top 3\n"
     ]
    },
    {
     "name": "stdout",
     "output_type": "stream",
     "text": [
      "Epoch 163: 100%|██████████| 352/352 [00:13<00:00, 26.64it/s, v_num=0, train_loss_step=0.275, val_loss_step=0.178, val_loss_epoch=0.385, train_loss_epoch=0.289, learning_rate=5.36e-6] "
     ]
    },
    {
     "name": "stderr",
     "output_type": "stream",
     "text": [
      "Epoch 163, global step 57728: 'val_loss_epoch' was not in top 3\n"
     ]
    },
    {
     "name": "stdout",
     "output_type": "stream",
     "text": [
      "Epoch 164: 100%|██████████| 352/352 [00:13<00:00, 26.66it/s, v_num=0, train_loss_step=0.208, val_loss_step=0.180, val_loss_epoch=0.376, train_loss_epoch=0.292, learning_rate=5.36e-6] "
     ]
    },
    {
     "name": "stderr",
     "output_type": "stream",
     "text": [
      "Epoch 164, global step 58080: 'val_loss_epoch' was not in top 3\n"
     ]
    },
    {
     "name": "stdout",
     "output_type": "stream",
     "text": [
      "Epoch 165: 100%|██████████| 352/352 [00:13<00:00, 26.80it/s, v_num=0, train_loss_step=0.438, val_loss_step=0.179, val_loss_epoch=0.389, train_loss_epoch=0.290, learning_rate=5.36e-6] "
     ]
    },
    {
     "name": "stderr",
     "output_type": "stream",
     "text": [
      "Epoch 165, global step 58432: 'val_loss_epoch' was not in top 3\n"
     ]
    },
    {
     "name": "stdout",
     "output_type": "stream",
     "text": [
      "Epoch 166: 100%|██████████| 352/352 [00:13<00:00, 26.72it/s, v_num=0, train_loss_step=0.219, val_loss_step=0.180, val_loss_epoch=0.381, train_loss_epoch=0.289, learning_rate=5.36e-6] "
     ]
    },
    {
     "name": "stderr",
     "output_type": "stream",
     "text": [
      "Epoch 166, global step 58784: 'val_loss_epoch' was not in top 3\n"
     ]
    },
    {
     "name": "stdout",
     "output_type": "stream",
     "text": [
      "Epoch 167: 100%|██████████| 352/352 [00:13<00:00, 26.71it/s, v_num=0, train_loss_step=0.609, val_loss_step=0.186, val_loss_epoch=0.383, train_loss_epoch=0.291, learning_rate=5.36e-6]"
     ]
    },
    {
     "name": "stderr",
     "output_type": "stream",
     "text": [
      "Epoch 167, global step 59136: 'val_loss_epoch' was not in top 3\n"
     ]
    },
    {
     "name": "stdout",
     "output_type": "stream",
     "text": [
      "Epoch 168: 100%|██████████| 352/352 [00:13<00:00, 26.72it/s, v_num=0, train_loss_step=0.269, val_loss_step=0.181, val_loss_epoch=0.387, train_loss_epoch=0.285, learning_rate=4.56e-6]"
     ]
    },
    {
     "name": "stderr",
     "output_type": "stream",
     "text": [
      "Epoch 168, global step 59488: 'val_loss_epoch' was not in top 3\n"
     ]
    },
    {
     "name": "stdout",
     "output_type": "stream",
     "text": [
      "Epoch 169: 100%|██████████| 352/352 [00:13<00:00, 26.74it/s, v_num=0, train_loss_step=0.246, val_loss_step=0.179, val_loss_epoch=0.386, train_loss_epoch=0.285, learning_rate=4.56e-6]"
     ]
    },
    {
     "name": "stderr",
     "output_type": "stream",
     "text": [
      "Epoch 169, global step 59840: 'val_loss_epoch' was not in top 3\n"
     ]
    },
    {
     "name": "stdout",
     "output_type": "stream",
     "text": [
      "Epoch 170: 100%|██████████| 352/352 [00:13<00:00, 26.75it/s, v_num=0, train_loss_step=0.538, val_loss_step=0.185, val_loss_epoch=0.385, train_loss_epoch=0.288, learning_rate=4.56e-6]"
     ]
    },
    {
     "name": "stderr",
     "output_type": "stream",
     "text": [
      "Epoch 170, global step 60192: 'val_loss_epoch' was not in top 3\n"
     ]
    },
    {
     "name": "stdout",
     "output_type": "stream",
     "text": [
      "Epoch 171: 100%|██████████| 352/352 [00:13<00:00, 26.72it/s, v_num=0, train_loss_step=0.247, val_loss_step=0.184, val_loss_epoch=0.379, train_loss_epoch=0.289, learning_rate=4.56e-6]"
     ]
    },
    {
     "name": "stderr",
     "output_type": "stream",
     "text": [
      "Epoch 171, global step 60544: 'val_loss_epoch' was not in top 3\n"
     ]
    },
    {
     "name": "stdout",
     "output_type": "stream",
     "text": [
      "Epoch 172: 100%|██████████| 352/352 [00:13<00:00, 26.76it/s, v_num=0, train_loss_step=0.324, val_loss_step=0.179, val_loss_epoch=0.387, train_loss_epoch=0.288, learning_rate=4.56e-6] "
     ]
    },
    {
     "name": "stderr",
     "output_type": "stream",
     "text": [
      "Epoch 172, global step 60896: 'val_loss_epoch' was not in top 3\n"
     ]
    },
    {
     "name": "stdout",
     "output_type": "stream",
     "text": [
      "Epoch 173: 100%|██████████| 352/352 [00:13<00:00, 26.72it/s, v_num=0, train_loss_step=0.261, val_loss_step=0.184, val_loss_epoch=0.381, train_loss_epoch=0.290, learning_rate=4.56e-6] "
     ]
    },
    {
     "name": "stderr",
     "output_type": "stream",
     "text": [
      "Epoch 173, global step 61248: 'val_loss_epoch' was not in top 3\n"
     ]
    },
    {
     "name": "stdout",
     "output_type": "stream",
     "text": [
      "Epoch 174: 100%|██████████| 352/352 [00:13<00:00, 26.78it/s, v_num=0, train_loss_step=0.155, val_loss_step=0.186, val_loss_epoch=0.376, train_loss_epoch=0.288, learning_rate=3.88e-6] "
     ]
    },
    {
     "name": "stderr",
     "output_type": "stream",
     "text": [
      "Epoch 174, global step 61600: 'val_loss_epoch' was not in top 3\n"
     ]
    },
    {
     "name": "stdout",
     "output_type": "stream",
     "text": [
      "Epoch 175: 100%|██████████| 352/352 [00:13<00:00, 26.73it/s, v_num=0, train_loss_step=0.143, val_loss_step=0.187, val_loss_epoch=0.384, train_loss_epoch=0.284, learning_rate=3.88e-6] "
     ]
    },
    {
     "name": "stderr",
     "output_type": "stream",
     "text": [
      "Epoch 175, global step 61952: 'val_loss_epoch' was not in top 3\n"
     ]
    },
    {
     "name": "stdout",
     "output_type": "stream",
     "text": [
      "Epoch 176: 100%|██████████| 352/352 [00:13<00:00, 26.76it/s, v_num=0, train_loss_step=0.326, val_loss_step=0.186, val_loss_epoch=0.377, train_loss_epoch=0.288, learning_rate=3.88e-6]"
     ]
    },
    {
     "name": "stderr",
     "output_type": "stream",
     "text": [
      "Epoch 176, global step 62304: 'val_loss_epoch' was not in top 3\n"
     ]
    },
    {
     "name": "stdout",
     "output_type": "stream",
     "text": [
      "Epoch 177: 100%|██████████| 352/352 [00:13<00:00, 26.84it/s, v_num=0, train_loss_step=0.251, val_loss_step=0.179, val_loss_epoch=0.391, train_loss_epoch=0.282, learning_rate=3.88e-6]"
     ]
    },
    {
     "name": "stderr",
     "output_type": "stream",
     "text": [
      "Epoch 177, global step 62656: 'val_loss_epoch' was not in top 3\n"
     ]
    },
    {
     "name": "stdout",
     "output_type": "stream",
     "text": [
      "Epoch 178: 100%|██████████| 352/352 [00:13<00:00, 26.71it/s, v_num=0, train_loss_step=0.251, val_loss_step=0.180, val_loss_epoch=0.386, train_loss_epoch=0.286, learning_rate=3.88e-6] "
     ]
    },
    {
     "name": "stderr",
     "output_type": "stream",
     "text": [
      "Epoch 178, global step 63008: 'val_loss_epoch' was not in top 3\n"
     ]
    },
    {
     "name": "stdout",
     "output_type": "stream",
     "text": [
      "Epoch 179: 100%|██████████| 352/352 [00:13<00:00, 26.76it/s, v_num=0, train_loss_step=0.347, val_loss_step=0.182, val_loss_epoch=0.379, train_loss_epoch=0.285, learning_rate=3.88e-6] "
     ]
    },
    {
     "name": "stderr",
     "output_type": "stream",
     "text": [
      "Epoch 179, global step 63360: 'val_loss_epoch' was not in top 3\n"
     ]
    },
    {
     "name": "stdout",
     "output_type": "stream",
     "text": [
      "Epoch 180: 100%|██████████| 352/352 [00:13<00:00, 26.47it/s, v_num=0, train_loss_step=0.313, val_loss_step=0.176, val_loss_epoch=0.395, train_loss_epoch=0.287, learning_rate=3.29e-6] "
     ]
    },
    {
     "name": "stderr",
     "output_type": "stream",
     "text": [
      "Epoch 180, global step 63712: 'val_loss_epoch' was not in top 3\n"
     ]
    },
    {
     "name": "stdout",
     "output_type": "stream",
     "text": [
      "Epoch 181: 100%|██████████| 352/352 [00:13<00:00, 26.81it/s, v_num=0, train_loss_step=0.297, val_loss_step=0.181, val_loss_epoch=0.388, train_loss_epoch=0.292, learning_rate=3.29e-6] "
     ]
    },
    {
     "name": "stderr",
     "output_type": "stream",
     "text": [
      "Epoch 181, global step 64064: 'val_loss_epoch' was not in top 3\n"
     ]
    },
    {
     "name": "stdout",
     "output_type": "stream",
     "text": [
      "Epoch 182: 100%|██████████| 352/352 [00:13<00:00, 26.70it/s, v_num=0, train_loss_step=0.309, val_loss_step=0.178, val_loss_epoch=0.391, train_loss_epoch=0.281, learning_rate=3.29e-6] "
     ]
    },
    {
     "name": "stderr",
     "output_type": "stream",
     "text": [
      "Epoch 182, global step 64416: 'val_loss_epoch' was not in top 3\n"
     ]
    },
    {
     "name": "stdout",
     "output_type": "stream",
     "text": [
      "Epoch 183: 100%|██████████| 352/352 [00:13<00:00, 26.69it/s, v_num=0, train_loss_step=0.264, val_loss_step=0.183, val_loss_epoch=0.390, train_loss_epoch=0.283, learning_rate=3.29e-6] "
     ]
    },
    {
     "name": "stderr",
     "output_type": "stream",
     "text": [
      "Epoch 183, global step 64768: 'val_loss_epoch' was not in top 3\n"
     ]
    },
    {
     "name": "stdout",
     "output_type": "stream",
     "text": [
      "Epoch 184: 100%|██████████| 352/352 [00:13<00:00, 26.66it/s, v_num=0, train_loss_step=0.433, val_loss_step=0.176, val_loss_epoch=0.387, train_loss_epoch=0.285, learning_rate=3.29e-6]"
     ]
    },
    {
     "name": "stderr",
     "output_type": "stream",
     "text": [
      "Epoch 184, global step 65120: 'val_loss_epoch' was not in top 3\n"
     ]
    },
    {
     "name": "stdout",
     "output_type": "stream",
     "text": [
      "Epoch 185: 100%|██████████| 352/352 [00:13<00:00, 26.68it/s, v_num=0, train_loss_step=0.170, val_loss_step=0.182, val_loss_epoch=0.379, train_loss_epoch=0.286, learning_rate=3.29e-6]"
     ]
    },
    {
     "name": "stderr",
     "output_type": "stream",
     "text": [
      "Epoch 185, global step 65472: 'val_loss_epoch' was not in top 3\n"
     ]
    },
    {
     "name": "stdout",
     "output_type": "stream",
     "text": [
      "Epoch 186: 100%|██████████| 352/352 [00:13<00:00, 26.75it/s, v_num=0, train_loss_step=0.216, val_loss_step=0.184, val_loss_epoch=0.381, train_loss_epoch=0.283, learning_rate=2.8e-6] "
     ]
    },
    {
     "name": "stderr",
     "output_type": "stream",
     "text": [
      "Epoch 186, global step 65824: 'val_loss_epoch' was not in top 3\n"
     ]
    },
    {
     "name": "stdout",
     "output_type": "stream",
     "text": [
      "Epoch 187: 100%|██████████| 352/352 [00:13<00:00, 26.73it/s, v_num=0, train_loss_step=0.353, val_loss_step=0.178, val_loss_epoch=0.384, train_loss_epoch=0.292, learning_rate=2.8e-6]"
     ]
    },
    {
     "name": "stderr",
     "output_type": "stream",
     "text": [
      "Epoch 187, global step 66176: 'val_loss_epoch' was not in top 3\n"
     ]
    },
    {
     "name": "stdout",
     "output_type": "stream",
     "text": [
      "Epoch 188: 100%|██████████| 352/352 [00:13<00:00, 26.73it/s, v_num=0, train_loss_step=0.353, val_loss_step=0.180, val_loss_epoch=0.386, train_loss_epoch=0.286, learning_rate=2.8e-6] "
     ]
    },
    {
     "name": "stderr",
     "output_type": "stream",
     "text": [
      "Epoch 188, global step 66528: 'val_loss_epoch' was not in top 3\n"
     ]
    },
    {
     "name": "stdout",
     "output_type": "stream",
     "text": [
      "Epoch 189: 100%|██████████| 352/352 [00:13<00:00, 26.72it/s, v_num=0, train_loss_step=0.365, val_loss_step=0.183, val_loss_epoch=0.392, train_loss_epoch=0.285, learning_rate=2.8e-6]"
     ]
    },
    {
     "name": "stderr",
     "output_type": "stream",
     "text": [
      "Epoch 189, global step 66880: 'val_loss_epoch' was not in top 3\n"
     ]
    },
    {
     "name": "stdout",
     "output_type": "stream",
     "text": [
      "Epoch 190: 100%|██████████| 352/352 [00:13<00:00, 26.79it/s, v_num=0, train_loss_step=0.498, val_loss_step=0.182, val_loss_epoch=0.387, train_loss_epoch=0.286, learning_rate=2.8e-6]"
     ]
    },
    {
     "name": "stderr",
     "output_type": "stream",
     "text": [
      "Epoch 190, global step 67232: 'val_loss_epoch' was not in top 3\n"
     ]
    },
    {
     "name": "stdout",
     "output_type": "stream",
     "text": [
      "Epoch 191: 100%|██████████| 352/352 [00:13<00:00, 26.70it/s, v_num=0, train_loss_step=0.552, val_loss_step=0.179, val_loss_epoch=0.384, train_loss_epoch=0.287, learning_rate=2.8e-6] "
     ]
    },
    {
     "name": "stderr",
     "output_type": "stream",
     "text": [
      "Epoch 191, global step 67584: 'val_loss_epoch' was not in top 3\n"
     ]
    },
    {
     "name": "stdout",
     "output_type": "stream",
     "text": [
      "Epoch 192: 100%|██████████| 352/352 [00:13<00:00, 26.81it/s, v_num=0, train_loss_step=0.286, val_loss_step=0.177, val_loss_epoch=0.385, train_loss_epoch=0.287, learning_rate=2.38e-6] "
     ]
    },
    {
     "name": "stderr",
     "output_type": "stream",
     "text": [
      "Epoch 192, global step 67936: 'val_loss_epoch' was not in top 3\n"
     ]
    },
    {
     "name": "stdout",
     "output_type": "stream",
     "text": [
      "Epoch 193: 100%|██████████| 352/352 [00:13<00:00, 26.62it/s, v_num=0, train_loss_step=0.266, val_loss_step=0.184, val_loss_epoch=0.382, train_loss_epoch=0.283, learning_rate=2.38e-6]"
     ]
    },
    {
     "name": "stderr",
     "output_type": "stream",
     "text": [
      "Epoch 193, global step 68288: 'val_loss_epoch' was not in top 3\n"
     ]
    },
    {
     "name": "stdout",
     "output_type": "stream",
     "text": [
      "Epoch 194: 100%|██████████| 352/352 [00:13<00:00, 26.63it/s, v_num=0, train_loss_step=0.433, val_loss_step=0.182, val_loss_epoch=0.378, train_loss_epoch=0.282, learning_rate=2.38e-6]"
     ]
    },
    {
     "name": "stderr",
     "output_type": "stream",
     "text": [
      "Epoch 194, global step 68640: 'val_loss_epoch' was not in top 3\n"
     ]
    },
    {
     "name": "stdout",
     "output_type": "stream",
     "text": [
      "Epoch 195: 100%|██████████| 352/352 [00:13<00:00, 26.73it/s, v_num=0, train_loss_step=0.338, val_loss_step=0.179, val_loss_epoch=0.386, train_loss_epoch=0.282, learning_rate=2.38e-6]"
     ]
    },
    {
     "name": "stderr",
     "output_type": "stream",
     "text": [
      "Epoch 195, global step 68992: 'val_loss_epoch' was not in top 3\n"
     ]
    },
    {
     "name": "stdout",
     "output_type": "stream",
     "text": [
      "Epoch 196: 100%|██████████| 352/352 [00:13<00:00, 26.73it/s, v_num=0, train_loss_step=0.284, val_loss_step=0.181, val_loss_epoch=0.383, train_loss_epoch=0.283, learning_rate=2.38e-6]"
     ]
    },
    {
     "name": "stderr",
     "output_type": "stream",
     "text": [
      "Epoch 196, global step 69344: 'val_loss_epoch' was not in top 3\n"
     ]
    },
    {
     "name": "stdout",
     "output_type": "stream",
     "text": [
      "Epoch 197: 100%|██████████| 352/352 [00:13<00:00, 26.69it/s, v_num=0, train_loss_step=0.295, val_loss_step=0.184, val_loss_epoch=0.379, train_loss_epoch=0.283, learning_rate=2.38e-6]"
     ]
    },
    {
     "name": "stderr",
     "output_type": "stream",
     "text": [
      "Epoch 197, global step 69696: 'val_loss_epoch' was not in top 3\n"
     ]
    },
    {
     "name": "stdout",
     "output_type": "stream",
     "text": [
      "Epoch 198: 100%|██████████| 352/352 [00:13<00:00, 26.66it/s, v_num=0, train_loss_step=0.156, val_loss_step=0.182, val_loss_epoch=0.381, train_loss_epoch=0.283, learning_rate=2.02e-6]"
     ]
    },
    {
     "name": "stderr",
     "output_type": "stream",
     "text": [
      "Epoch 198, global step 70048: 'val_loss_epoch' was not in top 3\n"
     ]
    },
    {
     "name": "stdout",
     "output_type": "stream",
     "text": [
      "Epoch 199: 100%|██████████| 352/352 [00:13<00:00, 26.71it/s, v_num=0, train_loss_step=0.186, val_loss_step=0.181, val_loss_epoch=0.376, train_loss_epoch=0.283, learning_rate=2.02e-6] "
     ]
    },
    {
     "name": "stderr",
     "output_type": "stream",
     "text": [
      "Epoch 199, global step 70400: 'val_loss_epoch' was not in top 3\n"
     ]
    },
    {
     "name": "stdout",
     "output_type": "stream",
     "text": [
      "Epoch 200: 100%|██████████| 352/352 [00:13<00:00, 26.76it/s, v_num=0, train_loss_step=0.212, val_loss_step=0.183, val_loss_epoch=0.380, train_loss_epoch=0.289, learning_rate=2.02e-6] "
     ]
    },
    {
     "name": "stderr",
     "output_type": "stream",
     "text": [
      "Epoch 200, global step 70752: 'val_loss_epoch' was not in top 3\n"
     ]
    },
    {
     "name": "stdout",
     "output_type": "stream",
     "text": [
      "Epoch 201: 100%|██████████| 352/352 [00:13<00:00, 26.82it/s, v_num=0, train_loss_step=0.281, val_loss_step=0.180, val_loss_epoch=0.384, train_loss_epoch=0.280, learning_rate=2.02e-6]"
     ]
    },
    {
     "name": "stderr",
     "output_type": "stream",
     "text": [
      "Epoch 201, global step 71104: 'val_loss_epoch' was not in top 3\n"
     ]
    },
    {
     "name": "stdout",
     "output_type": "stream",
     "text": [
      "Epoch 202: 100%|██████████| 352/352 [00:13<00:00, 26.77it/s, v_num=0, train_loss_step=0.274, val_loss_step=0.181, val_loss_epoch=0.383, train_loss_epoch=0.285, learning_rate=2.02e-6] "
     ]
    },
    {
     "name": "stderr",
     "output_type": "stream",
     "text": [
      "Epoch 202, global step 71456: 'val_loss_epoch' was not in top 3\n"
     ]
    },
    {
     "name": "stdout",
     "output_type": "stream",
     "text": [
      "Epoch 203: 100%|██████████| 352/352 [00:13<00:00, 26.70it/s, v_num=0, train_loss_step=0.354, val_loss_step=0.185, val_loss_epoch=0.381, train_loss_epoch=0.281, learning_rate=2.02e-6]"
     ]
    },
    {
     "name": "stderr",
     "output_type": "stream",
     "text": [
      "Epoch 203, global step 71808: 'val_loss_epoch' was not in top 3\n"
     ]
    },
    {
     "name": "stdout",
     "output_type": "stream",
     "text": [
      "Epoch 204: 100%|██████████| 352/352 [00:13<00:00, 26.67it/s, v_num=0, train_loss_step=0.265, val_loss_step=0.179, val_loss_epoch=0.380, train_loss_epoch=0.285, learning_rate=1.72e-6] "
     ]
    },
    {
     "name": "stderr",
     "output_type": "stream",
     "text": [
      "Epoch 204, global step 72160: 'val_loss_epoch' was not in top 3\n"
     ]
    },
    {
     "name": "stdout",
     "output_type": "stream",
     "text": [
      "Epoch 205: 100%|██████████| 352/352 [00:13<00:00, 26.77it/s, v_num=0, train_loss_step=0.593, val_loss_step=0.179, val_loss_epoch=0.381, train_loss_epoch=0.280, learning_rate=1.72e-6]"
     ]
    },
    {
     "name": "stderr",
     "output_type": "stream",
     "text": [
      "Epoch 205, global step 72512: 'val_loss_epoch' was not in top 3\n"
     ]
    },
    {
     "name": "stdout",
     "output_type": "stream",
     "text": [
      "Epoch 206: 100%|██████████| 352/352 [00:13<00:00, 26.76it/s, v_num=0, train_loss_step=0.189, val_loss_step=0.181, val_loss_epoch=0.378, train_loss_epoch=0.288, learning_rate=1.72e-6]"
     ]
    },
    {
     "name": "stderr",
     "output_type": "stream",
     "text": [
      "Epoch 206, global step 72864: 'val_loss_epoch' was not in top 3\n"
     ]
    },
    {
     "name": "stdout",
     "output_type": "stream",
     "text": [
      "Epoch 207: 100%|██████████| 352/352 [00:13<00:00, 26.72it/s, v_num=0, train_loss_step=0.244, val_loss_step=0.178, val_loss_epoch=0.385, train_loss_epoch=0.285, learning_rate=1.72e-6] "
     ]
    },
    {
     "name": "stderr",
     "output_type": "stream",
     "text": [
      "Epoch 207, global step 73216: 'val_loss_epoch' was not in top 3\n"
     ]
    },
    {
     "name": "stdout",
     "output_type": "stream",
     "text": [
      "Epoch 208: 100%|██████████| 352/352 [00:13<00:00, 26.62it/s, v_num=0, train_loss_step=0.840, val_loss_step=0.184, val_loss_epoch=0.390, train_loss_epoch=0.284, learning_rate=1.72e-6]"
     ]
    },
    {
     "name": "stderr",
     "output_type": "stream",
     "text": [
      "Epoch 208, global step 73568: 'val_loss_epoch' was not in top 3\n"
     ]
    },
    {
     "name": "stdout",
     "output_type": "stream",
     "text": [
      "Epoch 209: 100%|██████████| 352/352 [00:13<00:00, 26.69it/s, v_num=0, train_loss_step=0.291, val_loss_step=0.182, val_loss_epoch=0.390, train_loss_epoch=0.282, learning_rate=1.72e-6]"
     ]
    },
    {
     "name": "stderr",
     "output_type": "stream",
     "text": [
      "Epoch 209, global step 73920: 'val_loss_epoch' was not in top 3\n"
     ]
    },
    {
     "name": "stdout",
     "output_type": "stream",
     "text": [
      "Epoch 210: 100%|██████████| 352/352 [00:13<00:00, 26.81it/s, v_num=0, train_loss_step=0.190, val_loss_step=0.180, val_loss_epoch=0.385, train_loss_epoch=0.283, learning_rate=1.46e-6]"
     ]
    },
    {
     "name": "stderr",
     "output_type": "stream",
     "text": [
      "Epoch 210, global step 74272: 'val_loss_epoch' was not in top 3\n"
     ]
    },
    {
     "name": "stdout",
     "output_type": "stream",
     "text": [
      "Epoch 211: 100%|██████████| 352/352 [00:13<00:00, 26.77it/s, v_num=0, train_loss_step=0.223, val_loss_step=0.181, val_loss_epoch=0.385, train_loss_epoch=0.285, learning_rate=1.46e-6] "
     ]
    },
    {
     "name": "stderr",
     "output_type": "stream",
     "text": [
      "Epoch 211, global step 74624: 'val_loss_epoch' was not in top 3\n"
     ]
    },
    {
     "name": "stdout",
     "output_type": "stream",
     "text": [
      "Epoch 212: 100%|██████████| 352/352 [00:13<00:00, 26.72it/s, v_num=0, train_loss_step=0.255, val_loss_step=0.181, val_loss_epoch=0.389, train_loss_epoch=0.281, learning_rate=1.46e-6]"
     ]
    },
    {
     "name": "stderr",
     "output_type": "stream",
     "text": [
      "Epoch 212, global step 74976: 'val_loss_epoch' was not in top 3\n"
     ]
    },
    {
     "name": "stdout",
     "output_type": "stream",
     "text": [
      "Epoch 213: 100%|██████████| 352/352 [00:13<00:00, 26.67it/s, v_num=0, train_loss_step=0.358, val_loss_step=0.182, val_loss_epoch=0.392, train_loss_epoch=0.282, learning_rate=1.46e-6]"
     ]
    },
    {
     "name": "stderr",
     "output_type": "stream",
     "text": [
      "Epoch 213, global step 75328: 'val_loss_epoch' was not in top 3\n"
     ]
    },
    {
     "name": "stdout",
     "output_type": "stream",
     "text": [
      "Epoch 214: 100%|██████████| 352/352 [00:13<00:00, 26.66it/s, v_num=0, train_loss_step=0.264, val_loss_step=0.181, val_loss_epoch=0.386, train_loss_epoch=0.282, learning_rate=1.46e-6]"
     ]
    },
    {
     "name": "stderr",
     "output_type": "stream",
     "text": [
      "Epoch 214, global step 75680: 'val_loss_epoch' was not in top 3\n"
     ]
    },
    {
     "name": "stdout",
     "output_type": "stream",
     "text": [
      "Epoch 215: 100%|██████████| 352/352 [00:13<00:00, 26.67it/s, v_num=0, train_loss_step=0.319, val_loss_step=0.179, val_loss_epoch=0.390, train_loss_epoch=0.283, learning_rate=1.46e-6]"
     ]
    },
    {
     "name": "stderr",
     "output_type": "stream",
     "text": [
      "Epoch 215, global step 76032: 'val_loss_epoch' was not in top 3\n"
     ]
    },
    {
     "name": "stdout",
     "output_type": "stream",
     "text": [
      "Epoch 216: 100%|██████████| 352/352 [00:13<00:00, 26.70it/s, v_num=0, train_loss_step=0.570, val_loss_step=0.184, val_loss_epoch=0.380, train_loss_epoch=0.279, learning_rate=1.24e-6]"
     ]
    },
    {
     "name": "stderr",
     "output_type": "stream",
     "text": [
      "Epoch 216, global step 76384: 'val_loss_epoch' was not in top 3\n"
     ]
    },
    {
     "name": "stdout",
     "output_type": "stream",
     "text": [
      "Epoch 217: 100%|██████████| 352/352 [00:13<00:00, 26.74it/s, v_num=0, train_loss_step=0.188, val_loss_step=0.178, val_loss_epoch=0.382, train_loss_epoch=0.282, learning_rate=1.24e-6]"
     ]
    },
    {
     "name": "stderr",
     "output_type": "stream",
     "text": [
      "Epoch 217, global step 76736: 'val_loss_epoch' was not in top 3\n"
     ]
    },
    {
     "name": "stdout",
     "output_type": "stream",
     "text": [
      "Epoch 218: 100%|██████████| 352/352 [00:13<00:00, 26.65it/s, v_num=0, train_loss_step=0.204, val_loss_step=0.180, val_loss_epoch=0.381, train_loss_epoch=0.283, learning_rate=1.24e-6]"
     ]
    },
    {
     "name": "stderr",
     "output_type": "stream",
     "text": [
      "Epoch 218, global step 77088: 'val_loss_epoch' was not in top 3\n"
     ]
    },
    {
     "name": "stdout",
     "output_type": "stream",
     "text": [
      "Epoch 219: 100%|██████████| 352/352 [00:13<00:00, 26.64it/s, v_num=0, train_loss_step=0.491, val_loss_step=0.181, val_loss_epoch=0.378, train_loss_epoch=0.284, learning_rate=1.24e-6] "
     ]
    },
    {
     "name": "stderr",
     "output_type": "stream",
     "text": [
      "Epoch 219, global step 77440: 'val_loss_epoch' was not in top 3\n"
     ]
    },
    {
     "name": "stdout",
     "output_type": "stream",
     "text": [
      "Epoch 220: 100%|██████████| 352/352 [00:13<00:00, 26.78it/s, v_num=0, train_loss_step=0.331, val_loss_step=0.177, val_loss_epoch=0.382, train_loss_epoch=0.283, learning_rate=1.24e-6]"
     ]
    },
    {
     "name": "stderr",
     "output_type": "stream",
     "text": [
      "Epoch 220, global step 77792: 'val_loss_epoch' was not in top 3\n"
     ]
    },
    {
     "name": "stdout",
     "output_type": "stream",
     "text": [
      "Epoch 221: 100%|██████████| 352/352 [00:13<00:00, 26.78it/s, v_num=0, train_loss_step=0.315, val_loss_step=0.182, val_loss_epoch=0.380, train_loss_epoch=0.284, learning_rate=1.24e-6] "
     ]
    },
    {
     "name": "stderr",
     "output_type": "stream",
     "text": [
      "Epoch 221, global step 78144: 'val_loss_epoch' was not in top 3\n"
     ]
    },
    {
     "name": "stdout",
     "output_type": "stream",
     "text": [
      "Epoch 222: 100%|██████████| 352/352 [00:13<00:00, 26.74it/s, v_num=0, train_loss_step=0.421, val_loss_step=0.182, val_loss_epoch=0.381, train_loss_epoch=0.285, learning_rate=1.06e-6]"
     ]
    },
    {
     "name": "stderr",
     "output_type": "stream",
     "text": [
      "Epoch 222, global step 78496: 'val_loss_epoch' was not in top 3\n"
     ]
    },
    {
     "name": "stdout",
     "output_type": "stream",
     "text": [
      "Epoch 223: 100%|██████████| 352/352 [00:13<00:00, 26.82it/s, v_num=0, train_loss_step=0.225, val_loss_step=0.177, val_loss_epoch=0.391, train_loss_epoch=0.281, learning_rate=1.06e-6] "
     ]
    },
    {
     "name": "stderr",
     "output_type": "stream",
     "text": [
      "Epoch 223, global step 78848: 'val_loss_epoch' was not in top 3\n"
     ]
    },
    {
     "name": "stdout",
     "output_type": "stream",
     "text": [
      "Epoch 224: 100%|██████████| 352/352 [00:13<00:00, 26.65it/s, v_num=0, train_loss_step=0.162, val_loss_step=0.180, val_loss_epoch=0.383, train_loss_epoch=0.283, learning_rate=1.06e-6]"
     ]
    },
    {
     "name": "stderr",
     "output_type": "stream",
     "text": [
      "Epoch 224, global step 79200: 'val_loss_epoch' was not in top 3\n"
     ]
    },
    {
     "name": "stdout",
     "output_type": "stream",
     "text": [
      "Epoch 225: 100%|██████████| 352/352 [00:13<00:00, 26.61it/s, v_num=0, train_loss_step=0.370, val_loss_step=0.184, val_loss_epoch=0.375, train_loss_epoch=0.282, learning_rate=1.06e-6]"
     ]
    },
    {
     "name": "stderr",
     "output_type": "stream",
     "text": [
      "Epoch 225, global step 79552: 'val_loss_epoch' was not in top 3\n"
     ]
    },
    {
     "name": "stdout",
     "output_type": "stream",
     "text": [
      "Epoch 226: 100%|██████████| 352/352 [00:13<00:00, 26.64it/s, v_num=0, train_loss_step=0.229, val_loss_step=0.182, val_loss_epoch=0.383, train_loss_epoch=0.281, learning_rate=1.06e-6] "
     ]
    },
    {
     "name": "stderr",
     "output_type": "stream",
     "text": [
      "Epoch 226, global step 79904: 'val_loss_epoch' was not in top 3\n"
     ]
    },
    {
     "name": "stdout",
     "output_type": "stream",
     "text": [
      "Epoch 227: 100%|██████████| 352/352 [00:13<00:00, 26.72it/s, v_num=0, train_loss_step=0.225, val_loss_step=0.182, val_loss_epoch=0.380, train_loss_epoch=0.278, learning_rate=1.06e-6]"
     ]
    },
    {
     "name": "stderr",
     "output_type": "stream",
     "text": [
      "Epoch 227, global step 80256: 'val_loss_epoch' was not in top 3\n"
     ]
    },
    {
     "name": "stdout",
     "output_type": "stream",
     "text": [
      "Epoch 228: 100%|██████████| 352/352 [00:13<00:00, 26.59it/s, v_num=0, train_loss_step=0.299, val_loss_step=0.180, val_loss_epoch=0.385, train_loss_epoch=0.279, learning_rate=8.98e-7]"
     ]
    },
    {
     "name": "stderr",
     "output_type": "stream",
     "text": [
      "Epoch 228, global step 80608: 'val_loss_epoch' was not in top 3\n"
     ]
    },
    {
     "name": "stdout",
     "output_type": "stream",
     "text": [
      "Epoch 229: 100%|██████████| 352/352 [00:13<00:00, 26.69it/s, v_num=0, train_loss_step=0.263, val_loss_step=0.185, val_loss_epoch=0.379, train_loss_epoch=0.286, learning_rate=8.98e-7]"
     ]
    },
    {
     "name": "stderr",
     "output_type": "stream",
     "text": [
      "Epoch 229, global step 80960: 'val_loss_epoch' was not in top 3\n"
     ]
    },
    {
     "name": "stdout",
     "output_type": "stream",
     "text": [
      "Epoch 230: 100%|██████████| 352/352 [00:13<00:00, 26.68it/s, v_num=0, train_loss_step=0.209, val_loss_step=0.176, val_loss_epoch=0.390, train_loss_epoch=0.276, learning_rate=8.98e-7] "
     ]
    },
    {
     "name": "stderr",
     "output_type": "stream",
     "text": [
      "Epoch 230, global step 81312: 'val_loss_epoch' was not in top 3\n"
     ]
    },
    {
     "name": "stdout",
     "output_type": "stream",
     "text": [
      "Epoch 231: 100%|██████████| 352/352 [00:13<00:00, 26.68it/s, v_num=0, train_loss_step=0.174, val_loss_step=0.180, val_loss_epoch=0.390, train_loss_epoch=0.279, learning_rate=8.98e-7] "
     ]
    },
    {
     "name": "stderr",
     "output_type": "stream",
     "text": [
      "Epoch 231, global step 81664: 'val_loss_epoch' was not in top 3\n"
     ]
    },
    {
     "name": "stdout",
     "output_type": "stream",
     "text": [
      "Epoch 232: 100%|██████████| 352/352 [00:13<00:00, 26.71it/s, v_num=0, train_loss_step=0.184, val_loss_step=0.180, val_loss_epoch=0.379, train_loss_epoch=0.283, learning_rate=8.98e-7]"
     ]
    },
    {
     "name": "stderr",
     "output_type": "stream",
     "text": [
      "Epoch 232, global step 82016: 'val_loss_epoch' was not in top 3\n"
     ]
    },
    {
     "name": "stdout",
     "output_type": "stream",
     "text": [
      "Epoch 233: 100%|██████████| 352/352 [00:13<00:00, 26.73it/s, v_num=0, train_loss_step=0.216, val_loss_step=0.182, val_loss_epoch=0.377, train_loss_epoch=0.288, learning_rate=8.98e-7]"
     ]
    },
    {
     "name": "stderr",
     "output_type": "stream",
     "text": [
      "Epoch 233, global step 82368: 'val_loss_epoch' was not in top 3\n"
     ]
    },
    {
     "name": "stdout",
     "output_type": "stream",
     "text": [
      "Epoch 234: 100%|██████████| 352/352 [00:13<00:00, 26.66it/s, v_num=0, train_loss_step=0.382, val_loss_step=0.177, val_loss_epoch=0.382, train_loss_epoch=0.282, learning_rate=7.63e-7]"
     ]
    },
    {
     "name": "stderr",
     "output_type": "stream",
     "text": [
      "Epoch 234, global step 82720: 'val_loss_epoch' was not in top 3\n"
     ]
    },
    {
     "name": "stdout",
     "output_type": "stream",
     "text": [
      "Epoch 235: 100%|██████████| 352/352 [00:13<00:00, 26.70it/s, v_num=0, train_loss_step=0.249, val_loss_step=0.177, val_loss_epoch=0.384, train_loss_epoch=0.279, learning_rate=7.63e-7] "
     ]
    },
    {
     "name": "stderr",
     "output_type": "stream",
     "text": [
      "Epoch 235, global step 83072: 'val_loss_epoch' was not in top 3\n"
     ]
    },
    {
     "name": "stdout",
     "output_type": "stream",
     "text": [
      "Epoch 236: 100%|██████████| 352/352 [00:13<00:00, 26.66it/s, v_num=0, train_loss_step=0.135, val_loss_step=0.182, val_loss_epoch=0.373, train_loss_epoch=0.285, learning_rate=7.63e-7]"
     ]
    },
    {
     "name": "stderr",
     "output_type": "stream",
     "text": [
      "Epoch 236, global step 83424: 'val_loss_epoch' reached 0.37283 (best 0.37101), saving model to '/Users/Ling/dev/distortion_learning/ll_distortion_learning/logs/logs_CrossEntropy_conv2d_robust_2/checkpoints/epoch=236-val_loss=0.00.ckpt' as top 3\n"
     ]
    },
    {
     "name": "stdout",
     "output_type": "stream",
     "text": [
      "Epoch 237: 100%|██████████| 352/352 [00:13<00:00, 26.58it/s, v_num=0, train_loss_step=0.367, val_loss_step=0.184, val_loss_epoch=0.380, train_loss_epoch=0.283, learning_rate=7.63e-7] "
     ]
    },
    {
     "name": "stderr",
     "output_type": "stream",
     "text": [
      "Epoch 237, global step 83776: 'val_loss_epoch' was not in top 3\n"
     ]
    },
    {
     "name": "stdout",
     "output_type": "stream",
     "text": [
      "Epoch 238: 100%|██████████| 352/352 [00:13<00:00, 26.75it/s, v_num=0, train_loss_step=0.216, val_loss_step=0.183, val_loss_epoch=0.377, train_loss_epoch=0.283, learning_rate=7.63e-7]"
     ]
    },
    {
     "name": "stderr",
     "output_type": "stream",
     "text": [
      "Epoch 238, global step 84128: 'val_loss_epoch' was not in top 3\n"
     ]
    },
    {
     "name": "stdout",
     "output_type": "stream",
     "text": [
      "Epoch 239: 100%|██████████| 352/352 [00:13<00:00, 26.74it/s, v_num=0, train_loss_step=0.220, val_loss_step=0.182, val_loss_epoch=0.385, train_loss_epoch=0.290, learning_rate=7.63e-7] "
     ]
    },
    {
     "name": "stderr",
     "output_type": "stream",
     "text": [
      "Epoch 239, global step 84480: 'val_loss_epoch' was not in top 3\n"
     ]
    },
    {
     "name": "stdout",
     "output_type": "stream",
     "text": [
      "Epoch 240: 100%|██████████| 352/352 [00:13<00:00, 26.72it/s, v_num=0, train_loss_step=0.367, val_loss_step=0.180, val_loss_epoch=0.384, train_loss_epoch=0.281, learning_rate=6.49e-7] "
     ]
    },
    {
     "name": "stderr",
     "output_type": "stream",
     "text": [
      "Epoch 240, global step 84832: 'val_loss_epoch' was not in top 3\n"
     ]
    },
    {
     "name": "stdout",
     "output_type": "stream",
     "text": [
      "Epoch 241: 100%|██████████| 352/352 [00:13<00:00, 26.70it/s, v_num=0, train_loss_step=0.152, val_loss_step=0.179, val_loss_epoch=0.385, train_loss_epoch=0.285, learning_rate=6.49e-7] "
     ]
    },
    {
     "name": "stderr",
     "output_type": "stream",
     "text": [
      "Epoch 241, global step 85184: 'val_loss_epoch' was not in top 3\n"
     ]
    },
    {
     "name": "stdout",
     "output_type": "stream",
     "text": [
      "Epoch 242: 100%|██████████| 352/352 [00:13<00:00, 26.66it/s, v_num=0, train_loss_step=0.292, val_loss_step=0.183, val_loss_epoch=0.378, train_loss_epoch=0.279, learning_rate=6.49e-7]"
     ]
    },
    {
     "name": "stderr",
     "output_type": "stream",
     "text": [
      "Epoch 242, global step 85536: 'val_loss_epoch' was not in top 3\n"
     ]
    },
    {
     "name": "stdout",
     "output_type": "stream",
     "text": [
      "Epoch 243: 100%|██████████| 352/352 [00:13<00:00, 26.84it/s, v_num=0, train_loss_step=0.466, val_loss_step=0.182, val_loss_epoch=0.384, train_loss_epoch=0.279, learning_rate=6.49e-7]"
     ]
    },
    {
     "name": "stderr",
     "output_type": "stream",
     "text": [
      "Epoch 243, global step 85888: 'val_loss_epoch' was not in top 3\n"
     ]
    },
    {
     "name": "stdout",
     "output_type": "stream",
     "text": [
      "Epoch 244: 100%|██████████| 352/352 [00:13<00:00, 26.67it/s, v_num=0, train_loss_step=0.481, val_loss_step=0.183, val_loss_epoch=0.383, train_loss_epoch=0.282, learning_rate=6.49e-7] "
     ]
    },
    {
     "name": "stderr",
     "output_type": "stream",
     "text": [
      "Epoch 244, global step 86240: 'val_loss_epoch' was not in top 3\n"
     ]
    },
    {
     "name": "stdout",
     "output_type": "stream",
     "text": [
      "Epoch 245: 100%|██████████| 352/352 [00:13<00:00, 26.66it/s, v_num=0, train_loss_step=0.219, val_loss_step=0.178, val_loss_epoch=0.395, train_loss_epoch=0.283, learning_rate=6.49e-7] "
     ]
    },
    {
     "name": "stderr",
     "output_type": "stream",
     "text": [
      "Epoch 245, global step 86592: 'val_loss_epoch' was not in top 3\n"
     ]
    },
    {
     "name": "stdout",
     "output_type": "stream",
     "text": [
      "Epoch 246: 100%|██████████| 352/352 [00:13<00:00, 26.65it/s, v_num=0, train_loss_step=0.569, val_loss_step=0.183, val_loss_epoch=0.383, train_loss_epoch=0.287, learning_rate=5.51e-7]"
     ]
    },
    {
     "name": "stderr",
     "output_type": "stream",
     "text": [
      "Epoch 246, global step 86944: 'val_loss_epoch' was not in top 3\n"
     ]
    },
    {
     "name": "stdout",
     "output_type": "stream",
     "text": [
      "Epoch 247: 100%|██████████| 352/352 [00:13<00:00, 26.64it/s, v_num=0, train_loss_step=0.338, val_loss_step=0.183, val_loss_epoch=0.380, train_loss_epoch=0.284, learning_rate=5.51e-7] "
     ]
    },
    {
     "name": "stderr",
     "output_type": "stream",
     "text": [
      "Epoch 247, global step 87296: 'val_loss_epoch' was not in top 3\n"
     ]
    },
    {
     "name": "stdout",
     "output_type": "stream",
     "text": [
      "Epoch 248: 100%|██████████| 352/352 [00:13<00:00, 26.73it/s, v_num=0, train_loss_step=0.203, val_loss_step=0.184, val_loss_epoch=0.380, train_loss_epoch=0.275, learning_rate=5.51e-7]"
     ]
    },
    {
     "name": "stderr",
     "output_type": "stream",
     "text": [
      "Epoch 248, global step 87648: 'val_loss_epoch' was not in top 3\n"
     ]
    },
    {
     "name": "stdout",
     "output_type": "stream",
     "text": [
      "Epoch 249: 100%|██████████| 352/352 [00:12<00:00, 27.11it/s, v_num=0, train_loss_step=0.283, val_loss_step=0.182, val_loss_epoch=0.386, train_loss_epoch=0.282, learning_rate=5.51e-7]"
     ]
    },
    {
     "name": "stderr",
     "output_type": "stream",
     "text": [
      "Epoch 249, global step 88000: 'val_loss_epoch' was not in top 3\n"
     ]
    },
    {
     "name": "stdout",
     "output_type": "stream",
     "text": [
      "Epoch 250: 100%|██████████| 352/352 [00:13<00:00, 27.05it/s, v_num=0, train_loss_step=0.440, val_loss_step=0.187, val_loss_epoch=0.378, train_loss_epoch=0.282, learning_rate=5.51e-7]"
     ]
    },
    {
     "name": "stderr",
     "output_type": "stream",
     "text": [
      "Epoch 250, global step 88352: 'val_loss_epoch' was not in top 3\n"
     ]
    },
    {
     "name": "stdout",
     "output_type": "stream",
     "text": [
      "Epoch 251: 100%|██████████| 352/352 [00:13<00:00, 27.05it/s, v_num=0, train_loss_step=0.149, val_loss_step=0.180, val_loss_epoch=0.386, train_loss_epoch=0.277, learning_rate=5.51e-7]"
     ]
    },
    {
     "name": "stderr",
     "output_type": "stream",
     "text": [
      "Epoch 251, global step 88704: 'val_loss_epoch' was not in top 3\n"
     ]
    },
    {
     "name": "stdout",
     "output_type": "stream",
     "text": [
      "Epoch 252: 100%|██████████| 352/352 [00:13<00:00, 26.95it/s, v_num=0, train_loss_step=0.241, val_loss_step=0.184, val_loss_epoch=0.385, train_loss_epoch=0.282, learning_rate=4.69e-7]"
     ]
    },
    {
     "name": "stderr",
     "output_type": "stream",
     "text": [
      "Epoch 252, global step 89056: 'val_loss_epoch' was not in top 3\n"
     ]
    },
    {
     "name": "stdout",
     "output_type": "stream",
     "text": [
      "Epoch 253: 100%|██████████| 352/352 [00:13<00:00, 27.07it/s, v_num=0, train_loss_step=0.556, val_loss_step=0.182, val_loss_epoch=0.386, train_loss_epoch=0.288, learning_rate=4.69e-7] "
     ]
    },
    {
     "name": "stderr",
     "output_type": "stream",
     "text": [
      "Epoch 253, global step 89408: 'val_loss_epoch' was not in top 3\n"
     ]
    },
    {
     "name": "stdout",
     "output_type": "stream",
     "text": [
      "Epoch 254: 100%|██████████| 352/352 [00:13<00:00, 27.02it/s, v_num=0, train_loss_step=0.252, val_loss_step=0.185, val_loss_epoch=0.389, train_loss_epoch=0.283, learning_rate=4.69e-7]"
     ]
    },
    {
     "name": "stderr",
     "output_type": "stream",
     "text": [
      "Epoch 254, global step 89760: 'val_loss_epoch' was not in top 3\n"
     ]
    },
    {
     "name": "stdout",
     "output_type": "stream",
     "text": [
      "Epoch 255: 100%|██████████| 352/352 [00:13<00:00, 26.99it/s, v_num=0, train_loss_step=0.113, val_loss_step=0.179, val_loss_epoch=0.386, train_loss_epoch=0.283, learning_rate=4.69e-7]"
     ]
    },
    {
     "name": "stderr",
     "output_type": "stream",
     "text": [
      "Epoch 255, global step 90112: 'val_loss_epoch' was not in top 3\n"
     ]
    },
    {
     "name": "stdout",
     "output_type": "stream",
     "text": [
      "Epoch 256: 100%|██████████| 352/352 [00:13<00:00, 27.01it/s, v_num=0, train_loss_step=0.197, val_loss_step=0.184, val_loss_epoch=0.383, train_loss_epoch=0.279, learning_rate=4.69e-7]"
     ]
    },
    {
     "name": "stderr",
     "output_type": "stream",
     "text": [
      "Epoch 256, global step 90464: 'val_loss_epoch' was not in top 3\n"
     ]
    },
    {
     "name": "stdout",
     "output_type": "stream",
     "text": [
      "Epoch 257: 100%|██████████| 352/352 [00:12<00:00, 27.14it/s, v_num=0, train_loss_step=0.223, val_loss_step=0.181, val_loss_epoch=0.387, train_loss_epoch=0.282, learning_rate=4.69e-7]"
     ]
    },
    {
     "name": "stderr",
     "output_type": "stream",
     "text": [
      "Epoch 257, global step 90816: 'val_loss_epoch' was not in top 3\n"
     ]
    },
    {
     "name": "stdout",
     "output_type": "stream",
     "text": [
      "Epoch 258: 100%|██████████| 352/352 [00:13<00:00, 27.04it/s, v_num=0, train_loss_step=0.243, val_loss_step=0.184, val_loss_epoch=0.386, train_loss_epoch=0.280, learning_rate=3.98e-7]"
     ]
    },
    {
     "name": "stderr",
     "output_type": "stream",
     "text": [
      "Epoch 258, global step 91168: 'val_loss_epoch' was not in top 3\n"
     ]
    },
    {
     "name": "stdout",
     "output_type": "stream",
     "text": [
      "Epoch 259: 100%|██████████| 352/352 [00:12<00:00, 27.31it/s, v_num=0, train_loss_step=0.250, val_loss_step=0.177, val_loss_epoch=0.397, train_loss_epoch=0.280, learning_rate=3.98e-7] "
     ]
    },
    {
     "name": "stderr",
     "output_type": "stream",
     "text": [
      "Epoch 259, global step 91520: 'val_loss_epoch' was not in top 3\n"
     ]
    },
    {
     "name": "stdout",
     "output_type": "stream",
     "text": [
      "Epoch 260: 100%|██████████| 352/352 [00:12<00:00, 27.43it/s, v_num=0, train_loss_step=0.296, val_loss_step=0.185, val_loss_epoch=0.378, train_loss_epoch=0.290, learning_rate=3.98e-7] "
     ]
    },
    {
     "name": "stderr",
     "output_type": "stream",
     "text": [
      "Epoch 260, global step 91872: 'val_loss_epoch' was not in top 3\n"
     ]
    },
    {
     "name": "stdout",
     "output_type": "stream",
     "text": [
      "Epoch 261: 100%|██████████| 352/352 [00:12<00:00, 27.40it/s, v_num=0, train_loss_step=0.153, val_loss_step=0.175, val_loss_epoch=0.389, train_loss_epoch=0.281, learning_rate=3.98e-7]"
     ]
    },
    {
     "name": "stderr",
     "output_type": "stream",
     "text": [
      "Epoch 261, global step 92224: 'val_loss_epoch' was not in top 3\n"
     ]
    },
    {
     "name": "stdout",
     "output_type": "stream",
     "text": [
      "Epoch 262: 100%|██████████| 352/352 [00:12<00:00, 27.30it/s, v_num=0, train_loss_step=0.417, val_loss_step=0.187, val_loss_epoch=0.377, train_loss_epoch=0.280, learning_rate=3.98e-7]"
     ]
    },
    {
     "name": "stderr",
     "output_type": "stream",
     "text": [
      "Epoch 262, global step 92576: 'val_loss_epoch' was not in top 3\n"
     ]
    },
    {
     "name": "stdout",
     "output_type": "stream",
     "text": [
      "Epoch 263: 100%|██████████| 352/352 [00:12<00:00, 27.27it/s, v_num=0, train_loss_step=0.159, val_loss_step=0.183, val_loss_epoch=0.387, train_loss_epoch=0.280, learning_rate=3.98e-7]"
     ]
    },
    {
     "name": "stderr",
     "output_type": "stream",
     "text": [
      "Epoch 263, global step 92928: 'val_loss_epoch' was not in top 3\n"
     ]
    },
    {
     "name": "stdout",
     "output_type": "stream",
     "text": [
      "Epoch 264: 100%|██████████| 352/352 [00:12<00:00, 27.35it/s, v_num=0, train_loss_step=0.464, val_loss_step=0.181, val_loss_epoch=0.386, train_loss_epoch=0.284, learning_rate=3.39e-7] "
     ]
    },
    {
     "name": "stderr",
     "output_type": "stream",
     "text": [
      "Epoch 264, global step 93280: 'val_loss_epoch' was not in top 3\n"
     ]
    },
    {
     "name": "stdout",
     "output_type": "stream",
     "text": [
      "Epoch 265: 100%|██████████| 352/352 [00:12<00:00, 27.08it/s, v_num=0, train_loss_step=0.121, val_loss_step=0.184, val_loss_epoch=0.377, train_loss_epoch=0.278, learning_rate=3.39e-7]"
     ]
    },
    {
     "name": "stderr",
     "output_type": "stream",
     "text": [
      "Epoch 265, global step 93632: 'val_loss_epoch' was not in top 3\n"
     ]
    },
    {
     "name": "stdout",
     "output_type": "stream",
     "text": [
      "Epoch 266: 100%|██████████| 352/352 [00:13<00:00, 27.05it/s, v_num=0, train_loss_step=0.141, val_loss_step=0.184, val_loss_epoch=0.381, train_loss_epoch=0.282, learning_rate=3.39e-7]"
     ]
    },
    {
     "name": "stderr",
     "output_type": "stream",
     "text": [
      "Epoch 266, global step 93984: 'val_loss_epoch' was not in top 3\n"
     ]
    },
    {
     "name": "stdout",
     "output_type": "stream",
     "text": [
      "Epoch 267: 100%|██████████| 352/352 [00:13<00:00, 27.03it/s, v_num=0, train_loss_step=0.287, val_loss_step=0.185, val_loss_epoch=0.382, train_loss_epoch=0.281, learning_rate=3.39e-7]"
     ]
    },
    {
     "name": "stderr",
     "output_type": "stream",
     "text": [
      "Epoch 267, global step 94336: 'val_loss_epoch' was not in top 3\n"
     ]
    },
    {
     "name": "stdout",
     "output_type": "stream",
     "text": [
      "Epoch 268: 100%|██████████| 352/352 [00:12<00:00, 27.08it/s, v_num=0, train_loss_step=0.384, val_loss_step=0.175, val_loss_epoch=0.397, train_loss_epoch=0.284, learning_rate=3.39e-7] "
     ]
    },
    {
     "name": "stderr",
     "output_type": "stream",
     "text": [
      "Epoch 268, global step 94688: 'val_loss_epoch' was not in top 3\n"
     ]
    },
    {
     "name": "stdout",
     "output_type": "stream",
     "text": [
      "Epoch 269: 100%|██████████| 352/352 [00:13<00:00, 27.05it/s, v_num=0, train_loss_step=0.205, val_loss_step=0.184, val_loss_epoch=0.373, train_loss_epoch=0.281, learning_rate=3.39e-7]"
     ]
    },
    {
     "name": "stderr",
     "output_type": "stream",
     "text": [
      "Epoch 269, global step 95040: 'val_loss_epoch' reached 0.37250 (best 0.37101), saving model to '/Users/Ling/dev/distortion_learning/ll_distortion_learning/logs/logs_CrossEntropy_conv2d_robust_2/checkpoints/epoch=269-val_loss=0.00.ckpt' as top 3\n"
     ]
    },
    {
     "name": "stdout",
     "output_type": "stream",
     "text": [
      "Epoch 270: 100%|██████████| 352/352 [00:13<00:00, 27.05it/s, v_num=0, train_loss_step=0.278, val_loss_step=0.183, val_loss_epoch=0.380, train_loss_epoch=0.282, learning_rate=2.88e-7] "
     ]
    },
    {
     "name": "stderr",
     "output_type": "stream",
     "text": [
      "Epoch 270, global step 95392: 'val_loss_epoch' was not in top 3\n"
     ]
    },
    {
     "name": "stdout",
     "output_type": "stream",
     "text": [
      "Epoch 271: 100%|██████████| 352/352 [00:13<00:00, 26.88it/s, v_num=0, train_loss_step=0.163, val_loss_step=0.176, val_loss_epoch=0.391, train_loss_epoch=0.280, learning_rate=2.88e-7] "
     ]
    },
    {
     "name": "stderr",
     "output_type": "stream",
     "text": [
      "Epoch 271, global step 95744: 'val_loss_epoch' was not in top 3\n"
     ]
    },
    {
     "name": "stdout",
     "output_type": "stream",
     "text": [
      "Epoch 272: 100%|██████████| 352/352 [00:13<00:00, 26.87it/s, v_num=0, train_loss_step=0.527, val_loss_step=0.183, val_loss_epoch=0.382, train_loss_epoch=0.276, learning_rate=2.88e-7]"
     ]
    },
    {
     "name": "stderr",
     "output_type": "stream",
     "text": [
      "Epoch 272, global step 96096: 'val_loss_epoch' was not in top 3\n"
     ]
    },
    {
     "name": "stdout",
     "output_type": "stream",
     "text": [
      "Epoch 273: 100%|██████████| 352/352 [00:13<00:00, 27.04it/s, v_num=0, train_loss_step=0.108, val_loss_step=0.183, val_loss_epoch=0.384, train_loss_epoch=0.285, learning_rate=2.88e-7] "
     ]
    },
    {
     "name": "stderr",
     "output_type": "stream",
     "text": [
      "Epoch 273, global step 96448: 'val_loss_epoch' was not in top 3\n"
     ]
    },
    {
     "name": "stdout",
     "output_type": "stream",
     "text": [
      "Epoch 274: 100%|██████████| 352/352 [00:13<00:00, 27.04it/s, v_num=0, train_loss_step=0.232, val_loss_step=0.178, val_loss_epoch=0.391, train_loss_epoch=0.280, learning_rate=2.88e-7]"
     ]
    },
    {
     "name": "stderr",
     "output_type": "stream",
     "text": [
      "Epoch 274, global step 96800: 'val_loss_epoch' was not in top 3\n"
     ]
    },
    {
     "name": "stdout",
     "output_type": "stream",
     "text": [
      "Epoch 275: 100%|██████████| 352/352 [00:13<00:00, 27.06it/s, v_num=0, train_loss_step=0.320, val_loss_step=0.183, val_loss_epoch=0.389, train_loss_epoch=0.281, learning_rate=2.88e-7]"
     ]
    },
    {
     "name": "stderr",
     "output_type": "stream",
     "text": [
      "Epoch 275, global step 97152: 'val_loss_epoch' was not in top 3\n"
     ]
    },
    {
     "name": "stdout",
     "output_type": "stream",
     "text": [
      "Epoch 276: 100%|██████████| 352/352 [00:13<00:00, 27.03it/s, v_num=0, train_loss_step=0.140, val_loss_step=0.183, val_loss_epoch=0.373, train_loss_epoch=0.285, learning_rate=2.45e-7]"
     ]
    },
    {
     "name": "stderr",
     "output_type": "stream",
     "text": [
      "Epoch 276, global step 97504: 'val_loss_epoch' was not in top 3\n"
     ]
    },
    {
     "name": "stdout",
     "output_type": "stream",
     "text": [
      "Epoch 277: 100%|██████████| 352/352 [00:12<00:00, 27.12it/s, v_num=0, train_loss_step=0.229, val_loss_step=0.184, val_loss_epoch=0.389, train_loss_epoch=0.276, learning_rate=2.45e-7]"
     ]
    },
    {
     "name": "stderr",
     "output_type": "stream",
     "text": [
      "Epoch 277, global step 97856: 'val_loss_epoch' was not in top 3\n"
     ]
    },
    {
     "name": "stdout",
     "output_type": "stream",
     "text": [
      "Epoch 278: 100%|██████████| 352/352 [00:13<00:00, 27.05it/s, v_num=0, train_loss_step=0.135, val_loss_step=0.188, val_loss_epoch=0.383, train_loss_epoch=0.281, learning_rate=2.45e-7]"
     ]
    },
    {
     "name": "stderr",
     "output_type": "stream",
     "text": [
      "Epoch 278, global step 98208: 'val_loss_epoch' was not in top 3\n"
     ]
    },
    {
     "name": "stdout",
     "output_type": "stream",
     "text": [
      "Epoch 279: 100%|██████████| 352/352 [00:12<00:00, 27.09it/s, v_num=0, train_loss_step=0.241, val_loss_step=0.181, val_loss_epoch=0.381, train_loss_epoch=0.277, learning_rate=2.45e-7] "
     ]
    },
    {
     "name": "stderr",
     "output_type": "stream",
     "text": [
      "Epoch 279, global step 98560: 'val_loss_epoch' was not in top 3\n"
     ]
    },
    {
     "name": "stdout",
     "output_type": "stream",
     "text": [
      "Epoch 280: 100%|██████████| 352/352 [00:13<00:00, 27.05it/s, v_num=0, train_loss_step=0.281, val_loss_step=0.180, val_loss_epoch=0.391, train_loss_epoch=0.277, learning_rate=2.45e-7] "
     ]
    },
    {
     "name": "stderr",
     "output_type": "stream",
     "text": [
      "Epoch 280, global step 98912: 'val_loss_epoch' was not in top 3\n"
     ]
    },
    {
     "name": "stdout",
     "output_type": "stream",
     "text": [
      "Epoch 281: 100%|██████████| 352/352 [00:13<00:00, 27.06it/s, v_num=0, train_loss_step=0.250, val_loss_step=0.183, val_loss_epoch=0.387, train_loss_epoch=0.282, learning_rate=2.45e-7]"
     ]
    },
    {
     "name": "stderr",
     "output_type": "stream",
     "text": [
      "Epoch 281, global step 99264: 'val_loss_epoch' was not in top 3\n"
     ]
    },
    {
     "name": "stdout",
     "output_type": "stream",
     "text": [
      "Epoch 282: 100%|██████████| 352/352 [00:13<00:00, 27.02it/s, v_num=0, train_loss_step=0.215, val_loss_step=0.182, val_loss_epoch=0.386, train_loss_epoch=0.282, learning_rate=2.08e-7]"
     ]
    },
    {
     "name": "stderr",
     "output_type": "stream",
     "text": [
      "Epoch 282, global step 99616: 'val_loss_epoch' was not in top 3\n"
     ]
    },
    {
     "name": "stdout",
     "output_type": "stream",
     "text": [
      "Epoch 283: 100%|██████████| 352/352 [00:13<00:00, 27.07it/s, v_num=0, train_loss_step=0.420, val_loss_step=0.179, val_loss_epoch=0.380, train_loss_epoch=0.282, learning_rate=2.08e-7]"
     ]
    },
    {
     "name": "stderr",
     "output_type": "stream",
     "text": [
      "Epoch 283, global step 99968: 'val_loss_epoch' was not in top 3\n"
     ]
    },
    {
     "name": "stdout",
     "output_type": "stream",
     "text": [
      "Epoch 284: 100%|██████████| 352/352 [00:12<00:00, 27.09it/s, v_num=0, train_loss_step=0.388, val_loss_step=0.181, val_loss_epoch=0.383, train_loss_epoch=0.283, learning_rate=2.08e-7] "
     ]
    },
    {
     "name": "stderr",
     "output_type": "stream",
     "text": [
      "Epoch 284, global step 100320: 'val_loss_epoch' was not in top 3\n"
     ]
    },
    {
     "name": "stdout",
     "output_type": "stream",
     "text": [
      "Epoch 285: 100%|██████████| 352/352 [00:12<00:00, 27.15it/s, v_num=0, train_loss_step=0.272, val_loss_step=0.182, val_loss_epoch=0.377, train_loss_epoch=0.283, learning_rate=2.08e-7]"
     ]
    },
    {
     "name": "stderr",
     "output_type": "stream",
     "text": [
      "Epoch 285, global step 100672: 'val_loss_epoch' was not in top 3\n"
     ]
    },
    {
     "name": "stdout",
     "output_type": "stream",
     "text": [
      "Epoch 286: 100%|██████████| 352/352 [00:13<00:00, 27.07it/s, v_num=0, train_loss_step=0.261, val_loss_step=0.182, val_loss_epoch=0.392, train_loss_epoch=0.279, learning_rate=2.08e-7] "
     ]
    },
    {
     "name": "stderr",
     "output_type": "stream",
     "text": [
      "Epoch 286, global step 101024: 'val_loss_epoch' was not in top 3\n"
     ]
    },
    {
     "name": "stdout",
     "output_type": "stream",
     "text": [
      "Epoch 287: 100%|██████████| 352/352 [00:12<00:00, 27.15it/s, v_num=0, train_loss_step=0.206, val_loss_step=0.183, val_loss_epoch=0.387, train_loss_epoch=0.283, learning_rate=2.08e-7]"
     ]
    },
    {
     "name": "stderr",
     "output_type": "stream",
     "text": [
      "Epoch 287, global step 101376: 'val_loss_epoch' was not in top 3\n"
     ]
    },
    {
     "name": "stdout",
     "output_type": "stream",
     "text": [
      "Epoch 288: 100%|██████████| 352/352 [00:12<00:00, 27.11it/s, v_num=0, train_loss_step=0.176, val_loss_step=0.185, val_loss_epoch=0.381, train_loss_epoch=0.276, learning_rate=1.77e-7]"
     ]
    },
    {
     "name": "stderr",
     "output_type": "stream",
     "text": [
      "Epoch 288, global step 101728: 'val_loss_epoch' was not in top 3\n"
     ]
    },
    {
     "name": "stdout",
     "output_type": "stream",
     "text": [
      "Epoch 289: 100%|██████████| 352/352 [00:12<00:00, 27.10it/s, v_num=0, train_loss_step=0.246, val_loss_step=0.182, val_loss_epoch=0.379, train_loss_epoch=0.281, learning_rate=1.77e-7]"
     ]
    },
    {
     "name": "stderr",
     "output_type": "stream",
     "text": [
      "Epoch 289, global step 102080: 'val_loss_epoch' was not in top 3\n"
     ]
    },
    {
     "name": "stdout",
     "output_type": "stream",
     "text": [
      "Epoch 290: 100%|██████████| 352/352 [00:13<00:00, 27.00it/s, v_num=0, train_loss_step=0.0903, val_loss_step=0.185, val_loss_epoch=0.383, train_loss_epoch=0.286, learning_rate=1.77e-7]"
     ]
    },
    {
     "name": "stderr",
     "output_type": "stream",
     "text": [
      "Epoch 290, global step 102432: 'val_loss_epoch' was not in top 3\n"
     ]
    },
    {
     "name": "stdout",
     "output_type": "stream",
     "text": [
      "Epoch 291: 100%|██████████| 352/352 [00:13<00:00, 27.08it/s, v_num=0, train_loss_step=0.264, val_loss_step=0.183, val_loss_epoch=0.383, train_loss_epoch=0.278, learning_rate=1.77e-7] "
     ]
    },
    {
     "name": "stderr",
     "output_type": "stream",
     "text": [
      "Epoch 291, global step 102784: 'val_loss_epoch' was not in top 3\n"
     ]
    },
    {
     "name": "stdout",
     "output_type": "stream",
     "text": [
      "Epoch 292: 100%|██████████| 352/352 [00:12<00:00, 27.10it/s, v_num=0, train_loss_step=0.121, val_loss_step=0.184, val_loss_epoch=0.377, train_loss_epoch=0.283, learning_rate=1.77e-7]"
     ]
    },
    {
     "name": "stderr",
     "output_type": "stream",
     "text": [
      "Epoch 292, global step 103136: 'val_loss_epoch' was not in top 3\n"
     ]
    },
    {
     "name": "stdout",
     "output_type": "stream",
     "text": [
      "Epoch 293: 100%|██████████| 352/352 [00:13<00:00, 27.05it/s, v_num=0, train_loss_step=0.492, val_loss_step=0.182, val_loss_epoch=0.389, train_loss_epoch=0.281, learning_rate=1.77e-7] "
     ]
    },
    {
     "name": "stderr",
     "output_type": "stream",
     "text": [
      "Epoch 293, global step 103488: 'val_loss_epoch' was not in top 3\n"
     ]
    },
    {
     "name": "stdout",
     "output_type": "stream",
     "text": [
      "Epoch 294: 100%|██████████| 352/352 [00:13<00:00, 27.06it/s, v_num=0, train_loss_step=0.559, val_loss_step=0.185, val_loss_epoch=0.378, train_loss_epoch=0.278, learning_rate=1.5e-7] "
     ]
    },
    {
     "name": "stderr",
     "output_type": "stream",
     "text": [
      "Epoch 294, global step 103840: 'val_loss_epoch' was not in top 3\n"
     ]
    },
    {
     "name": "stdout",
     "output_type": "stream",
     "text": [
      "Epoch 295: 100%|██████████| 352/352 [00:13<00:00, 27.05it/s, v_num=0, train_loss_step=0.301, val_loss_step=0.178, val_loss_epoch=0.393, train_loss_epoch=0.282, learning_rate=1.5e-7] "
     ]
    },
    {
     "name": "stderr",
     "output_type": "stream",
     "text": [
      "Epoch 295, global step 104192: 'val_loss_epoch' was not in top 3\n"
     ]
    },
    {
     "name": "stdout",
     "output_type": "stream",
     "text": [
      "Epoch 296: 100%|██████████| 352/352 [00:13<00:00, 27.08it/s, v_num=0, train_loss_step=0.207, val_loss_step=0.180, val_loss_epoch=0.384, train_loss_epoch=0.278, learning_rate=1.5e-7]"
     ]
    },
    {
     "name": "stderr",
     "output_type": "stream",
     "text": [
      "Epoch 296, global step 104544: 'val_loss_epoch' was not in top 3\n"
     ]
    },
    {
     "name": "stdout",
     "output_type": "stream",
     "text": [
      "Epoch 297: 100%|██████████| 352/352 [00:13<00:00, 27.05it/s, v_num=0, train_loss_step=0.267, val_loss_step=0.182, val_loss_epoch=0.381, train_loss_epoch=0.280, learning_rate=1.5e-7] "
     ]
    },
    {
     "name": "stderr",
     "output_type": "stream",
     "text": [
      "Epoch 297, global step 104896: 'val_loss_epoch' was not in top 3\n"
     ]
    },
    {
     "name": "stdout",
     "output_type": "stream",
     "text": [
      "Epoch 298: 100%|██████████| 352/352 [00:12<00:00, 27.09it/s, v_num=0, train_loss_step=0.434, val_loss_step=0.183, val_loss_epoch=0.382, train_loss_epoch=0.281, learning_rate=1.5e-7] "
     ]
    },
    {
     "name": "stderr",
     "output_type": "stream",
     "text": [
      "Epoch 298, global step 105248: 'val_loss_epoch' was not in top 3\n"
     ]
    },
    {
     "name": "stdout",
     "output_type": "stream",
     "text": [
      "Epoch 299: 100%|██████████| 352/352 [00:13<00:00, 27.00it/s, v_num=0, train_loss_step=0.105, val_loss_step=0.189, val_loss_epoch=0.379, train_loss_epoch=0.284, learning_rate=1.5e-7] "
     ]
    },
    {
     "name": "stderr",
     "output_type": "stream",
     "text": [
      "Epoch 299, global step 105600: 'val_loss_epoch' was not in top 3\n"
     ]
    },
    {
     "name": "stdout",
     "output_type": "stream",
     "text": [
      "Epoch 300: 100%|██████████| 352/352 [00:12<00:00, 27.08it/s, v_num=0, train_loss_step=0.181, val_loss_step=0.187, val_loss_epoch=0.379, train_loss_epoch=0.282, learning_rate=1.28e-7] "
     ]
    },
    {
     "name": "stderr",
     "output_type": "stream",
     "text": [
      "Epoch 300, global step 105952: 'val_loss_epoch' was not in top 3\n"
     ]
    },
    {
     "name": "stdout",
     "output_type": "stream",
     "text": [
      "Epoch 301: 100%|██████████| 352/352 [00:12<00:00, 27.12it/s, v_num=0, train_loss_step=0.350, val_loss_step=0.184, val_loss_epoch=0.379, train_loss_epoch=0.281, learning_rate=1.28e-7]"
     ]
    },
    {
     "name": "stderr",
     "output_type": "stream",
     "text": [
      "Epoch 301, global step 106304: 'val_loss_epoch' was not in top 3\n"
     ]
    },
    {
     "name": "stdout",
     "output_type": "stream",
     "text": [
      "Epoch 302: 100%|██████████| 352/352 [00:13<00:00, 26.98it/s, v_num=0, train_loss_step=0.224, val_loss_step=0.183, val_loss_epoch=0.384, train_loss_epoch=0.279, learning_rate=1.28e-7]"
     ]
    },
    {
     "name": "stderr",
     "output_type": "stream",
     "text": [
      "Epoch 302, global step 106656: 'val_loss_epoch' was not in top 3\n"
     ]
    },
    {
     "name": "stdout",
     "output_type": "stream",
     "text": [
      "Epoch 303: 100%|██████████| 352/352 [00:12<00:00, 27.12it/s, v_num=0, train_loss_step=0.303, val_loss_step=0.182, val_loss_epoch=0.383, train_loss_epoch=0.281, learning_rate=1.28e-7]"
     ]
    },
    {
     "name": "stderr",
     "output_type": "stream",
     "text": [
      "Epoch 303, global step 107008: 'val_loss_epoch' was not in top 3\n"
     ]
    },
    {
     "name": "stdout",
     "output_type": "stream",
     "text": [
      "Epoch 304: 100%|██████████| 352/352 [00:13<00:00, 27.07it/s, v_num=0, train_loss_step=0.242, val_loss_step=0.180, val_loss_epoch=0.386, train_loss_epoch=0.278, learning_rate=1.28e-7]"
     ]
    },
    {
     "name": "stderr",
     "output_type": "stream",
     "text": [
      "Epoch 304, global step 107360: 'val_loss_epoch' was not in top 3\n"
     ]
    },
    {
     "name": "stdout",
     "output_type": "stream",
     "text": [
      "Epoch 305: 100%|██████████| 352/352 [00:13<00:00, 26.96it/s, v_num=0, train_loss_step=0.156, val_loss_step=0.180, val_loss_epoch=0.387, train_loss_epoch=0.283, learning_rate=1.28e-7]"
     ]
    },
    {
     "name": "stderr",
     "output_type": "stream",
     "text": [
      "Epoch 305, global step 107712: 'val_loss_epoch' was not in top 3\n"
     ]
    },
    {
     "name": "stdout",
     "output_type": "stream",
     "text": [
      "Epoch 306: 100%|██████████| 352/352 [00:13<00:00, 27.01it/s, v_num=0, train_loss_step=0.379, val_loss_step=0.181, val_loss_epoch=0.377, train_loss_epoch=0.280, learning_rate=1.09e-7]"
     ]
    },
    {
     "name": "stderr",
     "output_type": "stream",
     "text": [
      "Epoch 306, global step 108064: 'val_loss_epoch' was not in top 3\n"
     ]
    },
    {
     "name": "stdout",
     "output_type": "stream",
     "text": [
      "Epoch 307: 100%|██████████| 352/352 [00:12<00:00, 27.13it/s, v_num=0, train_loss_step=0.173, val_loss_step=0.183, val_loss_epoch=0.376, train_loss_epoch=0.278, learning_rate=1.09e-7]"
     ]
    },
    {
     "name": "stderr",
     "output_type": "stream",
     "text": [
      "Epoch 307, global step 108416: 'val_loss_epoch' was not in top 3\n"
     ]
    },
    {
     "name": "stdout",
     "output_type": "stream",
     "text": [
      "Epoch 308: 100%|██████████| 352/352 [00:13<00:00, 27.05it/s, v_num=0, train_loss_step=0.220, val_loss_step=0.184, val_loss_epoch=0.379, train_loss_epoch=0.281, learning_rate=1.09e-7]"
     ]
    },
    {
     "name": "stderr",
     "output_type": "stream",
     "text": [
      "Epoch 308, global step 108768: 'val_loss_epoch' was not in top 3\n"
     ]
    },
    {
     "name": "stdout",
     "output_type": "stream",
     "text": [
      "Epoch 309: 100%|██████████| 352/352 [00:12<00:00, 27.09it/s, v_num=0, train_loss_step=0.202, val_loss_step=0.186, val_loss_epoch=0.384, train_loss_epoch=0.279, learning_rate=1.09e-7] "
     ]
    },
    {
     "name": "stderr",
     "output_type": "stream",
     "text": [
      "Epoch 309, global step 109120: 'val_loss_epoch' was not in top 3\n"
     ]
    },
    {
     "name": "stdout",
     "output_type": "stream",
     "text": [
      "Epoch 310: 100%|██████████| 352/352 [00:13<00:00, 26.97it/s, v_num=0, train_loss_step=0.174, val_loss_step=0.180, val_loss_epoch=0.380, train_loss_epoch=0.278, learning_rate=1.09e-7] "
     ]
    },
    {
     "name": "stderr",
     "output_type": "stream",
     "text": [
      "Epoch 310, global step 109472: 'val_loss_epoch' was not in top 3\n"
     ]
    },
    {
     "name": "stdout",
     "output_type": "stream",
     "text": [
      "Epoch 311: 100%|██████████| 352/352 [00:13<00:00, 27.07it/s, v_num=0, train_loss_step=0.176, val_loss_step=0.184, val_loss_epoch=0.379, train_loss_epoch=0.282, learning_rate=1.09e-7] "
     ]
    },
    {
     "name": "stderr",
     "output_type": "stream",
     "text": [
      "Epoch 311, global step 109824: 'val_loss_epoch' was not in top 3\n"
     ]
    },
    {
     "name": "stdout",
     "output_type": "stream",
     "text": [
      "Epoch 312: 100%|██████████| 352/352 [00:12<00:00, 27.09it/s, v_num=0, train_loss_step=0.251, val_loss_step=0.182, val_loss_epoch=0.376, train_loss_epoch=0.282, learning_rate=1.09e-7]"
     ]
    },
    {
     "name": "stderr",
     "output_type": "stream",
     "text": [
      "Epoch 312, global step 110176: 'val_loss_epoch' was not in top 3\n"
     ]
    },
    {
     "name": "stdout",
     "output_type": "stream",
     "text": [
      "Epoch 313: 100%|██████████| 352/352 [00:12<00:00, 27.08it/s, v_num=0, train_loss_step=0.291, val_loss_step=0.182, val_loss_epoch=0.387, train_loss_epoch=0.279, learning_rate=1.09e-7]"
     ]
    },
    {
     "name": "stderr",
     "output_type": "stream",
     "text": [
      "Epoch 313, global step 110528: 'val_loss_epoch' was not in top 3\n"
     ]
    },
    {
     "name": "stdout",
     "output_type": "stream",
     "text": [
      "Epoch 314: 100%|██████████| 352/352 [00:12<00:00, 27.08it/s, v_num=0, train_loss_step=0.199, val_loss_step=0.182, val_loss_epoch=0.379, train_loss_epoch=0.284, learning_rate=1.09e-7]"
     ]
    },
    {
     "name": "stderr",
     "output_type": "stream",
     "text": [
      "Epoch 314, global step 110880: 'val_loss_epoch' was not in top 3\n"
     ]
    },
    {
     "name": "stdout",
     "output_type": "stream",
     "text": [
      "Epoch 315: 100%|██████████| 352/352 [00:13<00:00, 27.07it/s, v_num=0, train_loss_step=0.309, val_loss_step=0.181, val_loss_epoch=0.381, train_loss_epoch=0.278, learning_rate=1.09e-7] "
     ]
    },
    {
     "name": "stderr",
     "output_type": "stream",
     "text": [
      "Epoch 315, global step 111232: 'val_loss_epoch' was not in top 3\n"
     ]
    },
    {
     "name": "stdout",
     "output_type": "stream",
     "text": [
      "Epoch 316: 100%|██████████| 352/352 [00:13<00:00, 27.05it/s, v_num=0, train_loss_step=0.407, val_loss_step=0.184, val_loss_epoch=0.383, train_loss_epoch=0.280, learning_rate=1.09e-7]"
     ]
    },
    {
     "name": "stderr",
     "output_type": "stream",
     "text": [
      "Epoch 316, global step 111584: 'val_loss_epoch' was not in top 3\n"
     ]
    },
    {
     "name": "stdout",
     "output_type": "stream",
     "text": [
      "Epoch 317: 100%|██████████| 352/352 [00:13<00:00, 27.02it/s, v_num=0, train_loss_step=0.291, val_loss_step=0.184, val_loss_epoch=0.383, train_loss_epoch=0.282, learning_rate=1.09e-7] "
     ]
    },
    {
     "name": "stderr",
     "output_type": "stream",
     "text": [
      "Epoch 317, global step 111936: 'val_loss_epoch' was not in top 3\n"
     ]
    },
    {
     "name": "stdout",
     "output_type": "stream",
     "text": [
      "Epoch 318: 100%|██████████| 352/352 [00:13<00:00, 27.03it/s, v_num=0, train_loss_step=0.203, val_loss_step=0.186, val_loss_epoch=0.373, train_loss_epoch=0.281, learning_rate=1.09e-7] "
     ]
    },
    {
     "name": "stderr",
     "output_type": "stream",
     "text": [
      "Epoch 318, global step 112288: 'val_loss_epoch' was not in top 3\n"
     ]
    },
    {
     "name": "stdout",
     "output_type": "stream",
     "text": [
      "Epoch 319: 100%|██████████| 352/352 [00:12<00:00, 27.09it/s, v_num=0, train_loss_step=0.451, val_loss_step=0.183, val_loss_epoch=0.384, train_loss_epoch=0.279, learning_rate=1.09e-7]"
     ]
    },
    {
     "name": "stderr",
     "output_type": "stream",
     "text": [
      "Epoch 319, global step 112640: 'val_loss_epoch' was not in top 3\n"
     ]
    },
    {
     "name": "stdout",
     "output_type": "stream",
     "text": [
      "Epoch 320: 100%|██████████| 352/352 [00:12<00:00, 27.09it/s, v_num=0, train_loss_step=0.151, val_loss_step=0.179, val_loss_epoch=0.389, train_loss_epoch=0.283, learning_rate=1.09e-7]"
     ]
    },
    {
     "name": "stderr",
     "output_type": "stream",
     "text": [
      "Epoch 320, global step 112992: 'val_loss_epoch' was not in top 3\n"
     ]
    },
    {
     "name": "stdout",
     "output_type": "stream",
     "text": [
      "Epoch 321: 100%|██████████| 352/352 [00:12<00:00, 27.10it/s, v_num=0, train_loss_step=0.429, val_loss_step=0.185, val_loss_epoch=0.374, train_loss_epoch=0.284, learning_rate=1.09e-7] "
     ]
    },
    {
     "name": "stderr",
     "output_type": "stream",
     "text": [
      "Epoch 321, global step 113344: 'val_loss_epoch' was not in top 3\n"
     ]
    },
    {
     "name": "stdout",
     "output_type": "stream",
     "text": [
      "Epoch 322: 100%|██████████| 352/352 [00:13<00:00, 27.06it/s, v_num=0, train_loss_step=0.272, val_loss_step=0.185, val_loss_epoch=0.374, train_loss_epoch=0.281, learning_rate=1.09e-7] "
     ]
    },
    {
     "name": "stderr",
     "output_type": "stream",
     "text": [
      "Epoch 322, global step 113696: 'val_loss_epoch' was not in top 3\n"
     ]
    },
    {
     "name": "stdout",
     "output_type": "stream",
     "text": [
      "Epoch 323: 100%|██████████| 352/352 [00:12<00:00, 27.10it/s, v_num=0, train_loss_step=0.134, val_loss_step=0.182, val_loss_epoch=0.383, train_loss_epoch=0.282, learning_rate=1.09e-7]"
     ]
    },
    {
     "name": "stderr",
     "output_type": "stream",
     "text": [
      "Epoch 323, global step 114048: 'val_loss_epoch' was not in top 3\n"
     ]
    },
    {
     "name": "stdout",
     "output_type": "stream",
     "text": [
      "Epoch 324: 100%|██████████| 352/352 [00:12<00:00, 27.09it/s, v_num=0, train_loss_step=0.286, val_loss_step=0.183, val_loss_epoch=0.383, train_loss_epoch=0.277, learning_rate=1.09e-7] "
     ]
    },
    {
     "name": "stderr",
     "output_type": "stream",
     "text": [
      "Epoch 324, global step 114400: 'val_loss_epoch' was not in top 3\n"
     ]
    },
    {
     "name": "stdout",
     "output_type": "stream",
     "text": [
      "Epoch 325: 100%|██████████| 352/352 [00:13<00:00, 27.08it/s, v_num=0, train_loss_step=0.189, val_loss_step=0.183, val_loss_epoch=0.381, train_loss_epoch=0.280, learning_rate=1.09e-7]"
     ]
    },
    {
     "name": "stderr",
     "output_type": "stream",
     "text": [
      "Epoch 325, global step 114752: 'val_loss_epoch' was not in top 3\n"
     ]
    },
    {
     "name": "stdout",
     "output_type": "stream",
     "text": [
      "Epoch 326: 100%|██████████| 352/352 [00:13<00:00, 27.06it/s, v_num=0, train_loss_step=0.260, val_loss_step=0.183, val_loss_epoch=0.379, train_loss_epoch=0.283, learning_rate=1.09e-7]"
     ]
    },
    {
     "name": "stderr",
     "output_type": "stream",
     "text": [
      "Epoch 326, global step 115104: 'val_loss_epoch' was not in top 3\n"
     ]
    },
    {
     "name": "stdout",
     "output_type": "stream",
     "text": [
      "Epoch 327: 100%|██████████| 352/352 [00:12<00:00, 27.10it/s, v_num=0, train_loss_step=0.270, val_loss_step=0.180, val_loss_epoch=0.383, train_loss_epoch=0.279, learning_rate=1.09e-7] "
     ]
    },
    {
     "name": "stderr",
     "output_type": "stream",
     "text": [
      "Epoch 327, global step 115456: 'val_loss_epoch' was not in top 3\n"
     ]
    },
    {
     "name": "stdout",
     "output_type": "stream",
     "text": [
      "Epoch 328: 100%|██████████| 352/352 [00:13<00:00, 26.97it/s, v_num=0, train_loss_step=0.176, val_loss_step=0.185, val_loss_epoch=0.382, train_loss_epoch=0.272, learning_rate=1.09e-7]"
     ]
    },
    {
     "name": "stderr",
     "output_type": "stream",
     "text": [
      "Epoch 328, global step 115808: 'val_loss_epoch' was not in top 3\n"
     ]
    },
    {
     "name": "stdout",
     "output_type": "stream",
     "text": [
      "Epoch 329: 100%|██████████| 352/352 [00:12<00:00, 27.10it/s, v_num=0, train_loss_step=0.399, val_loss_step=0.186, val_loss_epoch=0.375, train_loss_epoch=0.276, learning_rate=1.09e-7]"
     ]
    },
    {
     "name": "stderr",
     "output_type": "stream",
     "text": [
      "Epoch 329, global step 116160: 'val_loss_epoch' was not in top 3\n"
     ]
    },
    {
     "name": "stdout",
     "output_type": "stream",
     "text": [
      "Epoch 330: 100%|██████████| 352/352 [00:12<00:00, 27.14it/s, v_num=0, train_loss_step=0.186, val_loss_step=0.182, val_loss_epoch=0.384, train_loss_epoch=0.284, learning_rate=1.09e-7] "
     ]
    },
    {
     "name": "stderr",
     "output_type": "stream",
     "text": [
      "Epoch 330, global step 116512: 'val_loss_epoch' was not in top 3\n"
     ]
    },
    {
     "name": "stdout",
     "output_type": "stream",
     "text": [
      "Epoch 331: 100%|██████████| 352/352 [00:13<00:00, 26.99it/s, v_num=0, train_loss_step=0.327, val_loss_step=0.186, val_loss_epoch=0.382, train_loss_epoch=0.281, learning_rate=1.09e-7] "
     ]
    },
    {
     "name": "stderr",
     "output_type": "stream",
     "text": [
      "Epoch 331, global step 116864: 'val_loss_epoch' was not in top 3\n"
     ]
    },
    {
     "name": "stdout",
     "output_type": "stream",
     "text": [
      "Epoch 332: 100%|██████████| 352/352 [00:13<00:00, 27.04it/s, v_num=0, train_loss_step=0.257, val_loss_step=0.181, val_loss_epoch=0.383, train_loss_epoch=0.278, learning_rate=1.09e-7]"
     ]
    },
    {
     "name": "stderr",
     "output_type": "stream",
     "text": [
      "Epoch 332, global step 117216: 'val_loss_epoch' was not in top 3\n"
     ]
    },
    {
     "name": "stdout",
     "output_type": "stream",
     "text": [
      "Epoch 333: 100%|██████████| 352/352 [00:13<00:00, 27.03it/s, v_num=0, train_loss_step=0.209, val_loss_step=0.183, val_loss_epoch=0.385, train_loss_epoch=0.285, learning_rate=1.09e-7] "
     ]
    },
    {
     "name": "stderr",
     "output_type": "stream",
     "text": [
      "Epoch 333, global step 117568: 'val_loss_epoch' was not in top 3\n"
     ]
    },
    {
     "name": "stdout",
     "output_type": "stream",
     "text": [
      "Epoch 334: 100%|██████████| 352/352 [00:13<00:00, 27.03it/s, v_num=0, train_loss_step=0.326, val_loss_step=0.184, val_loss_epoch=0.382, train_loss_epoch=0.281, learning_rate=1.09e-7] "
     ]
    },
    {
     "name": "stderr",
     "output_type": "stream",
     "text": [
      "Epoch 334, global step 117920: 'val_loss_epoch' was not in top 3\n"
     ]
    },
    {
     "name": "stdout",
     "output_type": "stream",
     "text": [
      "Epoch 335: 100%|██████████| 352/352 [00:13<00:00, 27.02it/s, v_num=0, train_loss_step=0.328, val_loss_step=0.179, val_loss_epoch=0.388, train_loss_epoch=0.282, learning_rate=1.09e-7]"
     ]
    },
    {
     "name": "stderr",
     "output_type": "stream",
     "text": [
      "Epoch 335, global step 118272: 'val_loss_epoch' was not in top 3\n"
     ]
    },
    {
     "name": "stdout",
     "output_type": "stream",
     "text": [
      "Epoch 336: 100%|██████████| 352/352 [00:13<00:00, 27.06it/s, v_num=0, train_loss_step=0.218, val_loss_step=0.181, val_loss_epoch=0.384, train_loss_epoch=0.280, learning_rate=1.09e-7]"
     ]
    },
    {
     "name": "stderr",
     "output_type": "stream",
     "text": [
      "Epoch 336, global step 118624: 'val_loss_epoch' was not in top 3\n"
     ]
    },
    {
     "name": "stdout",
     "output_type": "stream",
     "text": [
      "Epoch 337: 100%|██████████| 352/352 [00:13<00:00, 27.07it/s, v_num=0, train_loss_step=0.331, val_loss_step=0.183, val_loss_epoch=0.377, train_loss_epoch=0.281, learning_rate=1.09e-7]"
     ]
    },
    {
     "name": "stderr",
     "output_type": "stream",
     "text": [
      "Epoch 337, global step 118976: 'val_loss_epoch' was not in top 3\n"
     ]
    },
    {
     "name": "stdout",
     "output_type": "stream",
     "text": [
      "Epoch 338: 100%|██████████| 352/352 [00:13<00:00, 27.01it/s, v_num=0, train_loss_step=0.453, val_loss_step=0.183, val_loss_epoch=0.385, train_loss_epoch=0.280, learning_rate=1.09e-7] "
     ]
    },
    {
     "name": "stderr",
     "output_type": "stream",
     "text": [
      "Epoch 338, global step 119328: 'val_loss_epoch' was not in top 3\n"
     ]
    },
    {
     "name": "stdout",
     "output_type": "stream",
     "text": [
      "Epoch 339: 100%|██████████| 352/352 [00:13<00:00, 27.03it/s, v_num=0, train_loss_step=0.420, val_loss_step=0.182, val_loss_epoch=0.380, train_loss_epoch=0.279, learning_rate=1.09e-7] "
     ]
    },
    {
     "name": "stderr",
     "output_type": "stream",
     "text": [
      "Epoch 339, global step 119680: 'val_loss_epoch' was not in top 3\n"
     ]
    },
    {
     "name": "stdout",
     "output_type": "stream",
     "text": [
      "Epoch 340: 100%|██████████| 352/352 [00:13<00:00, 27.01it/s, v_num=0, train_loss_step=0.349, val_loss_step=0.184, val_loss_epoch=0.382, train_loss_epoch=0.279, learning_rate=1.09e-7]"
     ]
    },
    {
     "name": "stderr",
     "output_type": "stream",
     "text": [
      "Epoch 340, global step 120032: 'val_loss_epoch' was not in top 3\n"
     ]
    },
    {
     "name": "stdout",
     "output_type": "stream",
     "text": [
      "Epoch 341: 100%|██████████| 352/352 [00:13<00:00, 26.92it/s, v_num=0, train_loss_step=0.383, val_loss_step=0.179, val_loss_epoch=0.387, train_loss_epoch=0.282, learning_rate=1.09e-7]"
     ]
    },
    {
     "name": "stderr",
     "output_type": "stream",
     "text": [
      "Epoch 341, global step 120384: 'val_loss_epoch' was not in top 3\n"
     ]
    },
    {
     "name": "stdout",
     "output_type": "stream",
     "text": [
      "Epoch 342: 100%|██████████| 352/352 [00:13<00:00, 27.00it/s, v_num=0, train_loss_step=0.276, val_loss_step=0.182, val_loss_epoch=0.376, train_loss_epoch=0.285, learning_rate=1.09e-7] "
     ]
    },
    {
     "name": "stderr",
     "output_type": "stream",
     "text": [
      "Epoch 342, global step 120736: 'val_loss_epoch' was not in top 3\n"
     ]
    },
    {
     "name": "stdout",
     "output_type": "stream",
     "text": [
      "Epoch 343: 100%|██████████| 352/352 [00:13<00:00, 27.07it/s, v_num=0, train_loss_step=0.271, val_loss_step=0.177, val_loss_epoch=0.386, train_loss_epoch=0.283, learning_rate=1.09e-7] "
     ]
    },
    {
     "name": "stderr",
     "output_type": "stream",
     "text": [
      "Epoch 343, global step 121088: 'val_loss_epoch' was not in top 3\n"
     ]
    },
    {
     "name": "stdout",
     "output_type": "stream",
     "text": [
      "Epoch 344: 100%|██████████| 352/352 [00:13<00:00, 27.04it/s, v_num=0, train_loss_step=0.399, val_loss_step=0.182, val_loss_epoch=0.381, train_loss_epoch=0.282, learning_rate=1.09e-7] "
     ]
    },
    {
     "name": "stderr",
     "output_type": "stream",
     "text": [
      "Epoch 344, global step 121440: 'val_loss_epoch' was not in top 3\n"
     ]
    },
    {
     "name": "stdout",
     "output_type": "stream",
     "text": [
      "Epoch 345: 100%|██████████| 352/352 [00:13<00:00, 26.96it/s, v_num=0, train_loss_step=0.118, val_loss_step=0.182, val_loss_epoch=0.385, train_loss_epoch=0.282, learning_rate=1.09e-7]"
     ]
    },
    {
     "name": "stderr",
     "output_type": "stream",
     "text": [
      "Epoch 345, global step 121792: 'val_loss_epoch' was not in top 3\n"
     ]
    },
    {
     "name": "stdout",
     "output_type": "stream",
     "text": [
      "Epoch 346: 100%|██████████| 352/352 [00:12<00:00, 27.10it/s, v_num=0, train_loss_step=0.362, val_loss_step=0.181, val_loss_epoch=0.380, train_loss_epoch=0.287, learning_rate=1.09e-7]"
     ]
    },
    {
     "name": "stderr",
     "output_type": "stream",
     "text": [
      "Epoch 346, global step 122144: 'val_loss_epoch' was not in top 3\n"
     ]
    },
    {
     "name": "stdout",
     "output_type": "stream",
     "text": [
      "Epoch 347: 100%|██████████| 352/352 [00:13<00:00, 26.99it/s, v_num=0, train_loss_step=0.213, val_loss_step=0.179, val_loss_epoch=0.387, train_loss_epoch=0.280, learning_rate=1.09e-7] "
     ]
    },
    {
     "name": "stderr",
     "output_type": "stream",
     "text": [
      "Epoch 347, global step 122496: 'val_loss_epoch' was not in top 3\n"
     ]
    },
    {
     "name": "stdout",
     "output_type": "stream",
     "text": [
      "Epoch 348: 100%|██████████| 352/352 [00:13<00:00, 26.98it/s, v_num=0, train_loss_step=0.350, val_loss_step=0.185, val_loss_epoch=0.375, train_loss_epoch=0.281, learning_rate=1.09e-7]"
     ]
    },
    {
     "name": "stderr",
     "output_type": "stream",
     "text": [
      "Epoch 348, global step 122848: 'val_loss_epoch' was not in top 3\n"
     ]
    },
    {
     "name": "stdout",
     "output_type": "stream",
     "text": [
      "Epoch 349: 100%|██████████| 352/352 [00:12<00:00, 27.11it/s, v_num=0, train_loss_step=0.388, val_loss_step=0.181, val_loss_epoch=0.386, train_loss_epoch=0.280, learning_rate=1.09e-7]"
     ]
    },
    {
     "name": "stderr",
     "output_type": "stream",
     "text": [
      "Epoch 349, global step 123200: 'val_loss_epoch' was not in top 3\n"
     ]
    },
    {
     "name": "stdout",
     "output_type": "stream",
     "text": [
      "Epoch 350: 100%|██████████| 352/352 [00:13<00:00, 27.01it/s, v_num=0, train_loss_step=0.257, val_loss_step=0.182, val_loss_epoch=0.381, train_loss_epoch=0.278, learning_rate=1.09e-7] "
     ]
    },
    {
     "name": "stderr",
     "output_type": "stream",
     "text": [
      "Epoch 350, global step 123552: 'val_loss_epoch' was not in top 3\n"
     ]
    },
    {
     "name": "stdout",
     "output_type": "stream",
     "text": [
      "Epoch 351: 100%|██████████| 352/352 [00:13<00:00, 27.02it/s, v_num=0, train_loss_step=0.177, val_loss_step=0.180, val_loss_epoch=0.393, train_loss_epoch=0.285, learning_rate=1.09e-7]"
     ]
    },
    {
     "name": "stderr",
     "output_type": "stream",
     "text": [
      "Epoch 351, global step 123904: 'val_loss_epoch' was not in top 3\n"
     ]
    },
    {
     "name": "stdout",
     "output_type": "stream",
     "text": [
      "Epoch 352: 100%|██████████| 352/352 [00:13<00:00, 27.03it/s, v_num=0, train_loss_step=0.177, val_loss_step=0.183, val_loss_epoch=0.382, train_loss_epoch=0.279, learning_rate=1.09e-7] "
     ]
    },
    {
     "name": "stderr",
     "output_type": "stream",
     "text": [
      "Epoch 352, global step 124256: 'val_loss_epoch' was not in top 3\n"
     ]
    },
    {
     "name": "stdout",
     "output_type": "stream",
     "text": [
      "Epoch 353: 100%|██████████| 352/352 [00:13<00:00, 27.06it/s, v_num=0, train_loss_step=0.173, val_loss_step=0.178, val_loss_epoch=0.392, train_loss_epoch=0.282, learning_rate=1.09e-7] "
     ]
    },
    {
     "name": "stderr",
     "output_type": "stream",
     "text": [
      "Epoch 353, global step 124608: 'val_loss_epoch' was not in top 3\n"
     ]
    },
    {
     "name": "stdout",
     "output_type": "stream",
     "text": [
      "Epoch 354: 100%|██████████| 352/352 [00:13<00:00, 27.07it/s, v_num=0, train_loss_step=0.423, val_loss_step=0.186, val_loss_epoch=0.382, train_loss_epoch=0.280, learning_rate=1.09e-7] "
     ]
    },
    {
     "name": "stderr",
     "output_type": "stream",
     "text": [
      "Epoch 354, global step 124960: 'val_loss_epoch' was not in top 3\n"
     ]
    },
    {
     "name": "stdout",
     "output_type": "stream",
     "text": [
      "Epoch 355: 100%|██████████| 352/352 [00:13<00:00, 27.01it/s, v_num=0, train_loss_step=0.297, val_loss_step=0.182, val_loss_epoch=0.387, train_loss_epoch=0.283, learning_rate=1.09e-7] "
     ]
    },
    {
     "name": "stderr",
     "output_type": "stream",
     "text": [
      "Epoch 355, global step 125312: 'val_loss_epoch' was not in top 3\n"
     ]
    },
    {
     "name": "stdout",
     "output_type": "stream",
     "text": [
      "Epoch 356: 100%|██████████| 352/352 [00:12<00:00, 27.08it/s, v_num=0, train_loss_step=0.108, val_loss_step=0.186, val_loss_epoch=0.383, train_loss_epoch=0.281, learning_rate=1.09e-7] "
     ]
    },
    {
     "name": "stderr",
     "output_type": "stream",
     "text": [
      "Epoch 356, global step 125664: 'val_loss_epoch' was not in top 3\n"
     ]
    },
    {
     "name": "stdout",
     "output_type": "stream",
     "text": [
      "Epoch 357: 100%|██████████| 352/352 [00:13<00:00, 27.02it/s, v_num=0, train_loss_step=0.161, val_loss_step=0.185, val_loss_epoch=0.378, train_loss_epoch=0.279, learning_rate=1.09e-7] "
     ]
    },
    {
     "name": "stderr",
     "output_type": "stream",
     "text": [
      "Epoch 357, global step 126016: 'val_loss_epoch' was not in top 3\n"
     ]
    },
    {
     "name": "stdout",
     "output_type": "stream",
     "text": [
      "Epoch 358: 100%|██████████| 352/352 [00:13<00:00, 27.04it/s, v_num=0, train_loss_step=0.337, val_loss_step=0.186, val_loss_epoch=0.378, train_loss_epoch=0.281, learning_rate=1.09e-7] "
     ]
    },
    {
     "name": "stderr",
     "output_type": "stream",
     "text": [
      "Epoch 358, global step 126368: 'val_loss_epoch' was not in top 3\n"
     ]
    },
    {
     "name": "stdout",
     "output_type": "stream",
     "text": [
      "Epoch 359: 100%|██████████| 352/352 [00:13<00:00, 27.03it/s, v_num=0, train_loss_step=0.375, val_loss_step=0.176, val_loss_epoch=0.390, train_loss_epoch=0.281, learning_rate=1.09e-7]"
     ]
    },
    {
     "name": "stderr",
     "output_type": "stream",
     "text": [
      "Epoch 359, global step 126720: 'val_loss_epoch' was not in top 3\n"
     ]
    },
    {
     "name": "stdout",
     "output_type": "stream",
     "text": [
      "Epoch 360: 100%|██████████| 352/352 [00:13<00:00, 27.04it/s, v_num=0, train_loss_step=0.167, val_loss_step=0.188, val_loss_epoch=0.381, train_loss_epoch=0.282, learning_rate=1.09e-7]"
     ]
    },
    {
     "name": "stderr",
     "output_type": "stream",
     "text": [
      "Epoch 360, global step 127072: 'val_loss_epoch' was not in top 3\n"
     ]
    },
    {
     "name": "stdout",
     "output_type": "stream",
     "text": [
      "Epoch 361: 100%|██████████| 352/352 [00:13<00:00, 27.05it/s, v_num=0, train_loss_step=0.489, val_loss_step=0.181, val_loss_epoch=0.382, train_loss_epoch=0.279, learning_rate=1.09e-7]"
     ]
    },
    {
     "name": "stderr",
     "output_type": "stream",
     "text": [
      "Epoch 361, global step 127424: 'val_loss_epoch' was not in top 3\n"
     ]
    },
    {
     "name": "stdout",
     "output_type": "stream",
     "text": [
      "Epoch 362: 100%|██████████| 352/352 [00:13<00:00, 26.97it/s, v_num=0, train_loss_step=0.440, val_loss_step=0.179, val_loss_epoch=0.384, train_loss_epoch=0.280, learning_rate=1.09e-7]"
     ]
    },
    {
     "name": "stderr",
     "output_type": "stream",
     "text": [
      "Epoch 362, global step 127776: 'val_loss_epoch' was not in top 3\n"
     ]
    },
    {
     "name": "stdout",
     "output_type": "stream",
     "text": [
      "Epoch 363: 100%|██████████| 352/352 [00:12<00:00, 27.44it/s, v_num=0, train_loss_step=0.178, val_loss_step=0.188, val_loss_epoch=0.375, train_loss_epoch=0.282, learning_rate=1.09e-7]"
     ]
    },
    {
     "name": "stderr",
     "output_type": "stream",
     "text": [
      "Epoch 363, global step 128128: 'val_loss_epoch' was not in top 3\n"
     ]
    },
    {
     "name": "stdout",
     "output_type": "stream",
     "text": [
      "Epoch 364: 100%|██████████| 352/352 [00:12<00:00, 27.15it/s, v_num=0, train_loss_step=0.228, val_loss_step=0.182, val_loss_epoch=0.379, train_loss_epoch=0.281, learning_rate=1.09e-7] "
     ]
    },
    {
     "name": "stderr",
     "output_type": "stream",
     "text": [
      "Epoch 364, global step 128480: 'val_loss_epoch' was not in top 3\n"
     ]
    },
    {
     "name": "stdout",
     "output_type": "stream",
     "text": [
      "Epoch 365: 100%|██████████| 352/352 [00:12<00:00, 27.33it/s, v_num=0, train_loss_step=0.222, val_loss_step=0.185, val_loss_epoch=0.376, train_loss_epoch=0.284, learning_rate=1.09e-7]"
     ]
    },
    {
     "name": "stderr",
     "output_type": "stream",
     "text": [
      "Epoch 365, global step 128832: 'val_loss_epoch' was not in top 3\n"
     ]
    },
    {
     "name": "stdout",
     "output_type": "stream",
     "text": [
      "Epoch 366: 100%|██████████| 352/352 [00:13<00:00, 26.87it/s, v_num=0, train_loss_step=0.355, val_loss_step=0.187, val_loss_epoch=0.383, train_loss_epoch=0.283, learning_rate=1.09e-7] "
     ]
    },
    {
     "name": "stderr",
     "output_type": "stream",
     "text": [
      "Epoch 366, global step 129184: 'val_loss_epoch' was not in top 3\n"
     ]
    },
    {
     "name": "stdout",
     "output_type": "stream",
     "text": [
      "Epoch 367: 100%|██████████| 352/352 [00:13<00:00, 26.97it/s, v_num=0, train_loss_step=0.0901, val_loss_step=0.183, val_loss_epoch=0.388, train_loss_epoch=0.281, learning_rate=1.09e-7]"
     ]
    },
    {
     "name": "stderr",
     "output_type": "stream",
     "text": [
      "Epoch 367, global step 129536: 'val_loss_epoch' was not in top 3\n"
     ]
    },
    {
     "name": "stdout",
     "output_type": "stream",
     "text": [
      "Epoch 368: 100%|██████████| 352/352 [00:13<00:00, 27.01it/s, v_num=0, train_loss_step=0.320, val_loss_step=0.186, val_loss_epoch=0.378, train_loss_epoch=0.277, learning_rate=1.09e-7] "
     ]
    },
    {
     "name": "stderr",
     "output_type": "stream",
     "text": [
      "Epoch 368, global step 129888: 'val_loss_epoch' was not in top 3\n"
     ]
    },
    {
     "name": "stdout",
     "output_type": "stream",
     "text": [
      "Epoch 369: 100%|██████████| 352/352 [00:13<00:00, 27.04it/s, v_num=0, train_loss_step=0.512, val_loss_step=0.181, val_loss_epoch=0.381, train_loss_epoch=0.279, learning_rate=1.09e-7]"
     ]
    },
    {
     "name": "stderr",
     "output_type": "stream",
     "text": [
      "Epoch 369, global step 130240: 'val_loss_epoch' was not in top 3\n"
     ]
    },
    {
     "name": "stdout",
     "output_type": "stream",
     "text": [
      "Epoch 370: 100%|██████████| 352/352 [00:13<00:00, 27.06it/s, v_num=0, train_loss_step=0.351, val_loss_step=0.179, val_loss_epoch=0.392, train_loss_epoch=0.280, learning_rate=1.09e-7]"
     ]
    },
    {
     "name": "stderr",
     "output_type": "stream",
     "text": [
      "Epoch 370, global step 130592: 'val_loss_epoch' was not in top 3\n"
     ]
    },
    {
     "name": "stdout",
     "output_type": "stream",
     "text": [
      "Epoch 371: 100%|██████████| 352/352 [00:13<00:00, 27.03it/s, v_num=0, train_loss_step=0.336, val_loss_step=0.182, val_loss_epoch=0.378, train_loss_epoch=0.281, learning_rate=1.09e-7] "
     ]
    },
    {
     "name": "stderr",
     "output_type": "stream",
     "text": [
      "Epoch 371, global step 130944: 'val_loss_epoch' was not in top 3\n"
     ]
    },
    {
     "name": "stdout",
     "output_type": "stream",
     "text": [
      "Epoch 372: 100%|██████████| 352/352 [00:13<00:00, 27.02it/s, v_num=0, train_loss_step=0.286, val_loss_step=0.178, val_loss_epoch=0.392, train_loss_epoch=0.280, learning_rate=1.09e-7] "
     ]
    },
    {
     "name": "stderr",
     "output_type": "stream",
     "text": [
      "Epoch 372, global step 131296: 'val_loss_epoch' was not in top 3\n"
     ]
    },
    {
     "name": "stdout",
     "output_type": "stream",
     "text": [
      "Epoch 373: 100%|██████████| 352/352 [00:13<00:00, 27.02it/s, v_num=0, train_loss_step=0.338, val_loss_step=0.185, val_loss_epoch=0.378, train_loss_epoch=0.282, learning_rate=1.09e-7]"
     ]
    },
    {
     "name": "stderr",
     "output_type": "stream",
     "text": [
      "Epoch 373, global step 131648: 'val_loss_epoch' was not in top 3\n"
     ]
    },
    {
     "name": "stdout",
     "output_type": "stream",
     "text": [
      "Epoch 374: 100%|██████████| 352/352 [00:13<00:00, 27.04it/s, v_num=0, train_loss_step=0.285, val_loss_step=0.187, val_loss_epoch=0.377, train_loss_epoch=0.279, learning_rate=1.09e-7]"
     ]
    },
    {
     "name": "stderr",
     "output_type": "stream",
     "text": [
      "Epoch 374, global step 132000: 'val_loss_epoch' was not in top 3\n"
     ]
    },
    {
     "name": "stdout",
     "output_type": "stream",
     "text": [
      "Epoch 375: 100%|██████████| 352/352 [00:13<00:00, 27.03it/s, v_num=0, train_loss_step=0.280, val_loss_step=0.183, val_loss_epoch=0.381, train_loss_epoch=0.288, learning_rate=1.09e-7] "
     ]
    },
    {
     "name": "stderr",
     "output_type": "stream",
     "text": [
      "Epoch 375, global step 132352: 'val_loss_epoch' was not in top 3\n"
     ]
    },
    {
     "name": "stdout",
     "output_type": "stream",
     "text": [
      "Epoch 376: 100%|██████████| 352/352 [00:13<00:00, 27.04it/s, v_num=0, train_loss_step=0.259, val_loss_step=0.183, val_loss_epoch=0.389, train_loss_epoch=0.279, learning_rate=1.09e-7] "
     ]
    },
    {
     "name": "stderr",
     "output_type": "stream",
     "text": [
      "Epoch 376, global step 132704: 'val_loss_epoch' was not in top 3\n"
     ]
    },
    {
     "name": "stdout",
     "output_type": "stream",
     "text": [
      "Epoch 377: 100%|██████████| 352/352 [00:12<00:00, 27.13it/s, v_num=0, train_loss_step=0.197, val_loss_step=0.178, val_loss_epoch=0.393, train_loss_epoch=0.278, learning_rate=1.09e-7]"
     ]
    },
    {
     "name": "stderr",
     "output_type": "stream",
     "text": [
      "Epoch 377, global step 133056: 'val_loss_epoch' was not in top 3\n"
     ]
    },
    {
     "name": "stdout",
     "output_type": "stream",
     "text": [
      "Epoch 378: 100%|██████████| 352/352 [00:13<00:00, 27.03it/s, v_num=0, train_loss_step=0.277, val_loss_step=0.184, val_loss_epoch=0.387, train_loss_epoch=0.287, learning_rate=1.09e-7] "
     ]
    },
    {
     "name": "stderr",
     "output_type": "stream",
     "text": [
      "Epoch 378, global step 133408: 'val_loss_epoch' was not in top 3\n"
     ]
    },
    {
     "name": "stdout",
     "output_type": "stream",
     "text": [
      "Epoch 379: 100%|██████████| 352/352 [00:13<00:00, 27.07it/s, v_num=0, train_loss_step=0.523, val_loss_step=0.181, val_loss_epoch=0.387, train_loss_epoch=0.279, learning_rate=1.09e-7] "
     ]
    },
    {
     "name": "stderr",
     "output_type": "stream",
     "text": [
      "Epoch 379, global step 133760: 'val_loss_epoch' was not in top 3\n"
     ]
    },
    {
     "name": "stdout",
     "output_type": "stream",
     "text": [
      "Epoch 380: 100%|██████████| 352/352 [00:13<00:00, 27.07it/s, v_num=0, train_loss_step=0.396, val_loss_step=0.186, val_loss_epoch=0.381, train_loss_epoch=0.282, learning_rate=1.09e-7]"
     ]
    },
    {
     "name": "stderr",
     "output_type": "stream",
     "text": [
      "Epoch 380, global step 134112: 'val_loss_epoch' was not in top 3\n"
     ]
    },
    {
     "name": "stdout",
     "output_type": "stream",
     "text": [
      "Epoch 381: 100%|██████████| 352/352 [00:12<00:00, 27.13it/s, v_num=0, train_loss_step=0.322, val_loss_step=0.182, val_loss_epoch=0.382, train_loss_epoch=0.280, learning_rate=1.09e-7] "
     ]
    },
    {
     "name": "stderr",
     "output_type": "stream",
     "text": [
      "Epoch 381, global step 134464: 'val_loss_epoch' was not in top 3\n"
     ]
    },
    {
     "name": "stdout",
     "output_type": "stream",
     "text": [
      "Epoch 382: 100%|██████████| 352/352 [00:13<00:00, 27.02it/s, v_num=0, train_loss_step=0.183, val_loss_step=0.183, val_loss_epoch=0.377, train_loss_epoch=0.278, learning_rate=1.09e-7] "
     ]
    },
    {
     "name": "stderr",
     "output_type": "stream",
     "text": [
      "Epoch 382, global step 134816: 'val_loss_epoch' was not in top 3\n"
     ]
    },
    {
     "name": "stdout",
     "output_type": "stream",
     "text": [
      "Epoch 383: 100%|██████████| 352/352 [00:12<00:00, 27.13it/s, v_num=0, train_loss_step=0.157, val_loss_step=0.184, val_loss_epoch=0.386, train_loss_epoch=0.280, learning_rate=1.09e-7]"
     ]
    },
    {
     "name": "stderr",
     "output_type": "stream",
     "text": [
      "Epoch 383, global step 135168: 'val_loss_epoch' was not in top 3\n"
     ]
    },
    {
     "name": "stdout",
     "output_type": "stream",
     "text": [
      "Epoch 384: 100%|██████████| 352/352 [00:13<00:00, 27.02it/s, v_num=0, train_loss_step=0.373, val_loss_step=0.182, val_loss_epoch=0.381, train_loss_epoch=0.281, learning_rate=1.09e-7]"
     ]
    },
    {
     "name": "stderr",
     "output_type": "stream",
     "text": [
      "Epoch 384, global step 135520: 'val_loss_epoch' was not in top 3\n"
     ]
    },
    {
     "name": "stdout",
     "output_type": "stream",
     "text": [
      "Epoch 385: 100%|██████████| 352/352 [00:13<00:00, 27.05it/s, v_num=0, train_loss_step=0.340, val_loss_step=0.185, val_loss_epoch=0.378, train_loss_epoch=0.278, learning_rate=1.09e-7] "
     ]
    },
    {
     "name": "stderr",
     "output_type": "stream",
     "text": [
      "Epoch 385, global step 135872: 'val_loss_epoch' was not in top 3\n"
     ]
    },
    {
     "name": "stdout",
     "output_type": "stream",
     "text": [
      "Epoch 386: 100%|██████████| 352/352 [00:13<00:00, 27.05it/s, v_num=0, train_loss_step=0.366, val_loss_step=0.183, val_loss_epoch=0.389, train_loss_epoch=0.275, learning_rate=1.09e-7] "
     ]
    },
    {
     "name": "stderr",
     "output_type": "stream",
     "text": [
      "Epoch 386, global step 136224: 'val_loss_epoch' was not in top 3\n"
     ]
    },
    {
     "name": "stdout",
     "output_type": "stream",
     "text": [
      "Epoch 387: 100%|██████████| 352/352 [00:12<00:00, 27.12it/s, v_num=0, train_loss_step=0.293, val_loss_step=0.182, val_loss_epoch=0.381, train_loss_epoch=0.283, learning_rate=1.09e-7]"
     ]
    },
    {
     "name": "stderr",
     "output_type": "stream",
     "text": [
      "Epoch 387, global step 136576: 'val_loss_epoch' was not in top 3\n"
     ]
    },
    {
     "name": "stdout",
     "output_type": "stream",
     "text": [
      "Epoch 388: 100%|██████████| 352/352 [00:13<00:00, 27.07it/s, v_num=0, train_loss_step=0.261, val_loss_step=0.179, val_loss_epoch=0.397, train_loss_epoch=0.280, learning_rate=1.09e-7] "
     ]
    },
    {
     "name": "stderr",
     "output_type": "stream",
     "text": [
      "Epoch 388, global step 136928: 'val_loss_epoch' was not in top 3\n"
     ]
    },
    {
     "name": "stdout",
     "output_type": "stream",
     "text": [
      "Epoch 389: 100%|██████████| 352/352 [00:12<00:00, 27.10it/s, v_num=0, train_loss_step=0.343, val_loss_step=0.186, val_loss_epoch=0.385, train_loss_epoch=0.278, learning_rate=1.09e-7]"
     ]
    },
    {
     "name": "stderr",
     "output_type": "stream",
     "text": [
      "Epoch 389, global step 137280: 'val_loss_epoch' was not in top 3\n"
     ]
    },
    {
     "name": "stdout",
     "output_type": "stream",
     "text": [
      "Epoch 390: 100%|██████████| 352/352 [00:13<00:00, 27.01it/s, v_num=0, train_loss_step=0.330, val_loss_step=0.184, val_loss_epoch=0.383, train_loss_epoch=0.277, learning_rate=1.09e-7]"
     ]
    },
    {
     "name": "stderr",
     "output_type": "stream",
     "text": [
      "Epoch 390, global step 137632: 'val_loss_epoch' was not in top 3\n"
     ]
    },
    {
     "name": "stdout",
     "output_type": "stream",
     "text": [
      "Epoch 391: 100%|██████████| 352/352 [00:13<00:00, 26.99it/s, v_num=0, train_loss_step=0.501, val_loss_step=0.175, val_loss_epoch=0.406, train_loss_epoch=0.279, learning_rate=1.09e-7] "
     ]
    },
    {
     "name": "stderr",
     "output_type": "stream",
     "text": [
      "Epoch 391, global step 137984: 'val_loss_epoch' was not in top 3\n"
     ]
    },
    {
     "name": "stdout",
     "output_type": "stream",
     "text": [
      "Epoch 392: 100%|██████████| 352/352 [00:12<00:00, 27.11it/s, v_num=0, train_loss_step=0.246, val_loss_step=0.179, val_loss_epoch=0.389, train_loss_epoch=0.284, learning_rate=1.09e-7] "
     ]
    },
    {
     "name": "stderr",
     "output_type": "stream",
     "text": [
      "Epoch 392, global step 138336: 'val_loss_epoch' was not in top 3\n"
     ]
    },
    {
     "name": "stdout",
     "output_type": "stream",
     "text": [
      "Epoch 393: 100%|██████████| 352/352 [00:12<00:00, 27.08it/s, v_num=0, train_loss_step=0.510, val_loss_step=0.182, val_loss_epoch=0.378, train_loss_epoch=0.278, learning_rate=1.09e-7] "
     ]
    },
    {
     "name": "stderr",
     "output_type": "stream",
     "text": [
      "Epoch 393, global step 138688: 'val_loss_epoch' was not in top 3\n"
     ]
    },
    {
     "name": "stdout",
     "output_type": "stream",
     "text": [
      "Epoch 394: 100%|██████████| 352/352 [00:13<00:00, 27.04it/s, v_num=0, train_loss_step=0.242, val_loss_step=0.184, val_loss_epoch=0.382, train_loss_epoch=0.284, learning_rate=1.09e-7]"
     ]
    },
    {
     "name": "stderr",
     "output_type": "stream",
     "text": [
      "Epoch 394, global step 139040: 'val_loss_epoch' was not in top 3\n"
     ]
    },
    {
     "name": "stdout",
     "output_type": "stream",
     "text": [
      "Epoch 395: 100%|██████████| 352/352 [00:12<00:00, 27.10it/s, v_num=0, train_loss_step=0.292, val_loss_step=0.180, val_loss_epoch=0.386, train_loss_epoch=0.278, learning_rate=1.09e-7]"
     ]
    },
    {
     "name": "stderr",
     "output_type": "stream",
     "text": [
      "Epoch 395, global step 139392: 'val_loss_epoch' was not in top 3\n"
     ]
    },
    {
     "name": "stdout",
     "output_type": "stream",
     "text": [
      "Epoch 396: 100%|██████████| 352/352 [00:12<00:00, 27.09it/s, v_num=0, train_loss_step=0.420, val_loss_step=0.183, val_loss_epoch=0.382, train_loss_epoch=0.284, learning_rate=1.09e-7]"
     ]
    },
    {
     "name": "stderr",
     "output_type": "stream",
     "text": [
      "Epoch 396, global step 139744: 'val_loss_epoch' was not in top 3\n"
     ]
    },
    {
     "name": "stdout",
     "output_type": "stream",
     "text": [
      "Epoch 397: 100%|██████████| 352/352 [00:13<00:00, 27.03it/s, v_num=0, train_loss_step=0.168, val_loss_step=0.186, val_loss_epoch=0.383, train_loss_epoch=0.288, learning_rate=1.09e-7] "
     ]
    },
    {
     "name": "stderr",
     "output_type": "stream",
     "text": [
      "Epoch 397, global step 140096: 'val_loss_epoch' was not in top 3\n"
     ]
    },
    {
     "name": "stdout",
     "output_type": "stream",
     "text": [
      "Epoch 398: 100%|██████████| 352/352 [00:13<00:00, 27.00it/s, v_num=0, train_loss_step=0.247, val_loss_step=0.184, val_loss_epoch=0.383, train_loss_epoch=0.277, learning_rate=1.09e-7]"
     ]
    },
    {
     "name": "stderr",
     "output_type": "stream",
     "text": [
      "Epoch 398, global step 140448: 'val_loss_epoch' was not in top 3\n"
     ]
    },
    {
     "name": "stdout",
     "output_type": "stream",
     "text": [
      "Epoch 399: 100%|██████████| 352/352 [00:13<00:00, 26.99it/s, v_num=0, train_loss_step=0.228, val_loss_step=0.183, val_loss_epoch=0.379, train_loss_epoch=0.282, learning_rate=1.09e-7]"
     ]
    },
    {
     "name": "stderr",
     "output_type": "stream",
     "text": [
      "Epoch 399, global step 140800: 'val_loss_epoch' was not in top 3\n"
     ]
    },
    {
     "name": "stdout",
     "output_type": "stream",
     "text": [
      "Epoch 400: 100%|██████████| 352/352 [00:12<00:00, 27.09it/s, v_num=0, train_loss_step=0.388, val_loss_step=0.178, val_loss_epoch=0.391, train_loss_epoch=0.279, learning_rate=1.09e-7] "
     ]
    },
    {
     "name": "stderr",
     "output_type": "stream",
     "text": [
      "Epoch 400, global step 141152: 'val_loss_epoch' was not in top 3\n"
     ]
    },
    {
     "name": "stdout",
     "output_type": "stream",
     "text": [
      "Epoch 401: 100%|██████████| 352/352 [00:13<00:00, 27.02it/s, v_num=0, train_loss_step=0.122, val_loss_step=0.184, val_loss_epoch=0.381, train_loss_epoch=0.279, learning_rate=1.09e-7]"
     ]
    },
    {
     "name": "stderr",
     "output_type": "stream",
     "text": [
      "Epoch 401, global step 141504: 'val_loss_epoch' was not in top 3\n"
     ]
    },
    {
     "name": "stdout",
     "output_type": "stream",
     "text": [
      "Epoch 402: 100%|██████████| 352/352 [00:12<00:00, 27.12it/s, v_num=0, train_loss_step=0.434, val_loss_step=0.181, val_loss_epoch=0.393, train_loss_epoch=0.280, learning_rate=1.09e-7]"
     ]
    },
    {
     "name": "stderr",
     "output_type": "stream",
     "text": [
      "Epoch 402, global step 141856: 'val_loss_epoch' was not in top 3\n"
     ]
    },
    {
     "name": "stdout",
     "output_type": "stream",
     "text": [
      "Epoch 403: 100%|██████████| 352/352 [00:12<00:00, 27.10it/s, v_num=0, train_loss_step=0.410, val_loss_step=0.186, val_loss_epoch=0.384, train_loss_epoch=0.282, learning_rate=1.09e-7] "
     ]
    },
    {
     "name": "stderr",
     "output_type": "stream",
     "text": [
      "Epoch 403, global step 142208: 'val_loss_epoch' was not in top 3\n"
     ]
    },
    {
     "name": "stdout",
     "output_type": "stream",
     "text": [
      "Epoch 404: 100%|██████████| 352/352 [00:12<00:00, 27.09it/s, v_num=0, train_loss_step=0.327, val_loss_step=0.177, val_loss_epoch=0.391, train_loss_epoch=0.281, learning_rate=1.09e-7] "
     ]
    },
    {
     "name": "stderr",
     "output_type": "stream",
     "text": [
      "Epoch 404, global step 142560: 'val_loss_epoch' was not in top 3\n"
     ]
    },
    {
     "name": "stdout",
     "output_type": "stream",
     "text": [
      "Epoch 405: 100%|██████████| 352/352 [00:13<00:00, 27.02it/s, v_num=0, train_loss_step=0.262, val_loss_step=0.182, val_loss_epoch=0.382, train_loss_epoch=0.280, learning_rate=1.09e-7]"
     ]
    },
    {
     "name": "stderr",
     "output_type": "stream",
     "text": [
      "Epoch 405, global step 142912: 'val_loss_epoch' was not in top 3\n"
     ]
    },
    {
     "name": "stdout",
     "output_type": "stream",
     "text": [
      "Epoch 406: 100%|██████████| 352/352 [00:13<00:00, 27.07it/s, v_num=0, train_loss_step=0.240, val_loss_step=0.182, val_loss_epoch=0.382, train_loss_epoch=0.282, learning_rate=1.09e-7]"
     ]
    },
    {
     "name": "stderr",
     "output_type": "stream",
     "text": [
      "Epoch 406, global step 143264: 'val_loss_epoch' was not in top 3\n"
     ]
    },
    {
     "name": "stdout",
     "output_type": "stream",
     "text": [
      "Epoch 407: 100%|██████████| 352/352 [00:12<00:00, 27.08it/s, v_num=0, train_loss_step=0.319, val_loss_step=0.183, val_loss_epoch=0.393, train_loss_epoch=0.279, learning_rate=1.09e-7] "
     ]
    },
    {
     "name": "stderr",
     "output_type": "stream",
     "text": [
      "Epoch 407, global step 143616: 'val_loss_epoch' was not in top 3\n"
     ]
    },
    {
     "name": "stdout",
     "output_type": "stream",
     "text": [
      "Epoch 408: 100%|██████████| 352/352 [00:12<00:00, 27.11it/s, v_num=0, train_loss_step=0.186, val_loss_step=0.182, val_loss_epoch=0.381, train_loss_epoch=0.280, learning_rate=1.09e-7] "
     ]
    },
    {
     "name": "stderr",
     "output_type": "stream",
     "text": [
      "Epoch 408, global step 143968: 'val_loss_epoch' was not in top 3\n"
     ]
    },
    {
     "name": "stdout",
     "output_type": "stream",
     "text": [
      "Epoch 409: 100%|██████████| 352/352 [00:13<00:00, 27.01it/s, v_num=0, train_loss_step=0.335, val_loss_step=0.187, val_loss_epoch=0.376, train_loss_epoch=0.283, learning_rate=1.09e-7]"
     ]
    },
    {
     "name": "stderr",
     "output_type": "stream",
     "text": [
      "Epoch 409, global step 144320: 'val_loss_epoch' was not in top 3\n"
     ]
    },
    {
     "name": "stdout",
     "output_type": "stream",
     "text": [
      "Epoch 410: 100%|██████████| 352/352 [00:13<00:00, 27.01it/s, v_num=0, train_loss_step=0.424, val_loss_step=0.179, val_loss_epoch=0.388, train_loss_epoch=0.281, learning_rate=1.09e-7]"
     ]
    },
    {
     "name": "stderr",
     "output_type": "stream",
     "text": [
      "Epoch 410, global step 144672: 'val_loss_epoch' was not in top 3\n"
     ]
    },
    {
     "name": "stdout",
     "output_type": "stream",
     "text": [
      "Epoch 411: 100%|██████████| 352/352 [00:12<00:00, 27.11it/s, v_num=0, train_loss_step=0.281, val_loss_step=0.178, val_loss_epoch=0.395, train_loss_epoch=0.281, learning_rate=1.09e-7]"
     ]
    },
    {
     "name": "stderr",
     "output_type": "stream",
     "text": [
      "Epoch 411, global step 145024: 'val_loss_epoch' was not in top 3\n"
     ]
    },
    {
     "name": "stdout",
     "output_type": "stream",
     "text": [
      "Epoch 412: 100%|██████████| 352/352 [00:13<00:00, 27.03it/s, v_num=0, train_loss_step=0.386, val_loss_step=0.184, val_loss_epoch=0.377, train_loss_epoch=0.281, learning_rate=1.09e-7] "
     ]
    },
    {
     "name": "stderr",
     "output_type": "stream",
     "text": [
      "Epoch 412, global step 145376: 'val_loss_epoch' was not in top 3\n"
     ]
    },
    {
     "name": "stdout",
     "output_type": "stream",
     "text": [
      "Epoch 413: 100%|██████████| 352/352 [00:13<00:00, 27.00it/s, v_num=0, train_loss_step=0.243, val_loss_step=0.180, val_loss_epoch=0.383, train_loss_epoch=0.275, learning_rate=1.09e-7] "
     ]
    },
    {
     "name": "stderr",
     "output_type": "stream",
     "text": [
      "Epoch 413, global step 145728: 'val_loss_epoch' was not in top 3\n"
     ]
    },
    {
     "name": "stdout",
     "output_type": "stream",
     "text": [
      "Epoch 414: 100%|██████████| 352/352 [00:13<00:00, 27.02it/s, v_num=0, train_loss_step=0.407, val_loss_step=0.186, val_loss_epoch=0.380, train_loss_epoch=0.281, learning_rate=1.09e-7]"
     ]
    },
    {
     "name": "stderr",
     "output_type": "stream",
     "text": [
      "Epoch 414, global step 146080: 'val_loss_epoch' was not in top 3\n"
     ]
    },
    {
     "name": "stdout",
     "output_type": "stream",
     "text": [
      "Epoch 415: 100%|██████████| 352/352 [00:12<00:00, 27.08it/s, v_num=0, train_loss_step=0.403, val_loss_step=0.176, val_loss_epoch=0.405, train_loss_epoch=0.278, learning_rate=1.09e-7]"
     ]
    },
    {
     "name": "stderr",
     "output_type": "stream",
     "text": [
      "Epoch 415, global step 146432: 'val_loss_epoch' was not in top 3\n"
     ]
    },
    {
     "name": "stdout",
     "output_type": "stream",
     "text": [
      "Epoch 416: 100%|██████████| 352/352 [00:12<00:00, 27.10it/s, v_num=0, train_loss_step=0.384, val_loss_step=0.179, val_loss_epoch=0.393, train_loss_epoch=0.284, learning_rate=1.09e-7] "
     ]
    },
    {
     "name": "stderr",
     "output_type": "stream",
     "text": [
      "Epoch 416, global step 146784: 'val_loss_epoch' was not in top 3\n"
     ]
    },
    {
     "name": "stdout",
     "output_type": "stream",
     "text": [
      "Epoch 417: 100%|██████████| 352/352 [00:12<00:00, 27.08it/s, v_num=0, train_loss_step=0.114, val_loss_step=0.180, val_loss_epoch=0.378, train_loss_epoch=0.277, learning_rate=1.09e-7]"
     ]
    },
    {
     "name": "stderr",
     "output_type": "stream",
     "text": [
      "Epoch 417, global step 147136: 'val_loss_epoch' was not in top 3\n"
     ]
    },
    {
     "name": "stdout",
     "output_type": "stream",
     "text": [
      "Epoch 418: 100%|██████████| 352/352 [00:12<00:00, 27.09it/s, v_num=0, train_loss_step=0.203, val_loss_step=0.182, val_loss_epoch=0.382, train_loss_epoch=0.277, learning_rate=1.09e-7] "
     ]
    },
    {
     "name": "stderr",
     "output_type": "stream",
     "text": [
      "Epoch 418, global step 147488: 'val_loss_epoch' was not in top 3\n"
     ]
    },
    {
     "name": "stdout",
     "output_type": "stream",
     "text": [
      "Epoch 419: 100%|██████████| 352/352 [00:12<00:00, 27.08it/s, v_num=0, train_loss_step=0.450, val_loss_step=0.185, val_loss_epoch=0.385, train_loss_epoch=0.280, learning_rate=1.09e-7]"
     ]
    },
    {
     "name": "stderr",
     "output_type": "stream",
     "text": [
      "Epoch 419, global step 147840: 'val_loss_epoch' was not in top 3\n"
     ]
    },
    {
     "name": "stdout",
     "output_type": "stream",
     "text": [
      "Epoch 420: 100%|██████████| 352/352 [00:13<00:00, 26.97it/s, v_num=0, train_loss_step=0.276, val_loss_step=0.188, val_loss_epoch=0.379, train_loss_epoch=0.282, learning_rate=1.09e-7] "
     ]
    },
    {
     "name": "stderr",
     "output_type": "stream",
     "text": [
      "Epoch 420, global step 148192: 'val_loss_epoch' was not in top 3\n"
     ]
    },
    {
     "name": "stdout",
     "output_type": "stream",
     "text": [
      "Epoch 421: 100%|██████████| 352/352 [00:13<00:00, 27.03it/s, v_num=0, train_loss_step=0.218, val_loss_step=0.181, val_loss_epoch=0.389, train_loss_epoch=0.279, learning_rate=1.09e-7] "
     ]
    },
    {
     "name": "stderr",
     "output_type": "stream",
     "text": [
      "Epoch 421, global step 148544: 'val_loss_epoch' was not in top 3\n"
     ]
    },
    {
     "name": "stdout",
     "output_type": "stream",
     "text": [
      "Epoch 422: 100%|██████████| 352/352 [00:12<00:00, 27.16it/s, v_num=0, train_loss_step=0.313, val_loss_step=0.175, val_loss_epoch=0.386, train_loss_epoch=0.275, learning_rate=1.09e-7] "
     ]
    },
    {
     "name": "stderr",
     "output_type": "stream",
     "text": [
      "Epoch 422, global step 148896: 'val_loss_epoch' was not in top 3\n"
     ]
    },
    {
     "name": "stdout",
     "output_type": "stream",
     "text": [
      "Epoch 423: 100%|██████████| 352/352 [00:12<00:00, 27.09it/s, v_num=0, train_loss_step=0.246, val_loss_step=0.181, val_loss_epoch=0.391, train_loss_epoch=0.279, learning_rate=1.09e-7]"
     ]
    },
    {
     "name": "stderr",
     "output_type": "stream",
     "text": [
      "Epoch 423, global step 149248: 'val_loss_epoch' was not in top 3\n"
     ]
    },
    {
     "name": "stdout",
     "output_type": "stream",
     "text": [
      "Epoch 424: 100%|██████████| 352/352 [00:13<00:00, 27.08it/s, v_num=0, train_loss_step=0.247, val_loss_step=0.182, val_loss_epoch=0.391, train_loss_epoch=0.281, learning_rate=1.09e-7] "
     ]
    },
    {
     "name": "stderr",
     "output_type": "stream",
     "text": [
      "Epoch 424, global step 149600: 'val_loss_epoch' was not in top 3\n"
     ]
    },
    {
     "name": "stdout",
     "output_type": "stream",
     "text": [
      "Epoch 425: 100%|██████████| 352/352 [00:13<00:00, 26.96it/s, v_num=0, train_loss_step=0.121, val_loss_step=0.183, val_loss_epoch=0.381, train_loss_epoch=0.283, learning_rate=1.09e-7]"
     ]
    },
    {
     "name": "stderr",
     "output_type": "stream",
     "text": [
      "Epoch 425, global step 149952: 'val_loss_epoch' was not in top 3\n"
     ]
    },
    {
     "name": "stdout",
     "output_type": "stream",
     "text": [
      "Epoch 426: 100%|██████████| 352/352 [00:13<00:00, 27.07it/s, v_num=0, train_loss_step=0.511, val_loss_step=0.179, val_loss_epoch=0.396, train_loss_epoch=0.281, learning_rate=1.09e-7] "
     ]
    },
    {
     "name": "stderr",
     "output_type": "stream",
     "text": [
      "Epoch 426, global step 150304: 'val_loss_epoch' was not in top 3\n"
     ]
    },
    {
     "name": "stdout",
     "output_type": "stream",
     "text": [
      "Epoch 427: 100%|██████████| 352/352 [00:13<00:00, 27.04it/s, v_num=0, train_loss_step=0.284, val_loss_step=0.187, val_loss_epoch=0.378, train_loss_epoch=0.286, learning_rate=1.09e-7] "
     ]
    },
    {
     "name": "stderr",
     "output_type": "stream",
     "text": [
      "Epoch 427, global step 150656: 'val_loss_epoch' was not in top 3\n"
     ]
    },
    {
     "name": "stdout",
     "output_type": "stream",
     "text": [
      "Epoch 428: 100%|██████████| 352/352 [00:13<00:00, 26.98it/s, v_num=0, train_loss_step=0.296, val_loss_step=0.183, val_loss_epoch=0.380, train_loss_epoch=0.279, learning_rate=1.09e-7]"
     ]
    },
    {
     "name": "stderr",
     "output_type": "stream",
     "text": [
      "Epoch 428, global step 151008: 'val_loss_epoch' was not in top 3\n"
     ]
    },
    {
     "name": "stdout",
     "output_type": "stream",
     "text": [
      "Epoch 429: 100%|██████████| 352/352 [00:13<00:00, 27.07it/s, v_num=0, train_loss_step=0.158, val_loss_step=0.185, val_loss_epoch=0.386, train_loss_epoch=0.284, learning_rate=1.09e-7]"
     ]
    },
    {
     "name": "stderr",
     "output_type": "stream",
     "text": [
      "Epoch 429, global step 151360: 'val_loss_epoch' was not in top 3\n"
     ]
    },
    {
     "name": "stdout",
     "output_type": "stream",
     "text": [
      "Epoch 430: 100%|██████████| 352/352 [00:13<00:00, 27.00it/s, v_num=0, train_loss_step=0.356, val_loss_step=0.182, val_loss_epoch=0.384, train_loss_epoch=0.281, learning_rate=1.09e-7]"
     ]
    },
    {
     "name": "stderr",
     "output_type": "stream",
     "text": [
      "Epoch 430, global step 151712: 'val_loss_epoch' was not in top 3\n"
     ]
    },
    {
     "name": "stdout",
     "output_type": "stream",
     "text": [
      "Epoch 431: 100%|██████████| 352/352 [00:12<00:00, 27.12it/s, v_num=0, train_loss_step=0.0877, val_loss_step=0.185, val_loss_epoch=0.380, train_loss_epoch=0.282, learning_rate=1.09e-7]"
     ]
    },
    {
     "name": "stderr",
     "output_type": "stream",
     "text": [
      "Epoch 431, global step 152064: 'val_loss_epoch' was not in top 3\n"
     ]
    },
    {
     "name": "stdout",
     "output_type": "stream",
     "text": [
      "Epoch 432: 100%|██████████| 352/352 [00:13<00:00, 27.02it/s, v_num=0, train_loss_step=0.158, val_loss_step=0.184, val_loss_epoch=0.386, train_loss_epoch=0.281, learning_rate=1.09e-7] "
     ]
    },
    {
     "name": "stderr",
     "output_type": "stream",
     "text": [
      "Epoch 432, global step 152416: 'val_loss_epoch' was not in top 3\n"
     ]
    },
    {
     "name": "stdout",
     "output_type": "stream",
     "text": [
      "Epoch 433: 100%|██████████| 352/352 [00:12<00:00, 27.17it/s, v_num=0, train_loss_step=0.317, val_loss_step=0.180, val_loss_epoch=0.388, train_loss_epoch=0.282, learning_rate=1.09e-7] "
     ]
    },
    {
     "name": "stderr",
     "output_type": "stream",
     "text": [
      "Epoch 433, global step 152768: 'val_loss_epoch' was not in top 3\n"
     ]
    },
    {
     "name": "stdout",
     "output_type": "stream",
     "text": [
      "Epoch 434: 100%|██████████| 352/352 [00:12<00:00, 27.11it/s, v_num=0, train_loss_step=0.249, val_loss_step=0.182, val_loss_epoch=0.380, train_loss_epoch=0.284, learning_rate=1.09e-7]"
     ]
    },
    {
     "name": "stderr",
     "output_type": "stream",
     "text": [
      "Epoch 434, global step 153120: 'val_loss_epoch' was not in top 3\n"
     ]
    },
    {
     "name": "stdout",
     "output_type": "stream",
     "text": [
      "Epoch 435: 100%|██████████| 352/352 [00:13<00:00, 27.03it/s, v_num=0, train_loss_step=0.195, val_loss_step=0.180, val_loss_epoch=0.389, train_loss_epoch=0.281, learning_rate=1.09e-7]"
     ]
    },
    {
     "name": "stderr",
     "output_type": "stream",
     "text": [
      "Epoch 435, global step 153472: 'val_loss_epoch' was not in top 3\n"
     ]
    },
    {
     "name": "stdout",
     "output_type": "stream",
     "text": [
      "Epoch 436: 100%|██████████| 352/352 [00:12<00:00, 27.09it/s, v_num=0, train_loss_step=0.164, val_loss_step=0.184, val_loss_epoch=0.380, train_loss_epoch=0.281, learning_rate=1.09e-7]"
     ]
    },
    {
     "name": "stderr",
     "output_type": "stream",
     "text": [
      "Epoch 436, global step 153824: 'val_loss_epoch' was not in top 3\n"
     ]
    },
    {
     "name": "stdout",
     "output_type": "stream",
     "text": [
      "Epoch 437: 100%|██████████| 352/352 [00:13<00:00, 27.03it/s, v_num=0, train_loss_step=0.203, val_loss_step=0.179, val_loss_epoch=0.388, train_loss_epoch=0.280, learning_rate=1.09e-7] "
     ]
    },
    {
     "name": "stderr",
     "output_type": "stream",
     "text": [
      "Epoch 437, global step 154176: 'val_loss_epoch' was not in top 3\n"
     ]
    },
    {
     "name": "stdout",
     "output_type": "stream",
     "text": [
      "Epoch 438: 100%|██████████| 352/352 [00:13<00:00, 27.04it/s, v_num=0, train_loss_step=0.739, val_loss_step=0.183, val_loss_epoch=0.379, train_loss_epoch=0.277, learning_rate=1.09e-7] "
     ]
    },
    {
     "name": "stderr",
     "output_type": "stream",
     "text": [
      "Epoch 438, global step 154528: 'val_loss_epoch' was not in top 3\n"
     ]
    },
    {
     "name": "stdout",
     "output_type": "stream",
     "text": [
      "Epoch 439: 100%|██████████| 352/352 [00:13<00:00, 27.05it/s, v_num=0, train_loss_step=0.217, val_loss_step=0.185, val_loss_epoch=0.376, train_loss_epoch=0.279, learning_rate=1.09e-7]"
     ]
    },
    {
     "name": "stderr",
     "output_type": "stream",
     "text": [
      "Epoch 439, global step 154880: 'val_loss_epoch' was not in top 3\n"
     ]
    },
    {
     "name": "stdout",
     "output_type": "stream",
     "text": [
      "Epoch 440: 100%|██████████| 352/352 [00:12<00:00, 27.11it/s, v_num=0, train_loss_step=0.193, val_loss_step=0.181, val_loss_epoch=0.392, train_loss_epoch=0.282, learning_rate=1.09e-7] "
     ]
    },
    {
     "name": "stderr",
     "output_type": "stream",
     "text": [
      "Epoch 440, global step 155232: 'val_loss_epoch' was not in top 3\n"
     ]
    },
    {
     "name": "stdout",
     "output_type": "stream",
     "text": [
      "Epoch 441: 100%|██████████| 352/352 [00:13<00:00, 27.06it/s, v_num=0, train_loss_step=0.434, val_loss_step=0.177, val_loss_epoch=0.393, train_loss_epoch=0.280, learning_rate=1.09e-7]"
     ]
    },
    {
     "name": "stderr",
     "output_type": "stream",
     "text": [
      "Epoch 441, global step 155584: 'val_loss_epoch' was not in top 3\n"
     ]
    },
    {
     "name": "stdout",
     "output_type": "stream",
     "text": [
      "Epoch 442: 100%|██████████| 352/352 [00:12<00:00, 27.12it/s, v_num=0, train_loss_step=0.260, val_loss_step=0.182, val_loss_epoch=0.381, train_loss_epoch=0.280, learning_rate=1.09e-7]"
     ]
    },
    {
     "name": "stderr",
     "output_type": "stream",
     "text": [
      "Epoch 442, global step 155936: 'val_loss_epoch' was not in top 3\n"
     ]
    },
    {
     "name": "stdout",
     "output_type": "stream",
     "text": [
      "Epoch 443: 100%|██████████| 352/352 [00:12<00:00, 27.19it/s, v_num=0, train_loss_step=0.325, val_loss_step=0.184, val_loss_epoch=0.379, train_loss_epoch=0.278, learning_rate=1.09e-7] "
     ]
    },
    {
     "name": "stderr",
     "output_type": "stream",
     "text": [
      "Epoch 443, global step 156288: 'val_loss_epoch' was not in top 3\n"
     ]
    },
    {
     "name": "stdout",
     "output_type": "stream",
     "text": [
      "Epoch 444: 100%|██████████| 352/352 [00:12<00:00, 27.10it/s, v_num=0, train_loss_step=0.343, val_loss_step=0.180, val_loss_epoch=0.379, train_loss_epoch=0.279, learning_rate=1.09e-7]"
     ]
    },
    {
     "name": "stderr",
     "output_type": "stream",
     "text": [
      "Epoch 444, global step 156640: 'val_loss_epoch' was not in top 3\n"
     ]
    },
    {
     "name": "stdout",
     "output_type": "stream",
     "text": [
      "Epoch 445: 100%|██████████| 352/352 [00:13<00:00, 27.06it/s, v_num=0, train_loss_step=0.343, val_loss_step=0.181, val_loss_epoch=0.378, train_loss_epoch=0.279, learning_rate=1.09e-7] "
     ]
    },
    {
     "name": "stderr",
     "output_type": "stream",
     "text": [
      "Epoch 445, global step 156992: 'val_loss_epoch' was not in top 3\n"
     ]
    },
    {
     "name": "stdout",
     "output_type": "stream",
     "text": [
      "Epoch 446: 100%|██████████| 352/352 [00:13<00:00, 27.05it/s, v_num=0, train_loss_step=0.420, val_loss_step=0.183, val_loss_epoch=0.380, train_loss_epoch=0.284, learning_rate=1.09e-7]"
     ]
    },
    {
     "name": "stderr",
     "output_type": "stream",
     "text": [
      "Epoch 446, global step 157344: 'val_loss_epoch' was not in top 3\n"
     ]
    },
    {
     "name": "stdout",
     "output_type": "stream",
     "text": [
      "Epoch 447: 100%|██████████| 352/352 [00:12<00:00, 27.09it/s, v_num=0, train_loss_step=0.372, val_loss_step=0.179, val_loss_epoch=0.376, train_loss_epoch=0.275, learning_rate=1.09e-7]"
     ]
    },
    {
     "name": "stderr",
     "output_type": "stream",
     "text": [
      "Epoch 447, global step 157696: 'val_loss_epoch' was not in top 3\n"
     ]
    },
    {
     "name": "stdout",
     "output_type": "stream",
     "text": [
      "Epoch 448: 100%|██████████| 352/352 [00:12<00:00, 27.10it/s, v_num=0, train_loss_step=0.351, val_loss_step=0.183, val_loss_epoch=0.377, train_loss_epoch=0.281, learning_rate=1.09e-7]"
     ]
    },
    {
     "name": "stderr",
     "output_type": "stream",
     "text": [
      "Epoch 448, global step 158048: 'val_loss_epoch' was not in top 3\n"
     ]
    },
    {
     "name": "stdout",
     "output_type": "stream",
     "text": [
      "Epoch 449: 100%|██████████| 352/352 [00:13<00:00, 27.01it/s, v_num=0, train_loss_step=0.364, val_loss_step=0.181, val_loss_epoch=0.386, train_loss_epoch=0.277, learning_rate=1.09e-7] "
     ]
    },
    {
     "name": "stderr",
     "output_type": "stream",
     "text": [
      "Epoch 449, global step 158400: 'val_loss_epoch' was not in top 3\n"
     ]
    },
    {
     "name": "stdout",
     "output_type": "stream",
     "text": [
      "Epoch 450: 100%|██████████| 352/352 [00:12<00:00, 27.10it/s, v_num=0, train_loss_step=0.152, val_loss_step=0.183, val_loss_epoch=0.378, train_loss_epoch=0.282, learning_rate=1.09e-7] "
     ]
    },
    {
     "name": "stderr",
     "output_type": "stream",
     "text": [
      "Epoch 450, global step 158752: 'val_loss_epoch' was not in top 3\n"
     ]
    },
    {
     "name": "stdout",
     "output_type": "stream",
     "text": [
      "Epoch 451: 100%|██████████| 352/352 [00:13<00:00, 27.03it/s, v_num=0, train_loss_step=0.275, val_loss_step=0.178, val_loss_epoch=0.397, train_loss_epoch=0.283, learning_rate=1.09e-7]"
     ]
    },
    {
     "name": "stderr",
     "output_type": "stream",
     "text": [
      "Epoch 451, global step 159104: 'val_loss_epoch' was not in top 3\n"
     ]
    },
    {
     "name": "stdout",
     "output_type": "stream",
     "text": [
      "Epoch 452: 100%|██████████| 352/352 [00:12<00:00, 27.11it/s, v_num=0, train_loss_step=0.369, val_loss_step=0.182, val_loss_epoch=0.376, train_loss_epoch=0.281, learning_rate=1.09e-7] "
     ]
    },
    {
     "name": "stderr",
     "output_type": "stream",
     "text": [
      "Epoch 452, global step 159456: 'val_loss_epoch' was not in top 3\n"
     ]
    },
    {
     "name": "stdout",
     "output_type": "stream",
     "text": [
      "Epoch 453: 100%|██████████| 352/352 [00:12<00:00, 27.10it/s, v_num=0, train_loss_step=0.182, val_loss_step=0.184, val_loss_epoch=0.386, train_loss_epoch=0.279, learning_rate=1.09e-7]"
     ]
    },
    {
     "name": "stderr",
     "output_type": "stream",
     "text": [
      "Epoch 453, global step 159808: 'val_loss_epoch' was not in top 3\n"
     ]
    },
    {
     "name": "stdout",
     "output_type": "stream",
     "text": [
      "Epoch 454: 100%|██████████| 352/352 [00:13<00:00, 27.07it/s, v_num=0, train_loss_step=0.230, val_loss_step=0.178, val_loss_epoch=0.386, train_loss_epoch=0.275, learning_rate=1.09e-7]"
     ]
    },
    {
     "name": "stderr",
     "output_type": "stream",
     "text": [
      "Epoch 454, global step 160160: 'val_loss_epoch' was not in top 3\n"
     ]
    },
    {
     "name": "stdout",
     "output_type": "stream",
     "text": [
      "Epoch 455: 100%|██████████| 352/352 [00:13<00:00, 26.93it/s, v_num=0, train_loss_step=0.398, val_loss_step=0.182, val_loss_epoch=0.378, train_loss_epoch=0.276, learning_rate=1.09e-7]"
     ]
    },
    {
     "name": "stderr",
     "output_type": "stream",
     "text": [
      "Epoch 455, global step 160512: 'val_loss_epoch' was not in top 3\n"
     ]
    },
    {
     "name": "stdout",
     "output_type": "stream",
     "text": [
      "Epoch 456: 100%|██████████| 352/352 [00:13<00:00, 27.03it/s, v_num=0, train_loss_step=0.260, val_loss_step=0.183, val_loss_epoch=0.384, train_loss_epoch=0.283, learning_rate=1.09e-7]"
     ]
    },
    {
     "name": "stderr",
     "output_type": "stream",
     "text": [
      "Epoch 456, global step 160864: 'val_loss_epoch' was not in top 3\n"
     ]
    },
    {
     "name": "stdout",
     "output_type": "stream",
     "text": [
      "Epoch 457: 100%|██████████| 352/352 [00:13<00:00, 27.04it/s, v_num=0, train_loss_step=0.232, val_loss_step=0.177, val_loss_epoch=0.401, train_loss_epoch=0.280, learning_rate=1.09e-7]"
     ]
    },
    {
     "name": "stderr",
     "output_type": "stream",
     "text": [
      "Epoch 457, global step 161216: 'val_loss_epoch' was not in top 3\n"
     ]
    },
    {
     "name": "stdout",
     "output_type": "stream",
     "text": [
      "Epoch 458: 100%|██████████| 352/352 [00:13<00:00, 27.01it/s, v_num=0, train_loss_step=0.326, val_loss_step=0.182, val_loss_epoch=0.384, train_loss_epoch=0.280, learning_rate=1.09e-7]"
     ]
    },
    {
     "name": "stderr",
     "output_type": "stream",
     "text": [
      "Epoch 458, global step 161568: 'val_loss_epoch' was not in top 3\n"
     ]
    },
    {
     "name": "stdout",
     "output_type": "stream",
     "text": [
      "Epoch 459: 100%|██████████| 352/352 [00:13<00:00, 27.02it/s, v_num=0, train_loss_step=0.436, val_loss_step=0.179, val_loss_epoch=0.397, train_loss_epoch=0.280, learning_rate=1.09e-7]"
     ]
    },
    {
     "name": "stderr",
     "output_type": "stream",
     "text": [
      "Epoch 459, global step 161920: 'val_loss_epoch' was not in top 3\n"
     ]
    },
    {
     "name": "stdout",
     "output_type": "stream",
     "text": [
      "Epoch 460: 100%|██████████| 352/352 [00:13<00:00, 27.01it/s, v_num=0, train_loss_step=0.232, val_loss_step=0.184, val_loss_epoch=0.391, train_loss_epoch=0.281, learning_rate=1.09e-7] "
     ]
    },
    {
     "name": "stderr",
     "output_type": "stream",
     "text": [
      "Epoch 460, global step 162272: 'val_loss_epoch' was not in top 3\n"
     ]
    },
    {
     "name": "stdout",
     "output_type": "stream",
     "text": [
      "Epoch 461: 100%|██████████| 352/352 [00:13<00:00, 27.06it/s, v_num=0, train_loss_step=0.476, val_loss_step=0.183, val_loss_epoch=0.383, train_loss_epoch=0.283, learning_rate=1.09e-7] "
     ]
    },
    {
     "name": "stderr",
     "output_type": "stream",
     "text": [
      "Epoch 461, global step 162624: 'val_loss_epoch' was not in top 3\n"
     ]
    },
    {
     "name": "stdout",
     "output_type": "stream",
     "text": [
      "Epoch 462: 100%|██████████| 352/352 [00:13<00:00, 26.97it/s, v_num=0, train_loss_step=0.213, val_loss_step=0.179, val_loss_epoch=0.391, train_loss_epoch=0.280, learning_rate=1.09e-7]"
     ]
    },
    {
     "name": "stderr",
     "output_type": "stream",
     "text": [
      "Epoch 462, global step 162976: 'val_loss_epoch' was not in top 3\n"
     ]
    },
    {
     "name": "stdout",
     "output_type": "stream",
     "text": [
      "Epoch 463: 100%|██████████| 352/352 [00:12<00:00, 27.09it/s, v_num=0, train_loss_step=0.271, val_loss_step=0.174, val_loss_epoch=0.390, train_loss_epoch=0.279, learning_rate=1.09e-7]"
     ]
    },
    {
     "name": "stderr",
     "output_type": "stream",
     "text": [
      "Epoch 463, global step 163328: 'val_loss_epoch' was not in top 3\n"
     ]
    },
    {
     "name": "stdout",
     "output_type": "stream",
     "text": [
      "Epoch 464: 100%|██████████| 352/352 [00:13<00:00, 27.07it/s, v_num=0, train_loss_step=0.351, val_loss_step=0.176, val_loss_epoch=0.387, train_loss_epoch=0.283, learning_rate=1.09e-7] "
     ]
    },
    {
     "name": "stderr",
     "output_type": "stream",
     "text": [
      "Epoch 464, global step 163680: 'val_loss_epoch' was not in top 3\n"
     ]
    },
    {
     "name": "stdout",
     "output_type": "stream",
     "text": [
      "Epoch 465: 100%|██████████| 352/352 [00:12<00:00, 27.08it/s, v_num=0, train_loss_step=0.167, val_loss_step=0.185, val_loss_epoch=0.381, train_loss_epoch=0.277, learning_rate=1.09e-7] "
     ]
    },
    {
     "name": "stderr",
     "output_type": "stream",
     "text": [
      "Epoch 465, global step 164032: 'val_loss_epoch' was not in top 3\n"
     ]
    },
    {
     "name": "stdout",
     "output_type": "stream",
     "text": [
      "Epoch 466: 100%|██████████| 352/352 [00:13<00:00, 27.07it/s, v_num=0, train_loss_step=0.332, val_loss_step=0.180, val_loss_epoch=0.383, train_loss_epoch=0.283, learning_rate=1.09e-7]"
     ]
    },
    {
     "name": "stderr",
     "output_type": "stream",
     "text": [
      "Epoch 466, global step 164384: 'val_loss_epoch' was not in top 3\n"
     ]
    },
    {
     "name": "stdout",
     "output_type": "stream",
     "text": [
      "Epoch 467: 100%|██████████| 352/352 [00:13<00:00, 26.95it/s, v_num=0, train_loss_step=0.243, val_loss_step=0.182, val_loss_epoch=0.383, train_loss_epoch=0.282, learning_rate=1.09e-7]"
     ]
    },
    {
     "name": "stderr",
     "output_type": "stream",
     "text": [
      "Epoch 467, global step 164736: 'val_loss_epoch' was not in top 3\n"
     ]
    },
    {
     "name": "stdout",
     "output_type": "stream",
     "text": [
      "Epoch 468: 100%|██████████| 352/352 [00:13<00:00, 27.05it/s, v_num=0, train_loss_step=0.386, val_loss_step=0.184, val_loss_epoch=0.386, train_loss_epoch=0.284, learning_rate=1.09e-7] "
     ]
    },
    {
     "name": "stderr",
     "output_type": "stream",
     "text": [
      "Epoch 468, global step 165088: 'val_loss_epoch' was not in top 3\n"
     ]
    },
    {
     "name": "stdout",
     "output_type": "stream",
     "text": [
      "Epoch 469: 100%|██████████| 352/352 [00:13<00:00, 26.98it/s, v_num=0, train_loss_step=0.272, val_loss_step=0.183, val_loss_epoch=0.375, train_loss_epoch=0.286, learning_rate=1.09e-7]"
     ]
    },
    {
     "name": "stderr",
     "output_type": "stream",
     "text": [
      "Epoch 469, global step 165440: 'val_loss_epoch' was not in top 3\n"
     ]
    },
    {
     "name": "stdout",
     "output_type": "stream",
     "text": [
      "Epoch 470: 100%|██████████| 352/352 [00:12<00:00, 27.11it/s, v_num=0, train_loss_step=0.337, val_loss_step=0.184, val_loss_epoch=0.388, train_loss_epoch=0.280, learning_rate=1.09e-7] "
     ]
    },
    {
     "name": "stderr",
     "output_type": "stream",
     "text": [
      "Epoch 470, global step 165792: 'val_loss_epoch' was not in top 3\n"
     ]
    },
    {
     "name": "stdout",
     "output_type": "stream",
     "text": [
      "Epoch 471: 100%|██████████| 352/352 [00:13<00:00, 27.05it/s, v_num=0, train_loss_step=0.312, val_loss_step=0.183, val_loss_epoch=0.388, train_loss_epoch=0.279, learning_rate=1.09e-7] "
     ]
    },
    {
     "name": "stderr",
     "output_type": "stream",
     "text": [
      "Epoch 471, global step 166144: 'val_loss_epoch' was not in top 3\n"
     ]
    },
    {
     "name": "stdout",
     "output_type": "stream",
     "text": [
      "Epoch 472: 100%|██████████| 352/352 [00:12<00:00, 27.13it/s, v_num=0, train_loss_step=0.208, val_loss_step=0.178, val_loss_epoch=0.385, train_loss_epoch=0.278, learning_rate=1.09e-7] "
     ]
    },
    {
     "name": "stderr",
     "output_type": "stream",
     "text": [
      "Epoch 472, global step 166496: 'val_loss_epoch' was not in top 3\n"
     ]
    },
    {
     "name": "stdout",
     "output_type": "stream",
     "text": [
      "Epoch 473: 100%|██████████| 352/352 [00:12<00:00, 27.10it/s, v_num=0, train_loss_step=0.664, val_loss_step=0.182, val_loss_epoch=0.391, train_loss_epoch=0.279, learning_rate=1.09e-7] "
     ]
    },
    {
     "name": "stderr",
     "output_type": "stream",
     "text": [
      "Epoch 473, global step 166848: 'val_loss_epoch' was not in top 3\n"
     ]
    },
    {
     "name": "stdout",
     "output_type": "stream",
     "text": [
      "Epoch 474: 100%|██████████| 352/352 [00:13<00:00, 27.03it/s, v_num=0, train_loss_step=0.251, val_loss_step=0.186, val_loss_epoch=0.376, train_loss_epoch=0.281, learning_rate=1.09e-7]"
     ]
    },
    {
     "name": "stderr",
     "output_type": "stream",
     "text": [
      "Epoch 474, global step 167200: 'val_loss_epoch' was not in top 3\n"
     ]
    },
    {
     "name": "stdout",
     "output_type": "stream",
     "text": [
      "Epoch 475: 100%|██████████| 352/352 [00:13<00:00, 27.00it/s, v_num=0, train_loss_step=0.0784, val_loss_step=0.181, val_loss_epoch=0.382, train_loss_epoch=0.277, learning_rate=1.09e-7]"
     ]
    },
    {
     "name": "stderr",
     "output_type": "stream",
     "text": [
      "Epoch 475, global step 167552: 'val_loss_epoch' was not in top 3\n"
     ]
    },
    {
     "name": "stdout",
     "output_type": "stream",
     "text": [
      "Epoch 476: 100%|██████████| 352/352 [00:13<00:00, 27.06it/s, v_num=0, train_loss_step=0.107, val_loss_step=0.181, val_loss_epoch=0.384, train_loss_epoch=0.282, learning_rate=1.09e-7] "
     ]
    },
    {
     "name": "stderr",
     "output_type": "stream",
     "text": [
      "Epoch 476, global step 167904: 'val_loss_epoch' was not in top 3\n"
     ]
    },
    {
     "name": "stdout",
     "output_type": "stream",
     "text": [
      "Epoch 477: 100%|██████████| 352/352 [00:13<00:00, 27.00it/s, v_num=0, train_loss_step=0.242, val_loss_step=0.184, val_loss_epoch=0.383, train_loss_epoch=0.280, learning_rate=1.09e-7]"
     ]
    },
    {
     "name": "stderr",
     "output_type": "stream",
     "text": [
      "Epoch 477, global step 168256: 'val_loss_epoch' was not in top 3\n"
     ]
    },
    {
     "name": "stdout",
     "output_type": "stream",
     "text": [
      "Epoch 478: 100%|██████████| 352/352 [00:12<00:00, 27.10it/s, v_num=0, train_loss_step=0.399, val_loss_step=0.181, val_loss_epoch=0.381, train_loss_epoch=0.286, learning_rate=1.09e-7]"
     ]
    },
    {
     "name": "stderr",
     "output_type": "stream",
     "text": [
      "Epoch 478, global step 168608: 'val_loss_epoch' was not in top 3\n"
     ]
    },
    {
     "name": "stdout",
     "output_type": "stream",
     "text": [
      "Epoch 479: 100%|██████████| 352/352 [00:13<00:00, 27.00it/s, v_num=0, train_loss_step=0.188, val_loss_step=0.183, val_loss_epoch=0.384, train_loss_epoch=0.279, learning_rate=1.09e-7] "
     ]
    },
    {
     "name": "stderr",
     "output_type": "stream",
     "text": [
      "Epoch 479, global step 168960: 'val_loss_epoch' was not in top 3\n"
     ]
    },
    {
     "name": "stdout",
     "output_type": "stream",
     "text": [
      "Epoch 480: 100%|██████████| 352/352 [00:12<00:00, 27.08it/s, v_num=0, train_loss_step=0.601, val_loss_step=0.181, val_loss_epoch=0.383, train_loss_epoch=0.280, learning_rate=1.09e-7]"
     ]
    },
    {
     "name": "stderr",
     "output_type": "stream",
     "text": [
      "Epoch 480, global step 169312: 'val_loss_epoch' was not in top 3\n"
     ]
    },
    {
     "name": "stdout",
     "output_type": "stream",
     "text": [
      "Epoch 481: 100%|██████████| 352/352 [00:13<00:00, 27.02it/s, v_num=0, train_loss_step=0.210, val_loss_step=0.177, val_loss_epoch=0.391, train_loss_epoch=0.284, learning_rate=1.09e-7] "
     ]
    },
    {
     "name": "stderr",
     "output_type": "stream",
     "text": [
      "Epoch 481, global step 169664: 'val_loss_epoch' was not in top 3\n"
     ]
    },
    {
     "name": "stdout",
     "output_type": "stream",
     "text": [
      "Epoch 482: 100%|██████████| 352/352 [00:13<00:00, 27.03it/s, v_num=0, train_loss_step=0.214, val_loss_step=0.182, val_loss_epoch=0.377, train_loss_epoch=0.279, learning_rate=1.09e-7]"
     ]
    },
    {
     "name": "stderr",
     "output_type": "stream",
     "text": [
      "Epoch 482, global step 170016: 'val_loss_epoch' was not in top 3\n"
     ]
    },
    {
     "name": "stdout",
     "output_type": "stream",
     "text": [
      "Epoch 483: 100%|██████████| 352/352 [00:13<00:00, 27.08it/s, v_num=0, train_loss_step=0.338, val_loss_step=0.180, val_loss_epoch=0.391, train_loss_epoch=0.280, learning_rate=1.09e-7]"
     ]
    },
    {
     "name": "stderr",
     "output_type": "stream",
     "text": [
      "Epoch 483, global step 170368: 'val_loss_epoch' was not in top 3\n"
     ]
    },
    {
     "name": "stdout",
     "output_type": "stream",
     "text": [
      "Epoch 484: 100%|██████████| 352/352 [00:13<00:00, 27.05it/s, v_num=0, train_loss_step=0.204, val_loss_step=0.184, val_loss_epoch=0.380, train_loss_epoch=0.278, learning_rate=1.09e-7] "
     ]
    },
    {
     "name": "stderr",
     "output_type": "stream",
     "text": [
      "Epoch 484, global step 170720: 'val_loss_epoch' was not in top 3\n"
     ]
    },
    {
     "name": "stdout",
     "output_type": "stream",
     "text": [
      "Epoch 485: 100%|██████████| 352/352 [00:13<00:00, 27.05it/s, v_num=0, train_loss_step=0.191, val_loss_step=0.183, val_loss_epoch=0.377, train_loss_epoch=0.281, learning_rate=1.09e-7]"
     ]
    },
    {
     "name": "stderr",
     "output_type": "stream",
     "text": [
      "Epoch 485, global step 171072: 'val_loss_epoch' was not in top 3\n"
     ]
    },
    {
     "name": "stdout",
     "output_type": "stream",
     "text": [
      "Epoch 486: 100%|██████████| 352/352 [00:13<00:00, 26.96it/s, v_num=0, train_loss_step=0.339, val_loss_step=0.175, val_loss_epoch=0.396, train_loss_epoch=0.277, learning_rate=1.09e-7]"
     ]
    },
    {
     "name": "stderr",
     "output_type": "stream",
     "text": [
      "Epoch 486, global step 171424: 'val_loss_epoch' was not in top 3\n"
     ]
    },
    {
     "name": "stdout",
     "output_type": "stream",
     "text": [
      "Epoch 487: 100%|██████████| 352/352 [00:13<00:00, 27.02it/s, v_num=0, train_loss_step=0.497, val_loss_step=0.179, val_loss_epoch=0.392, train_loss_epoch=0.283, learning_rate=1.09e-7]"
     ]
    },
    {
     "name": "stderr",
     "output_type": "stream",
     "text": [
      "Epoch 487, global step 171776: 'val_loss_epoch' was not in top 3\n"
     ]
    },
    {
     "name": "stdout",
     "output_type": "stream",
     "text": [
      "Epoch 488: 100%|██████████| 352/352 [00:13<00:00, 27.02it/s, v_num=0, train_loss_step=0.157, val_loss_step=0.179, val_loss_epoch=0.387, train_loss_epoch=0.278, learning_rate=1.09e-7]"
     ]
    },
    {
     "name": "stderr",
     "output_type": "stream",
     "text": [
      "Epoch 488, global step 172128: 'val_loss_epoch' was not in top 3\n"
     ]
    },
    {
     "name": "stdout",
     "output_type": "stream",
     "text": [
      "Epoch 489: 100%|██████████| 352/352 [00:13<00:00, 27.05it/s, v_num=0, train_loss_step=0.230, val_loss_step=0.183, val_loss_epoch=0.379, train_loss_epoch=0.280, learning_rate=1.09e-7]"
     ]
    },
    {
     "name": "stderr",
     "output_type": "stream",
     "text": [
      "Epoch 489, global step 172480: 'val_loss_epoch' was not in top 3\n"
     ]
    },
    {
     "name": "stdout",
     "output_type": "stream",
     "text": [
      "Epoch 490: 100%|██████████| 352/352 [00:13<00:00, 27.08it/s, v_num=0, train_loss_step=0.180, val_loss_step=0.180, val_loss_epoch=0.390, train_loss_epoch=0.281, learning_rate=1.09e-7] "
     ]
    },
    {
     "name": "stderr",
     "output_type": "stream",
     "text": [
      "Epoch 490, global step 172832: 'val_loss_epoch' was not in top 3\n"
     ]
    },
    {
     "name": "stdout",
     "output_type": "stream",
     "text": [
      "Epoch 491: 100%|██████████| 352/352 [00:12<00:00, 27.16it/s, v_num=0, train_loss_step=0.183, val_loss_step=0.180, val_loss_epoch=0.378, train_loss_epoch=0.286, learning_rate=1.09e-7] "
     ]
    },
    {
     "name": "stderr",
     "output_type": "stream",
     "text": [
      "Epoch 491, global step 173184: 'val_loss_epoch' was not in top 3\n"
     ]
    },
    {
     "name": "stdout",
     "output_type": "stream",
     "text": [
      "Epoch 492: 100%|██████████| 352/352 [00:13<00:00, 27.03it/s, v_num=0, train_loss_step=0.216, val_loss_step=0.179, val_loss_epoch=0.388, train_loss_epoch=0.279, learning_rate=1.09e-7] "
     ]
    },
    {
     "name": "stderr",
     "output_type": "stream",
     "text": [
      "Epoch 492, global step 173536: 'val_loss_epoch' was not in top 3\n"
     ]
    },
    {
     "name": "stdout",
     "output_type": "stream",
     "text": [
      "Epoch 493: 100%|██████████| 352/352 [00:13<00:00, 27.05it/s, v_num=0, train_loss_step=0.235, val_loss_step=0.183, val_loss_epoch=0.382, train_loss_epoch=0.281, learning_rate=1.09e-7] "
     ]
    },
    {
     "name": "stderr",
     "output_type": "stream",
     "text": [
      "Epoch 493, global step 173888: 'val_loss_epoch' was not in top 3\n"
     ]
    },
    {
     "name": "stdout",
     "output_type": "stream",
     "text": [
      "Epoch 494: 100%|██████████| 352/352 [00:12<00:00, 27.12it/s, v_num=0, train_loss_step=0.373, val_loss_step=0.182, val_loss_epoch=0.387, train_loss_epoch=0.281, learning_rate=1.09e-7] "
     ]
    },
    {
     "name": "stderr",
     "output_type": "stream",
     "text": [
      "Epoch 494, global step 174240: 'val_loss_epoch' was not in top 3\n"
     ]
    },
    {
     "name": "stdout",
     "output_type": "stream",
     "text": [
      "Epoch 495: 100%|██████████| 352/352 [00:13<00:00, 27.02it/s, v_num=0, train_loss_step=0.293, val_loss_step=0.178, val_loss_epoch=0.391, train_loss_epoch=0.281, learning_rate=1.09e-7] "
     ]
    },
    {
     "name": "stderr",
     "output_type": "stream",
     "text": [
      "Epoch 495, global step 174592: 'val_loss_epoch' was not in top 3\n"
     ]
    },
    {
     "name": "stdout",
     "output_type": "stream",
     "text": [
      "Epoch 496: 100%|██████████| 352/352 [00:13<00:00, 27.06it/s, v_num=0, train_loss_step=0.0897, val_loss_step=0.182, val_loss_epoch=0.381, train_loss_epoch=0.279, learning_rate=1.09e-7]"
     ]
    },
    {
     "name": "stderr",
     "output_type": "stream",
     "text": [
      "Epoch 496, global step 174944: 'val_loss_epoch' was not in top 3\n"
     ]
    },
    {
     "name": "stdout",
     "output_type": "stream",
     "text": [
      "Epoch 497: 100%|██████████| 352/352 [00:13<00:00, 27.03it/s, v_num=0, train_loss_step=0.323, val_loss_step=0.178, val_loss_epoch=0.391, train_loss_epoch=0.281, learning_rate=1.09e-7] "
     ]
    },
    {
     "name": "stderr",
     "output_type": "stream",
     "text": [
      "Epoch 497, global step 175296: 'val_loss_epoch' was not in top 3\n"
     ]
    },
    {
     "name": "stdout",
     "output_type": "stream",
     "text": [
      "Epoch 498: 100%|██████████| 352/352 [00:13<00:00, 27.07it/s, v_num=0, train_loss_step=0.249, val_loss_step=0.179, val_loss_epoch=0.386, train_loss_epoch=0.283, learning_rate=1.09e-7]"
     ]
    },
    {
     "name": "stderr",
     "output_type": "stream",
     "text": [
      "Epoch 498, global step 175648: 'val_loss_epoch' was not in top 3\n"
     ]
    },
    {
     "name": "stdout",
     "output_type": "stream",
     "text": [
      "Epoch 499: 100%|██████████| 352/352 [00:13<00:00, 27.03it/s, v_num=0, train_loss_step=0.274, val_loss_step=0.178, val_loss_epoch=0.393, train_loss_epoch=0.280, learning_rate=1.09e-7]"
     ]
    },
    {
     "name": "stderr",
     "output_type": "stream",
     "text": [
      "Epoch 499, global step 176000: 'val_loss_epoch' was not in top 3\n",
      "`Trainer.fit` stopped: `max_epochs=500` reached.\n"
     ]
    },
    {
     "name": "stdout",
     "output_type": "stream",
     "text": [
      "Epoch 499: 100%|██████████| 352/352 [00:13<00:00, 27.00it/s, v_num=0, train_loss_step=0.274, val_loss_step=0.178, val_loss_epoch=0.393, train_loss_epoch=0.280, learning_rate=1.09e-7]\n"
     ]
    }
   ],
   "source": [
    "from point_defect_learn.main import main\n",
    "main()"
   ]
  }
 ],
 "metadata": {
  "kernelspec": {
   "display_name": "diffpy-cmi",
   "language": "python",
   "name": "python3"
  },
  "language_info": {
   "codemirror_mode": {
    "name": "ipython",
    "version": 3
   },
   "file_extension": ".py",
   "mimetype": "text/x-python",
   "name": "python",
   "nbconvert_exporter": "python",
   "pygments_lexer": "ipython3",
   "version": "3.11.5"
  }
 },
 "nbformat": 4,
 "nbformat_minor": 2
}
